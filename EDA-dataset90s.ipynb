{
 "cells": [
  {
   "cell_type": "code",
   "execution_count": 1,
   "metadata": {},
   "outputs": [],
   "source": [
    "import pandas as pd\n",
    "import numpy as np\n",
    "import matplotlib.pyplot as plt\n",
    "import seaborn as sns"
   ]
  },
  {
   "cell_type": "code",
   "execution_count": 2,
   "metadata": {},
   "outputs": [],
   "source": [
    "data = pd.read_csv('dataset-of-90s.csv')"
   ]
  },
  {
   "cell_type": "code",
   "execution_count": 3,
   "metadata": {},
   "outputs": [
    {
     "data": {
      "text/html": [
       "<div>\n",
       "<style scoped>\n",
       "    .dataframe tbody tr th:only-of-type {\n",
       "        vertical-align: middle;\n",
       "    }\n",
       "\n",
       "    .dataframe tbody tr th {\n",
       "        vertical-align: top;\n",
       "    }\n",
       "\n",
       "    .dataframe thead th {\n",
       "        text-align: right;\n",
       "    }\n",
       "</style>\n",
       "<table border=\"1\" class=\"dataframe\">\n",
       "  <thead>\n",
       "    <tr style=\"text-align: right;\">\n",
       "      <th></th>\n",
       "      <th>track</th>\n",
       "      <th>artist</th>\n",
       "      <th>uri</th>\n",
       "      <th>danceability</th>\n",
       "      <th>energy</th>\n",
       "      <th>key</th>\n",
       "      <th>loudness</th>\n",
       "      <th>mode</th>\n",
       "      <th>speechiness</th>\n",
       "      <th>acousticness</th>\n",
       "      <th>instrumentalness</th>\n",
       "      <th>liveness</th>\n",
       "      <th>valence</th>\n",
       "      <th>tempo</th>\n",
       "      <th>duration_ms</th>\n",
       "      <th>time_signature</th>\n",
       "      <th>chorus_hit</th>\n",
       "      <th>sections</th>\n",
       "      <th>target</th>\n",
       "    </tr>\n",
       "  </thead>\n",
       "  <tbody>\n",
       "    <tr>\n",
       "      <th>0</th>\n",
       "      <td>Misty Roses</td>\n",
       "      <td>Astrud Gilberto</td>\n",
       "      <td>spotify:track:50RBM1j1Dw7WYmsGsWg9Tm</td>\n",
       "      <td>0.527</td>\n",
       "      <td>0.316</td>\n",
       "      <td>1</td>\n",
       "      <td>-15.769</td>\n",
       "      <td>1</td>\n",
       "      <td>0.0310</td>\n",
       "      <td>0.693000</td>\n",
       "      <td>0.00699</td>\n",
       "      <td>0.1680</td>\n",
       "      <td>0.543</td>\n",
       "      <td>116.211</td>\n",
       "      <td>158840</td>\n",
       "      <td>4</td>\n",
       "      <td>53.89523</td>\n",
       "      <td>6</td>\n",
       "      <td>0</td>\n",
       "    </tr>\n",
       "    <tr>\n",
       "      <th>1</th>\n",
       "      <td>Never Ever</td>\n",
       "      <td>All Saints</td>\n",
       "      <td>spotify:track:5FTz9qQ94PyUHETyAyfYZN</td>\n",
       "      <td>0.738</td>\n",
       "      <td>0.541</td>\n",
       "      <td>1</td>\n",
       "      <td>-5.485</td>\n",
       "      <td>1</td>\n",
       "      <td>0.0311</td>\n",
       "      <td>0.559000</td>\n",
       "      <td>0.00000</td>\n",
       "      <td>0.0492</td>\n",
       "      <td>0.309</td>\n",
       "      <td>134.187</td>\n",
       "      <td>387573</td>\n",
       "      <td>4</td>\n",
       "      <td>32.16853</td>\n",
       "      <td>16</td>\n",
       "      <td>1</td>\n",
       "    </tr>\n",
       "    <tr>\n",
       "      <th>2</th>\n",
       "      <td>Soul Sermon</td>\n",
       "      <td>Gregg Karukas</td>\n",
       "      <td>spotify:track:6m24oe3lk1UMxq9zq4iPFi</td>\n",
       "      <td>0.736</td>\n",
       "      <td>0.419</td>\n",
       "      <td>0</td>\n",
       "      <td>-10.662</td>\n",
       "      <td>1</td>\n",
       "      <td>0.0300</td>\n",
       "      <td>0.693000</td>\n",
       "      <td>0.49500</td>\n",
       "      <td>0.0809</td>\n",
       "      <td>0.265</td>\n",
       "      <td>93.982</td>\n",
       "      <td>237267</td>\n",
       "      <td>4</td>\n",
       "      <td>42.05369</td>\n",
       "      <td>9</td>\n",
       "      <td>0</td>\n",
       "    </tr>\n",
       "    <tr>\n",
       "      <th>3</th>\n",
       "      <td>Clarinet Marmalade - Live</td>\n",
       "      <td>Alton Purnell</td>\n",
       "      <td>spotify:track:5FOXuiLI6knVtgMUjWKj6x</td>\n",
       "      <td>0.565</td>\n",
       "      <td>0.594</td>\n",
       "      <td>5</td>\n",
       "      <td>-13.086</td>\n",
       "      <td>1</td>\n",
       "      <td>0.0646</td>\n",
       "      <td>0.655000</td>\n",
       "      <td>0.92600</td>\n",
       "      <td>0.6750</td>\n",
       "      <td>0.763</td>\n",
       "      <td>114.219</td>\n",
       "      <td>375933</td>\n",
       "      <td>4</td>\n",
       "      <td>80.99693</td>\n",
       "      <td>10</td>\n",
       "      <td>0</td>\n",
       "    </tr>\n",
       "    <tr>\n",
       "      <th>4</th>\n",
       "      <td>До смерті і довше - Drum &amp; Base and Rock Remix</td>\n",
       "      <td>Skryabin</td>\n",
       "      <td>spotify:track:6CxyIPTqSPvAPXfrIZczs4</td>\n",
       "      <td>0.513</td>\n",
       "      <td>0.760</td>\n",
       "      <td>4</td>\n",
       "      <td>-10.077</td>\n",
       "      <td>1</td>\n",
       "      <td>0.0355</td>\n",
       "      <td>0.000017</td>\n",
       "      <td>0.00339</td>\n",
       "      <td>0.1530</td>\n",
       "      <td>0.961</td>\n",
       "      <td>153.166</td>\n",
       "      <td>430653</td>\n",
       "      <td>4</td>\n",
       "      <td>25.57331</td>\n",
       "      <td>20</td>\n",
       "      <td>0</td>\n",
       "    </tr>\n",
       "  </tbody>\n",
       "</table>\n",
       "</div>"
      ],
      "text/plain": [
       "                                            track           artist  \\\n",
       "0                                     Misty Roses  Astrud Gilberto   \n",
       "1                                      Never Ever       All Saints   \n",
       "2                                     Soul Sermon    Gregg Karukas   \n",
       "3                       Clarinet Marmalade - Live    Alton Purnell   \n",
       "4  До смерті і довше - Drum & Base and Rock Remix         Skryabin   \n",
       "\n",
       "                                    uri  danceability  energy  key  loudness  \\\n",
       "0  spotify:track:50RBM1j1Dw7WYmsGsWg9Tm         0.527   0.316    1   -15.769   \n",
       "1  spotify:track:5FTz9qQ94PyUHETyAyfYZN         0.738   0.541    1    -5.485   \n",
       "2  spotify:track:6m24oe3lk1UMxq9zq4iPFi         0.736   0.419    0   -10.662   \n",
       "3  spotify:track:5FOXuiLI6knVtgMUjWKj6x         0.565   0.594    5   -13.086   \n",
       "4  spotify:track:6CxyIPTqSPvAPXfrIZczs4         0.513   0.760    4   -10.077   \n",
       "\n",
       "   mode  speechiness  acousticness  instrumentalness  liveness  valence  \\\n",
       "0     1       0.0310      0.693000           0.00699    0.1680    0.543   \n",
       "1     1       0.0311      0.559000           0.00000    0.0492    0.309   \n",
       "2     1       0.0300      0.693000           0.49500    0.0809    0.265   \n",
       "3     1       0.0646      0.655000           0.92600    0.6750    0.763   \n",
       "4     1       0.0355      0.000017           0.00339    0.1530    0.961   \n",
       "\n",
       "     tempo  duration_ms  time_signature  chorus_hit  sections  target  \n",
       "0  116.211       158840               4    53.89523         6       0  \n",
       "1  134.187       387573               4    32.16853        16       1  \n",
       "2   93.982       237267               4    42.05369         9       0  \n",
       "3  114.219       375933               4    80.99693        10       0  \n",
       "4  153.166       430653               4    25.57331        20       0  "
      ]
     },
     "execution_count": 3,
     "metadata": {},
     "output_type": "execute_result"
    }
   ],
   "source": [
    "data.head()"
   ]
  },
  {
   "cell_type": "markdown",
   "metadata": {},
   "source": [
    "# checking basic integrity"
   ]
  },
  {
   "cell_type": "code",
   "execution_count": 4,
   "metadata": {},
   "outputs": [
    {
     "data": {
      "text/plain": [
       "(5520, 19)"
      ]
     },
     "execution_count": 4,
     "metadata": {},
     "output_type": "execute_result"
    }
   ],
   "source": [
    "data.shape"
   ]
  },
  {
   "cell_type": "code",
   "execution_count": 5,
   "metadata": {},
   "outputs": [
    {
     "name": "stdout",
     "output_type": "stream",
     "text": [
      "<class 'pandas.core.frame.DataFrame'>\n",
      "RangeIndex: 5520 entries, 0 to 5519\n",
      "Data columns (total 19 columns):\n",
      "track               5520 non-null object\n",
      "artist              5520 non-null object\n",
      "uri                 5520 non-null object\n",
      "danceability        5520 non-null float64\n",
      "energy              5520 non-null float64\n",
      "key                 5520 non-null int64\n",
      "loudness            5520 non-null float64\n",
      "mode                5520 non-null int64\n",
      "speechiness         5520 non-null float64\n",
      "acousticness        5520 non-null float64\n",
      "instrumentalness    5520 non-null float64\n",
      "liveness            5520 non-null float64\n",
      "valence             5520 non-null float64\n",
      "tempo               5520 non-null float64\n",
      "duration_ms         5520 non-null int64\n",
      "time_signature      5520 non-null int64\n",
      "chorus_hit          5520 non-null float64\n",
      "sections            5520 non-null int64\n",
      "target              5520 non-null int64\n",
      "dtypes: float64(10), int64(6), object(3)\n",
      "memory usage: 819.5+ KB\n"
     ]
    }
   ],
   "source": [
    "data.info() "
   ]
  },
  {
   "cell_type": "markdown",
   "metadata": {},
   "source": [
    "# no. of rows = non null values for each column -> no null value"
   ]
  },
  {
   "cell_type": "code",
   "execution_count": 6,
   "metadata": {},
   "outputs": [
    {
     "data": {
      "text/html": [
       "<div>\n",
       "<style scoped>\n",
       "    .dataframe tbody tr th:only-of-type {\n",
       "        vertical-align: middle;\n",
       "    }\n",
       "\n",
       "    .dataframe tbody tr th {\n",
       "        vertical-align: top;\n",
       "    }\n",
       "\n",
       "    .dataframe thead th {\n",
       "        text-align: right;\n",
       "    }\n",
       "</style>\n",
       "<table border=\"1\" class=\"dataframe\">\n",
       "  <thead>\n",
       "    <tr style=\"text-align: right;\">\n",
       "      <th></th>\n",
       "      <th>track</th>\n",
       "      <th>artist</th>\n",
       "      <th>uri</th>\n",
       "      <th>danceability</th>\n",
       "      <th>energy</th>\n",
       "      <th>key</th>\n",
       "      <th>loudness</th>\n",
       "      <th>mode</th>\n",
       "      <th>speechiness</th>\n",
       "      <th>acousticness</th>\n",
       "      <th>instrumentalness</th>\n",
       "      <th>liveness</th>\n",
       "      <th>valence</th>\n",
       "      <th>tempo</th>\n",
       "      <th>duration_ms</th>\n",
       "      <th>time_signature</th>\n",
       "      <th>chorus_hit</th>\n",
       "      <th>sections</th>\n",
       "      <th>target</th>\n",
       "    </tr>\n",
       "  </thead>\n",
       "  <tbody>\n",
       "    <tr>\n",
       "      <th>0</th>\n",
       "      <td>Misty Roses</td>\n",
       "      <td>Astrud Gilberto</td>\n",
       "      <td>spotify:track:50RBM1j1Dw7WYmsGsWg9Tm</td>\n",
       "      <td>0.527</td>\n",
       "      <td>0.316</td>\n",
       "      <td>1</td>\n",
       "      <td>-15.769</td>\n",
       "      <td>1</td>\n",
       "      <td>0.0310</td>\n",
       "      <td>0.693000</td>\n",
       "      <td>0.00699</td>\n",
       "      <td>0.1680</td>\n",
       "      <td>0.543</td>\n",
       "      <td>116.211</td>\n",
       "      <td>158840</td>\n",
       "      <td>4</td>\n",
       "      <td>53.89523</td>\n",
       "      <td>6</td>\n",
       "      <td>0</td>\n",
       "    </tr>\n",
       "    <tr>\n",
       "      <th>1</th>\n",
       "      <td>Never Ever</td>\n",
       "      <td>All Saints</td>\n",
       "      <td>spotify:track:5FTz9qQ94PyUHETyAyfYZN</td>\n",
       "      <td>0.738</td>\n",
       "      <td>0.541</td>\n",
       "      <td>1</td>\n",
       "      <td>-5.485</td>\n",
       "      <td>1</td>\n",
       "      <td>0.0311</td>\n",
       "      <td>0.559000</td>\n",
       "      <td>0.00000</td>\n",
       "      <td>0.0492</td>\n",
       "      <td>0.309</td>\n",
       "      <td>134.187</td>\n",
       "      <td>387573</td>\n",
       "      <td>4</td>\n",
       "      <td>32.16853</td>\n",
       "      <td>16</td>\n",
       "      <td>1</td>\n",
       "    </tr>\n",
       "    <tr>\n",
       "      <th>2</th>\n",
       "      <td>Soul Sermon</td>\n",
       "      <td>Gregg Karukas</td>\n",
       "      <td>spotify:track:6m24oe3lk1UMxq9zq4iPFi</td>\n",
       "      <td>0.736</td>\n",
       "      <td>0.419</td>\n",
       "      <td>0</td>\n",
       "      <td>-10.662</td>\n",
       "      <td>1</td>\n",
       "      <td>0.0300</td>\n",
       "      <td>0.693000</td>\n",
       "      <td>0.49500</td>\n",
       "      <td>0.0809</td>\n",
       "      <td>0.265</td>\n",
       "      <td>93.982</td>\n",
       "      <td>237267</td>\n",
       "      <td>4</td>\n",
       "      <td>42.05369</td>\n",
       "      <td>9</td>\n",
       "      <td>0</td>\n",
       "    </tr>\n",
       "    <tr>\n",
       "      <th>3</th>\n",
       "      <td>Clarinet Marmalade - Live</td>\n",
       "      <td>Alton Purnell</td>\n",
       "      <td>spotify:track:5FOXuiLI6knVtgMUjWKj6x</td>\n",
       "      <td>0.565</td>\n",
       "      <td>0.594</td>\n",
       "      <td>5</td>\n",
       "      <td>-13.086</td>\n",
       "      <td>1</td>\n",
       "      <td>0.0646</td>\n",
       "      <td>0.655000</td>\n",
       "      <td>0.92600</td>\n",
       "      <td>0.6750</td>\n",
       "      <td>0.763</td>\n",
       "      <td>114.219</td>\n",
       "      <td>375933</td>\n",
       "      <td>4</td>\n",
       "      <td>80.99693</td>\n",
       "      <td>10</td>\n",
       "      <td>0</td>\n",
       "    </tr>\n",
       "    <tr>\n",
       "      <th>4</th>\n",
       "      <td>До смерті і довше - Drum &amp; Base and Rock Remix</td>\n",
       "      <td>Skryabin</td>\n",
       "      <td>spotify:track:6CxyIPTqSPvAPXfrIZczs4</td>\n",
       "      <td>0.513</td>\n",
       "      <td>0.760</td>\n",
       "      <td>4</td>\n",
       "      <td>-10.077</td>\n",
       "      <td>1</td>\n",
       "      <td>0.0355</td>\n",
       "      <td>0.000017</td>\n",
       "      <td>0.00339</td>\n",
       "      <td>0.1530</td>\n",
       "      <td>0.961</td>\n",
       "      <td>153.166</td>\n",
       "      <td>430653</td>\n",
       "      <td>4</td>\n",
       "      <td>25.57331</td>\n",
       "      <td>20</td>\n",
       "      <td>0</td>\n",
       "    </tr>\n",
       "  </tbody>\n",
       "</table>\n",
       "</div>"
      ],
      "text/plain": [
       "                                            track           artist  \\\n",
       "0                                     Misty Roses  Astrud Gilberto   \n",
       "1                                      Never Ever       All Saints   \n",
       "2                                     Soul Sermon    Gregg Karukas   \n",
       "3                       Clarinet Marmalade - Live    Alton Purnell   \n",
       "4  До смерті і довше - Drum & Base and Rock Remix         Skryabin   \n",
       "\n",
       "                                    uri  danceability  energy  key  loudness  \\\n",
       "0  spotify:track:50RBM1j1Dw7WYmsGsWg9Tm         0.527   0.316    1   -15.769   \n",
       "1  spotify:track:5FTz9qQ94PyUHETyAyfYZN         0.738   0.541    1    -5.485   \n",
       "2  spotify:track:6m24oe3lk1UMxq9zq4iPFi         0.736   0.419    0   -10.662   \n",
       "3  spotify:track:5FOXuiLI6knVtgMUjWKj6x         0.565   0.594    5   -13.086   \n",
       "4  spotify:track:6CxyIPTqSPvAPXfrIZczs4         0.513   0.760    4   -10.077   \n",
       "\n",
       "   mode  speechiness  acousticness  instrumentalness  liveness  valence  \\\n",
       "0     1       0.0310      0.693000           0.00699    0.1680    0.543   \n",
       "1     1       0.0311      0.559000           0.00000    0.0492    0.309   \n",
       "2     1       0.0300      0.693000           0.49500    0.0809    0.265   \n",
       "3     1       0.0646      0.655000           0.92600    0.6750    0.763   \n",
       "4     1       0.0355      0.000017           0.00339    0.1530    0.961   \n",
       "\n",
       "     tempo  duration_ms  time_signature  chorus_hit  sections  target  \n",
       "0  116.211       158840               4    53.89523         6       0  \n",
       "1  134.187       387573               4    32.16853        16       1  \n",
       "2   93.982       237267               4    42.05369         9       0  \n",
       "3  114.219       375933               4    80.99693        10       0  \n",
       "4  153.166       430653               4    25.57331        20       0  "
      ]
     },
     "execution_count": 6,
     "metadata": {},
     "output_type": "execute_result"
    }
   ],
   "source": [
    "data.head()"
   ]
  },
  {
   "cell_type": "markdown",
   "metadata": {},
   "source": [
    "# checking unique records using uri"
   ]
  },
  {
   "cell_type": "code",
   "execution_count": 7,
   "metadata": {},
   "outputs": [],
   "source": [
    "# extracting exact id\n",
    "def extract(x):\n",
    "    splited_list = x.split(':') # spliting text at colons\n",
    "    return splited_list[2]      # returning third element\n",
    "    \n",
    "data['uri'] = data['uri'].apply(extract)  "
   ]
  },
  {
   "cell_type": "code",
   "execution_count": 8,
   "metadata": {},
   "outputs": [
    {
     "data": {
      "text/html": [
       "<div>\n",
       "<style scoped>\n",
       "    .dataframe tbody tr th:only-of-type {\n",
       "        vertical-align: middle;\n",
       "    }\n",
       "\n",
       "    .dataframe tbody tr th {\n",
       "        vertical-align: top;\n",
       "    }\n",
       "\n",
       "    .dataframe thead th {\n",
       "        text-align: right;\n",
       "    }\n",
       "</style>\n",
       "<table border=\"1\" class=\"dataframe\">\n",
       "  <thead>\n",
       "    <tr style=\"text-align: right;\">\n",
       "      <th></th>\n",
       "      <th>track</th>\n",
       "      <th>artist</th>\n",
       "      <th>uri</th>\n",
       "      <th>danceability</th>\n",
       "      <th>energy</th>\n",
       "      <th>key</th>\n",
       "      <th>loudness</th>\n",
       "      <th>mode</th>\n",
       "      <th>speechiness</th>\n",
       "      <th>acousticness</th>\n",
       "      <th>instrumentalness</th>\n",
       "      <th>liveness</th>\n",
       "      <th>valence</th>\n",
       "      <th>tempo</th>\n",
       "      <th>duration_ms</th>\n",
       "      <th>time_signature</th>\n",
       "      <th>chorus_hit</th>\n",
       "      <th>sections</th>\n",
       "      <th>target</th>\n",
       "    </tr>\n",
       "  </thead>\n",
       "  <tbody>\n",
       "    <tr>\n",
       "      <th>0</th>\n",
       "      <td>Misty Roses</td>\n",
       "      <td>Astrud Gilberto</td>\n",
       "      <td>50RBM1j1Dw7WYmsGsWg9Tm</td>\n",
       "      <td>0.527</td>\n",
       "      <td>0.316</td>\n",
       "      <td>1</td>\n",
       "      <td>-15.769</td>\n",
       "      <td>1</td>\n",
       "      <td>0.0310</td>\n",
       "      <td>0.693000</td>\n",
       "      <td>0.00699</td>\n",
       "      <td>0.1680</td>\n",
       "      <td>0.543</td>\n",
       "      <td>116.211</td>\n",
       "      <td>158840</td>\n",
       "      <td>4</td>\n",
       "      <td>53.89523</td>\n",
       "      <td>6</td>\n",
       "      <td>0</td>\n",
       "    </tr>\n",
       "    <tr>\n",
       "      <th>1</th>\n",
       "      <td>Never Ever</td>\n",
       "      <td>All Saints</td>\n",
       "      <td>5FTz9qQ94PyUHETyAyfYZN</td>\n",
       "      <td>0.738</td>\n",
       "      <td>0.541</td>\n",
       "      <td>1</td>\n",
       "      <td>-5.485</td>\n",
       "      <td>1</td>\n",
       "      <td>0.0311</td>\n",
       "      <td>0.559000</td>\n",
       "      <td>0.00000</td>\n",
       "      <td>0.0492</td>\n",
       "      <td>0.309</td>\n",
       "      <td>134.187</td>\n",
       "      <td>387573</td>\n",
       "      <td>4</td>\n",
       "      <td>32.16853</td>\n",
       "      <td>16</td>\n",
       "      <td>1</td>\n",
       "    </tr>\n",
       "    <tr>\n",
       "      <th>2</th>\n",
       "      <td>Soul Sermon</td>\n",
       "      <td>Gregg Karukas</td>\n",
       "      <td>6m24oe3lk1UMxq9zq4iPFi</td>\n",
       "      <td>0.736</td>\n",
       "      <td>0.419</td>\n",
       "      <td>0</td>\n",
       "      <td>-10.662</td>\n",
       "      <td>1</td>\n",
       "      <td>0.0300</td>\n",
       "      <td>0.693000</td>\n",
       "      <td>0.49500</td>\n",
       "      <td>0.0809</td>\n",
       "      <td>0.265</td>\n",
       "      <td>93.982</td>\n",
       "      <td>237267</td>\n",
       "      <td>4</td>\n",
       "      <td>42.05369</td>\n",
       "      <td>9</td>\n",
       "      <td>0</td>\n",
       "    </tr>\n",
       "    <tr>\n",
       "      <th>3</th>\n",
       "      <td>Clarinet Marmalade - Live</td>\n",
       "      <td>Alton Purnell</td>\n",
       "      <td>5FOXuiLI6knVtgMUjWKj6x</td>\n",
       "      <td>0.565</td>\n",
       "      <td>0.594</td>\n",
       "      <td>5</td>\n",
       "      <td>-13.086</td>\n",
       "      <td>1</td>\n",
       "      <td>0.0646</td>\n",
       "      <td>0.655000</td>\n",
       "      <td>0.92600</td>\n",
       "      <td>0.6750</td>\n",
       "      <td>0.763</td>\n",
       "      <td>114.219</td>\n",
       "      <td>375933</td>\n",
       "      <td>4</td>\n",
       "      <td>80.99693</td>\n",
       "      <td>10</td>\n",
       "      <td>0</td>\n",
       "    </tr>\n",
       "    <tr>\n",
       "      <th>4</th>\n",
       "      <td>До смерті і довше - Drum &amp; Base and Rock Remix</td>\n",
       "      <td>Skryabin</td>\n",
       "      <td>6CxyIPTqSPvAPXfrIZczs4</td>\n",
       "      <td>0.513</td>\n",
       "      <td>0.760</td>\n",
       "      <td>4</td>\n",
       "      <td>-10.077</td>\n",
       "      <td>1</td>\n",
       "      <td>0.0355</td>\n",
       "      <td>0.000017</td>\n",
       "      <td>0.00339</td>\n",
       "      <td>0.1530</td>\n",
       "      <td>0.961</td>\n",
       "      <td>153.166</td>\n",
       "      <td>430653</td>\n",
       "      <td>4</td>\n",
       "      <td>25.57331</td>\n",
       "      <td>20</td>\n",
       "      <td>0</td>\n",
       "    </tr>\n",
       "  </tbody>\n",
       "</table>\n",
       "</div>"
      ],
      "text/plain": [
       "                                            track           artist  \\\n",
       "0                                     Misty Roses  Astrud Gilberto   \n",
       "1                                      Never Ever       All Saints   \n",
       "2                                     Soul Sermon    Gregg Karukas   \n",
       "3                       Clarinet Marmalade - Live    Alton Purnell   \n",
       "4  До смерті і довше - Drum & Base and Rock Remix         Skryabin   \n",
       "\n",
       "                      uri  danceability  energy  key  loudness  mode  \\\n",
       "0  50RBM1j1Dw7WYmsGsWg9Tm         0.527   0.316    1   -15.769     1   \n",
       "1  5FTz9qQ94PyUHETyAyfYZN         0.738   0.541    1    -5.485     1   \n",
       "2  6m24oe3lk1UMxq9zq4iPFi         0.736   0.419    0   -10.662     1   \n",
       "3  5FOXuiLI6knVtgMUjWKj6x         0.565   0.594    5   -13.086     1   \n",
       "4  6CxyIPTqSPvAPXfrIZczs4         0.513   0.760    4   -10.077     1   \n",
       "\n",
       "   speechiness  acousticness  instrumentalness  liveness  valence    tempo  \\\n",
       "0       0.0310      0.693000           0.00699    0.1680    0.543  116.211   \n",
       "1       0.0311      0.559000           0.00000    0.0492    0.309  134.187   \n",
       "2       0.0300      0.693000           0.49500    0.0809    0.265   93.982   \n",
       "3       0.0646      0.655000           0.92600    0.6750    0.763  114.219   \n",
       "4       0.0355      0.000017           0.00339    0.1530    0.961  153.166   \n",
       "\n",
       "   duration_ms  time_signature  chorus_hit  sections  target  \n",
       "0       158840               4    53.89523         6       0  \n",
       "1       387573               4    32.16853        16       1  \n",
       "2       237267               4    42.05369         9       0  \n",
       "3       375933               4    80.99693        10       0  \n",
       "4       430653               4    25.57331        20       0  "
      ]
     },
     "execution_count": 8,
     "metadata": {},
     "output_type": "execute_result"
    }
   ],
   "source": [
    "data.head() #successfully extracted the id"
   ]
  },
  {
   "cell_type": "markdown",
   "metadata": {},
   "source": [
    "# checking for duplicate rows"
   ]
  },
  {
   "cell_type": "code",
   "execution_count": 9,
   "metadata": {},
   "outputs": [
    {
     "data": {
      "text/plain": [
       "(5506,)"
      ]
     },
     "execution_count": 9,
     "metadata": {},
     "output_type": "execute_result"
    }
   ],
   "source": [
    "data['uri'].nunique(), "
   ]
  },
  {
   "cell_type": "code",
   "execution_count": 10,
   "metadata": {},
   "outputs": [
    {
     "data": {
      "text/plain": [
       "7bp5DfkdK1OAvNJ1U4HfDA    2\n",
       "6wetvpPWooBdmAEOKnDhpo    2\n",
       "69uJi5QsBtqlYkGURTBli8    2\n",
       "4RADreHMvMkZwsPgPr9z5c    2\n",
       "6uImoDq9R3ZfJOPXkLdyWo    2\n",
       "                         ..\n",
       "42PgBU5zsMItWXs9Gd9MIP    1\n",
       "0DWAnPgkLR2X4ys9OJCaZT    1\n",
       "2QBVtTczFA5YLg8u1Gecwn    1\n",
       "2ZK3pWvGZTlklRiDqNdnUf    1\n",
       "2qx8wHW2Npc2wD1ONfR8Al    1\n",
       "Name: uri, Length: 5506, dtype: int64"
      ]
     },
     "execution_count": 10,
     "metadata": {},
     "output_type": "execute_result"
    }
   ],
   "source": [
    "data['uri'].value_counts()\n"
   ]
  },
  {
   "cell_type": "code",
   "execution_count": 11,
   "metadata": {},
   "outputs": [
    {
     "data": {
      "text/plain": [
       "array([2, 1], dtype=int64)"
      ]
     },
     "execution_count": 11,
     "metadata": {},
     "output_type": "execute_result"
    }
   ],
   "source": [
    "data['uri'].value_counts().unique() "
   ]
  },
  {
   "cell_type": "code",
   "execution_count": 12,
   "metadata": {},
   "outputs": [],
   "source": [
    "dupe_mask = data['uri'].value_counts()==2"
   ]
  },
  {
   "cell_type": "code",
   "execution_count": 13,
   "metadata": {},
   "outputs": [
    {
     "data": {
      "text/plain": [
       "(<bound method IndexOpsMixin.value_counts of 7bp5DfkdK1OAvNJ1U4HfDA    True\n",
       " 6wetvpPWooBdmAEOKnDhpo    True\n",
       " 69uJi5QsBtqlYkGURTBli8    True\n",
       " 4RADreHMvMkZwsPgPr9z5c    True\n",
       " 6uImoDq9R3ZfJOPXkLdyWo    True\n",
       " 2rVXKUyHxMoWk7vTyOcYIH    True\n",
       " 5GorFaKkP2mLREQvhSblIg    True\n",
       " 2drQ6wg2hdl6RDslarifh8    True\n",
       " 3CO19cTl5zzlWx9GWEpOhD    True\n",
       " 1blZP5x1XQSqQFpTy12rFh    True\n",
       " 3xSu3S8v206qwhob9N2LGJ    True\n",
       " 2FJiNQbxS33DkE0w5IXoxc    True\n",
       " 7okbmgA8lRBGl5limZ7LFM    True\n",
       " 5nHQ2YPVcddwJz71aupuvz    True\n",
       " Name: uri, dtype: bool>, (14,))"
      ]
     },
     "execution_count": 13,
     "metadata": {},
     "output_type": "execute_result"
    }
   ],
   "source": [
    "dupe_ids = dupe_mask[dupe_mask]\n",
    "\n",
    "dupe_ids.value_counts,  dupe_ids.shape  "
   ]
  },
  {
   "cell_type": "code",
   "execution_count": 14,
   "metadata": {},
   "outputs": [
    {
     "data": {
      "text/plain": [
       "['7bp5DfkdK1OAvNJ1U4HfDA',\n",
       " '6wetvpPWooBdmAEOKnDhpo',\n",
       " '69uJi5QsBtqlYkGURTBli8',\n",
       " '4RADreHMvMkZwsPgPr9z5c',\n",
       " '6uImoDq9R3ZfJOPXkLdyWo',\n",
       " '2rVXKUyHxMoWk7vTyOcYIH',\n",
       " '5GorFaKkP2mLREQvhSblIg',\n",
       " '2drQ6wg2hdl6RDslarifh8',\n",
       " '3CO19cTl5zzlWx9GWEpOhD',\n",
       " '1blZP5x1XQSqQFpTy12rFh',\n",
       " '3xSu3S8v206qwhob9N2LGJ',\n",
       " '2FJiNQbxS33DkE0w5IXoxc',\n",
       " '7okbmgA8lRBGl5limZ7LFM',\n",
       " '5nHQ2YPVcddwJz71aupuvz']"
      ]
     },
     "execution_count": 14,
     "metadata": {},
     "output_type": "execute_result"
    }
   ],
   "source": [
    "#converting duplicate ids into a list\n",
    "dupe_ids  = dupe_ids.index\n",
    "dupe_ids = dupe_ids.tolist()\n",
    "dupe_ids"
   ]
  },
  {
   "cell_type": "code",
   "execution_count": 15,
   "metadata": {},
   "outputs": [],
   "source": [
    "duplicate_index = data.loc[data['uri'].isin(dupe_ids),:].index  # all the duplicted records\n",
    "duplicate_index = duplicate_index.tolist()"
   ]
  },
  {
   "cell_type": "markdown",
   "metadata": {},
   "source": [
    "# We will be removing all the duplication as they are few compared to data"
   ]
  },
  {
   "cell_type": "code",
   "execution_count": 16,
   "metadata": {},
   "outputs": [
    {
     "data": {
      "text/plain": [
       "(5492, 19)"
      ]
     },
     "execution_count": 16,
     "metadata": {},
     "output_type": "execute_result"
    }
   ],
   "source": [
    "data.drop(duplicate_index,axis=0,inplace=True)\n",
    "data.shape"
   ]
  },
  {
   "cell_type": "code",
   "execution_count": 17,
   "metadata": {},
   "outputs": [
    {
     "name": "stdout",
     "output_type": "stream",
     "text": [
      "<class 'pandas.core.frame.DataFrame'>\n",
      "Int64Index: 5492 entries, 0 to 5519\n",
      "Data columns (total 19 columns):\n",
      "track               5492 non-null object\n",
      "artist              5492 non-null object\n",
      "uri                 5492 non-null object\n",
      "danceability        5492 non-null float64\n",
      "energy              5492 non-null float64\n",
      "key                 5492 non-null int64\n",
      "loudness            5492 non-null float64\n",
      "mode                5492 non-null int64\n",
      "speechiness         5492 non-null float64\n",
      "acousticness        5492 non-null float64\n",
      "instrumentalness    5492 non-null float64\n",
      "liveness            5492 non-null float64\n",
      "valence             5492 non-null float64\n",
      "tempo               5492 non-null float64\n",
      "duration_ms         5492 non-null int64\n",
      "time_signature      5492 non-null int64\n",
      "chorus_hit          5492 non-null float64\n",
      "sections            5492 non-null int64\n",
      "target              5492 non-null int64\n",
      "dtypes: float64(10), int64(6), object(3)\n",
      "memory usage: 858.1+ KB\n"
     ]
    }
   ],
   "source": [
    "data.info()"
   ]
  },
  {
   "cell_type": "code",
   "execution_count": 18,
   "metadata": {},
   "outputs": [
    {
     "name": "stdout",
     "output_type": "stream",
     "text": [
      "shape of data (5492, 19)\n",
      "no. of unique rows 5492\n"
     ]
    }
   ],
   "source": [
    "print(\"shape of data\",data.shape )\n",
    "print(\"no. of unique rows\",data['uri'].nunique()) # no duplicates"
   ]
  },
  {
   "cell_type": "code",
   "execution_count": 19,
   "metadata": {},
   "outputs": [
    {
     "data": {
      "text/html": [
       "<div>\n",
       "<style scoped>\n",
       "    .dataframe tbody tr th:only-of-type {\n",
       "        vertical-align: middle;\n",
       "    }\n",
       "\n",
       "    .dataframe tbody tr th {\n",
       "        vertical-align: top;\n",
       "    }\n",
       "\n",
       "    .dataframe thead th {\n",
       "        text-align: right;\n",
       "    }\n",
       "</style>\n",
       "<table border=\"1\" class=\"dataframe\">\n",
       "  <thead>\n",
       "    <tr style=\"text-align: right;\">\n",
       "      <th></th>\n",
       "      <th>track</th>\n",
       "      <th>artist</th>\n",
       "      <th>uri</th>\n",
       "      <th>danceability</th>\n",
       "      <th>energy</th>\n",
       "      <th>key</th>\n",
       "      <th>loudness</th>\n",
       "      <th>mode</th>\n",
       "      <th>speechiness</th>\n",
       "      <th>acousticness</th>\n",
       "      <th>instrumentalness</th>\n",
       "      <th>liveness</th>\n",
       "      <th>valence</th>\n",
       "      <th>tempo</th>\n",
       "      <th>duration_ms</th>\n",
       "      <th>time_signature</th>\n",
       "      <th>chorus_hit</th>\n",
       "      <th>sections</th>\n",
       "      <th>target</th>\n",
       "    </tr>\n",
       "  </thead>\n",
       "  <tbody>\n",
       "    <tr>\n",
       "      <th>0</th>\n",
       "      <td>Misty Roses</td>\n",
       "      <td>Astrud Gilberto</td>\n",
       "      <td>50RBM1j1Dw7WYmsGsWg9Tm</td>\n",
       "      <td>0.527</td>\n",
       "      <td>0.316</td>\n",
       "      <td>1</td>\n",
       "      <td>-15.769</td>\n",
       "      <td>1</td>\n",
       "      <td>0.0310</td>\n",
       "      <td>0.693000</td>\n",
       "      <td>0.00699</td>\n",
       "      <td>0.1680</td>\n",
       "      <td>0.543</td>\n",
       "      <td>116.211</td>\n",
       "      <td>158840</td>\n",
       "      <td>4</td>\n",
       "      <td>53.89523</td>\n",
       "      <td>6</td>\n",
       "      <td>0</td>\n",
       "    </tr>\n",
       "    <tr>\n",
       "      <th>1</th>\n",
       "      <td>Never Ever</td>\n",
       "      <td>All Saints</td>\n",
       "      <td>5FTz9qQ94PyUHETyAyfYZN</td>\n",
       "      <td>0.738</td>\n",
       "      <td>0.541</td>\n",
       "      <td>1</td>\n",
       "      <td>-5.485</td>\n",
       "      <td>1</td>\n",
       "      <td>0.0311</td>\n",
       "      <td>0.559000</td>\n",
       "      <td>0.00000</td>\n",
       "      <td>0.0492</td>\n",
       "      <td>0.309</td>\n",
       "      <td>134.187</td>\n",
       "      <td>387573</td>\n",
       "      <td>4</td>\n",
       "      <td>32.16853</td>\n",
       "      <td>16</td>\n",
       "      <td>1</td>\n",
       "    </tr>\n",
       "    <tr>\n",
       "      <th>2</th>\n",
       "      <td>Soul Sermon</td>\n",
       "      <td>Gregg Karukas</td>\n",
       "      <td>6m24oe3lk1UMxq9zq4iPFi</td>\n",
       "      <td>0.736</td>\n",
       "      <td>0.419</td>\n",
       "      <td>0</td>\n",
       "      <td>-10.662</td>\n",
       "      <td>1</td>\n",
       "      <td>0.0300</td>\n",
       "      <td>0.693000</td>\n",
       "      <td>0.49500</td>\n",
       "      <td>0.0809</td>\n",
       "      <td>0.265</td>\n",
       "      <td>93.982</td>\n",
       "      <td>237267</td>\n",
       "      <td>4</td>\n",
       "      <td>42.05369</td>\n",
       "      <td>9</td>\n",
       "      <td>0</td>\n",
       "    </tr>\n",
       "    <tr>\n",
       "      <th>3</th>\n",
       "      <td>Clarinet Marmalade - Live</td>\n",
       "      <td>Alton Purnell</td>\n",
       "      <td>5FOXuiLI6knVtgMUjWKj6x</td>\n",
       "      <td>0.565</td>\n",
       "      <td>0.594</td>\n",
       "      <td>5</td>\n",
       "      <td>-13.086</td>\n",
       "      <td>1</td>\n",
       "      <td>0.0646</td>\n",
       "      <td>0.655000</td>\n",
       "      <td>0.92600</td>\n",
       "      <td>0.6750</td>\n",
       "      <td>0.763</td>\n",
       "      <td>114.219</td>\n",
       "      <td>375933</td>\n",
       "      <td>4</td>\n",
       "      <td>80.99693</td>\n",
       "      <td>10</td>\n",
       "      <td>0</td>\n",
       "    </tr>\n",
       "    <tr>\n",
       "      <th>4</th>\n",
       "      <td>До смерті і довше - Drum &amp; Base and Rock Remix</td>\n",
       "      <td>Skryabin</td>\n",
       "      <td>6CxyIPTqSPvAPXfrIZczs4</td>\n",
       "      <td>0.513</td>\n",
       "      <td>0.760</td>\n",
       "      <td>4</td>\n",
       "      <td>-10.077</td>\n",
       "      <td>1</td>\n",
       "      <td>0.0355</td>\n",
       "      <td>0.000017</td>\n",
       "      <td>0.00339</td>\n",
       "      <td>0.1530</td>\n",
       "      <td>0.961</td>\n",
       "      <td>153.166</td>\n",
       "      <td>430653</td>\n",
       "      <td>4</td>\n",
       "      <td>25.57331</td>\n",
       "      <td>20</td>\n",
       "      <td>0</td>\n",
       "    </tr>\n",
       "  </tbody>\n",
       "</table>\n",
       "</div>"
      ],
      "text/plain": [
       "                                            track           artist  \\\n",
       "0                                     Misty Roses  Astrud Gilberto   \n",
       "1                                      Never Ever       All Saints   \n",
       "2                                     Soul Sermon    Gregg Karukas   \n",
       "3                       Clarinet Marmalade - Live    Alton Purnell   \n",
       "4  До смерті і довше - Drum & Base and Rock Remix         Skryabin   \n",
       "\n",
       "                      uri  danceability  energy  key  loudness  mode  \\\n",
       "0  50RBM1j1Dw7WYmsGsWg9Tm         0.527   0.316    1   -15.769     1   \n",
       "1  5FTz9qQ94PyUHETyAyfYZN         0.738   0.541    1    -5.485     1   \n",
       "2  6m24oe3lk1UMxq9zq4iPFi         0.736   0.419    0   -10.662     1   \n",
       "3  5FOXuiLI6knVtgMUjWKj6x         0.565   0.594    5   -13.086     1   \n",
       "4  6CxyIPTqSPvAPXfrIZczs4         0.513   0.760    4   -10.077     1   \n",
       "\n",
       "   speechiness  acousticness  instrumentalness  liveness  valence    tempo  \\\n",
       "0       0.0310      0.693000           0.00699    0.1680    0.543  116.211   \n",
       "1       0.0311      0.559000           0.00000    0.0492    0.309  134.187   \n",
       "2       0.0300      0.693000           0.49500    0.0809    0.265   93.982   \n",
       "3       0.0646      0.655000           0.92600    0.6750    0.763  114.219   \n",
       "4       0.0355      0.000017           0.00339    0.1530    0.961  153.166   \n",
       "\n",
       "   duration_ms  time_signature  chorus_hit  sections  target  \n",
       "0       158840               4    53.89523         6       0  \n",
       "1       387573               4    32.16853        16       1  \n",
       "2       237267               4    42.05369         9       0  \n",
       "3       375933               4    80.99693        10       0  \n",
       "4       430653               4    25.57331        20       0  "
      ]
     },
     "execution_count": 19,
     "metadata": {},
     "output_type": "execute_result"
    }
   ],
   "source": [
    "data.head()"
   ]
  },
  {
   "cell_type": "markdown",
   "metadata": {},
   "source": [
    "# now we will be dropping all the unnecessary columns which contain string which cant be eficiently converted into numerics"
   ]
  },
  {
   "cell_type": "code",
   "execution_count": 20,
   "metadata": {},
   "outputs": [],
   "source": [
    "data.drop(['track','artist','uri'],axis=1,inplace=True)"
   ]
  },
  {
   "cell_type": "code",
   "execution_count": 21,
   "metadata": {},
   "outputs": [
    {
     "data": {
      "text/html": [
       "<div>\n",
       "<style scoped>\n",
       "    .dataframe tbody tr th:only-of-type {\n",
       "        vertical-align: middle;\n",
       "    }\n",
       "\n",
       "    .dataframe tbody tr th {\n",
       "        vertical-align: top;\n",
       "    }\n",
       "\n",
       "    .dataframe thead th {\n",
       "        text-align: right;\n",
       "    }\n",
       "</style>\n",
       "<table border=\"1\" class=\"dataframe\">\n",
       "  <thead>\n",
       "    <tr style=\"text-align: right;\">\n",
       "      <th></th>\n",
       "      <th>danceability</th>\n",
       "      <th>energy</th>\n",
       "      <th>key</th>\n",
       "      <th>loudness</th>\n",
       "      <th>mode</th>\n",
       "      <th>speechiness</th>\n",
       "      <th>acousticness</th>\n",
       "      <th>instrumentalness</th>\n",
       "      <th>liveness</th>\n",
       "      <th>valence</th>\n",
       "      <th>tempo</th>\n",
       "      <th>duration_ms</th>\n",
       "      <th>time_signature</th>\n",
       "      <th>chorus_hit</th>\n",
       "      <th>sections</th>\n",
       "      <th>target</th>\n",
       "    </tr>\n",
       "  </thead>\n",
       "  <tbody>\n",
       "    <tr>\n",
       "      <th>0</th>\n",
       "      <td>0.527</td>\n",
       "      <td>0.316</td>\n",
       "      <td>1</td>\n",
       "      <td>-15.769</td>\n",
       "      <td>1</td>\n",
       "      <td>0.0310</td>\n",
       "      <td>0.693000</td>\n",
       "      <td>0.00699</td>\n",
       "      <td>0.1680</td>\n",
       "      <td>0.543</td>\n",
       "      <td>116.211</td>\n",
       "      <td>158840</td>\n",
       "      <td>4</td>\n",
       "      <td>53.89523</td>\n",
       "      <td>6</td>\n",
       "      <td>0</td>\n",
       "    </tr>\n",
       "    <tr>\n",
       "      <th>1</th>\n",
       "      <td>0.738</td>\n",
       "      <td>0.541</td>\n",
       "      <td>1</td>\n",
       "      <td>-5.485</td>\n",
       "      <td>1</td>\n",
       "      <td>0.0311</td>\n",
       "      <td>0.559000</td>\n",
       "      <td>0.00000</td>\n",
       "      <td>0.0492</td>\n",
       "      <td>0.309</td>\n",
       "      <td>134.187</td>\n",
       "      <td>387573</td>\n",
       "      <td>4</td>\n",
       "      <td>32.16853</td>\n",
       "      <td>16</td>\n",
       "      <td>1</td>\n",
       "    </tr>\n",
       "    <tr>\n",
       "      <th>2</th>\n",
       "      <td>0.736</td>\n",
       "      <td>0.419</td>\n",
       "      <td>0</td>\n",
       "      <td>-10.662</td>\n",
       "      <td>1</td>\n",
       "      <td>0.0300</td>\n",
       "      <td>0.693000</td>\n",
       "      <td>0.49500</td>\n",
       "      <td>0.0809</td>\n",
       "      <td>0.265</td>\n",
       "      <td>93.982</td>\n",
       "      <td>237267</td>\n",
       "      <td>4</td>\n",
       "      <td>42.05369</td>\n",
       "      <td>9</td>\n",
       "      <td>0</td>\n",
       "    </tr>\n",
       "    <tr>\n",
       "      <th>3</th>\n",
       "      <td>0.565</td>\n",
       "      <td>0.594</td>\n",
       "      <td>5</td>\n",
       "      <td>-13.086</td>\n",
       "      <td>1</td>\n",
       "      <td>0.0646</td>\n",
       "      <td>0.655000</td>\n",
       "      <td>0.92600</td>\n",
       "      <td>0.6750</td>\n",
       "      <td>0.763</td>\n",
       "      <td>114.219</td>\n",
       "      <td>375933</td>\n",
       "      <td>4</td>\n",
       "      <td>80.99693</td>\n",
       "      <td>10</td>\n",
       "      <td>0</td>\n",
       "    </tr>\n",
       "    <tr>\n",
       "      <th>4</th>\n",
       "      <td>0.513</td>\n",
       "      <td>0.760</td>\n",
       "      <td>4</td>\n",
       "      <td>-10.077</td>\n",
       "      <td>1</td>\n",
       "      <td>0.0355</td>\n",
       "      <td>0.000017</td>\n",
       "      <td>0.00339</td>\n",
       "      <td>0.1530</td>\n",
       "      <td>0.961</td>\n",
       "      <td>153.166</td>\n",
       "      <td>430653</td>\n",
       "      <td>4</td>\n",
       "      <td>25.57331</td>\n",
       "      <td>20</td>\n",
       "      <td>0</td>\n",
       "    </tr>\n",
       "  </tbody>\n",
       "</table>\n",
       "</div>"
      ],
      "text/plain": [
       "   danceability  energy  key  loudness  mode  speechiness  acousticness  \\\n",
       "0         0.527   0.316    1   -15.769     1       0.0310      0.693000   \n",
       "1         0.738   0.541    1    -5.485     1       0.0311      0.559000   \n",
       "2         0.736   0.419    0   -10.662     1       0.0300      0.693000   \n",
       "3         0.565   0.594    5   -13.086     1       0.0646      0.655000   \n",
       "4         0.513   0.760    4   -10.077     1       0.0355      0.000017   \n",
       "\n",
       "   instrumentalness  liveness  valence    tempo  duration_ms  time_signature  \\\n",
       "0           0.00699    0.1680    0.543  116.211       158840               4   \n",
       "1           0.00000    0.0492    0.309  134.187       387573               4   \n",
       "2           0.49500    0.0809    0.265   93.982       237267               4   \n",
       "3           0.92600    0.6750    0.763  114.219       375933               4   \n",
       "4           0.00339    0.1530    0.961  153.166       430653               4   \n",
       "\n",
       "   chorus_hit  sections  target  \n",
       "0    53.89523         6       0  \n",
       "1    32.16853        16       1  \n",
       "2    42.05369         9       0  \n",
       "3    80.99693        10       0  \n",
       "4    25.57331        20       0  "
      ]
     },
     "execution_count": 21,
     "metadata": {},
     "output_type": "execute_result"
    }
   ],
   "source": [
    "data.head()"
   ]
  },
  {
   "cell_type": "markdown",
   "metadata": {},
   "source": [
    "# Univariate analysis"
   ]
  },
  {
   "cell_type": "code",
   "execution_count": 22,
   "metadata": {},
   "outputs": [
    {
     "data": {
      "text/plain": [
       "<AxesSubplot:xlabel='target', ylabel='count'>"
      ]
     },
     "execution_count": 22,
     "metadata": {},
     "output_type": "execute_result"
    },
    {
     "data": {
      "image/png": "[encoded data removed]",
      "text/plain": [
       "<Figure size 432x288 with 1 Axes>"
      ]
     },
     "metadata": {
      "needs_background": "light"
     },
     "output_type": "display_data"
    }
   ],
   "source": [
    "#analysing class imbalance\n",
    "sns.countplot(data=data,x='target') "
   ]
  },
  {
   "cell_type": "code",
   "execution_count": 23,
   "metadata": {},
   "outputs": [
    {
     "data": {
      "text/plain": [
       "Index(['danceability', 'energy', 'key', 'loudness', 'mode', 'speechiness',\n",
       "       'acousticness', 'instrumentalness', 'liveness', 'valence', 'tempo',\n",
       "       'duration_ms', 'time_signature', 'chorus_hit', 'sections', 'target'],\n",
       "      dtype='object')"
      ]
     },
     "execution_count": 23,
     "metadata": {},
     "output_type": "execute_result"
    }
   ],
   "source": [
    "data.columns"
   ]
  },
  {
   "cell_type": "code",
   "execution_count": 24,
   "metadata": {},
   "outputs": [
    {
     "name": "stdout",
     "output_type": "stream",
     "text": [
      "<class 'pandas.core.frame.DataFrame'>\n",
      "Int64Index: 5492 entries, 0 to 5519\n",
      "Data columns (total 4 columns):\n",
      "danceability    5492 non-null float64\n",
      "energy          5492 non-null float64\n",
      "key             5492 non-null int64\n",
      "loudness        5492 non-null float64\n",
      "dtypes: float64(3), int64(1)\n",
      "memory usage: 374.5 KB\n"
     ]
    }
   ],
   "source": [
    "# checking appropriate data type\n",
    "data[['danceability', 'energy', 'key', 'loudness']].info() # every feature have appropriate datatype"
   ]
  },
  {
   "cell_type": "code",
   "execution_count": 25,
   "metadata": {},
   "outputs": [
    {
     "data": {
      "text/html": [
       "<div>\n",
       "<style scoped>\n",
       "    .dataframe tbody tr th:only-of-type {\n",
       "        vertical-align: middle;\n",
       "    }\n",
       "\n",
       "    .dataframe tbody tr th {\n",
       "        vertical-align: top;\n",
       "    }\n",
       "\n",
       "    .dataframe thead th {\n",
       "        text-align: right;\n",
       "    }\n",
       "</style>\n",
       "<table border=\"1\" class=\"dataframe\">\n",
       "  <thead>\n",
       "    <tr style=\"text-align: right;\">\n",
       "      <th></th>\n",
       "      <th>danceability</th>\n",
       "      <th>energy</th>\n",
       "      <th>key</th>\n",
       "      <th>loudness</th>\n",
       "    </tr>\n",
       "  </thead>\n",
       "  <tbody>\n",
       "    <tr>\n",
       "      <th>count</th>\n",
       "      <td>5492.000000</td>\n",
       "      <td>5492.000000</td>\n",
       "      <td>5492.000000</td>\n",
       "      <td>5492.000000</td>\n",
       "    </tr>\n",
       "    <tr>\n",
       "      <th>mean</th>\n",
       "      <td>0.566436</td>\n",
       "      <td>0.602626</td>\n",
       "      <td>5.267662</td>\n",
       "      <td>-10.237243</td>\n",
       "    </tr>\n",
       "    <tr>\n",
       "      <th>std</th>\n",
       "      <td>0.180547</td>\n",
       "      <td>0.252412</td>\n",
       "      <td>3.513445</td>\n",
       "      <td>5.124837</td>\n",
       "    </tr>\n",
       "    <tr>\n",
       "      <th>min</th>\n",
       "      <td>0.057600</td>\n",
       "      <td>0.000357</td>\n",
       "      <td>0.000000</td>\n",
       "      <td>-49.253000</td>\n",
       "    </tr>\n",
       "    <tr>\n",
       "      <th>25%</th>\n",
       "      <td>0.450000</td>\n",
       "      <td>0.435000</td>\n",
       "      <td>2.000000</td>\n",
       "      <td>-12.210000</td>\n",
       "    </tr>\n",
       "    <tr>\n",
       "      <th>50%</th>\n",
       "      <td>0.586000</td>\n",
       "      <td>0.635000</td>\n",
       "      <td>5.000000</td>\n",
       "      <td>-9.073500</td>\n",
       "    </tr>\n",
       "    <tr>\n",
       "      <th>75%</th>\n",
       "      <td>0.698000</td>\n",
       "      <td>0.812000</td>\n",
       "      <td>8.000000</td>\n",
       "      <td>-6.884000</td>\n",
       "    </tr>\n",
       "    <tr>\n",
       "      <th>max</th>\n",
       "      <td>0.979000</td>\n",
       "      <td>0.998000</td>\n",
       "      <td>11.000000</td>\n",
       "      <td>-1.169000</td>\n",
       "    </tr>\n",
       "  </tbody>\n",
       "</table>\n",
       "</div>"
      ],
      "text/plain": [
       "       danceability       energy          key     loudness\n",
       "count   5492.000000  5492.000000  5492.000000  5492.000000\n",
       "mean       0.566436     0.602626     5.267662   -10.237243\n",
       "std        0.180547     0.252412     3.513445     5.124837\n",
       "min        0.057600     0.000357     0.000000   -49.253000\n",
       "25%        0.450000     0.435000     2.000000   -12.210000\n",
       "50%        0.586000     0.635000     5.000000    -9.073500\n",
       "75%        0.698000     0.812000     8.000000    -6.884000\n",
       "max        0.979000     0.998000    11.000000    -1.169000"
      ]
     },
     "execution_count": 25,
     "metadata": {},
     "output_type": "execute_result"
    }
   ],
   "source": [
    "# checking range of first 4 features \n",
    "data[['danceability', 'energy', 'key', 'loudness']].describe()\n"
   ]
  },
  {
   "cell_type": "code",
   "execution_count": 26,
   "metadata": {},
   "outputs": [
    {
     "data": {
      "text/plain": [
       "[<matplotlib.lines.Line2D at 0x1fbb181dc88>,\n",
       " <matplotlib.lines.Line2D at 0x1fbb1811c88>]"
      ]
     },
     "execution_count": 26,
     "metadata": {},
     "output_type": "execute_result"
    },
    {
     "data": {
      "image/png": "[encoded data removed]",
      "text/plain": [
       "<Figure size 720x720 with 3 Axes>"
      ]
     },
     "metadata": {
      "needs_background": "light"
     },
     "output_type": "display_data"
    }
   ],
   "source": [
    "plt.figure(figsize=(10,10))\n",
    "plt.subplot(2,2,1)\n",
    "data['danceability'].plot()\n",
    "plt.subplot(2,2,2)\n",
    "plt.plot(data['energy'],color='red')\n",
    "plt.subplot(2,2,3)\n",
    "plt.plot(data[['key','loudness']])\n"
   ]
  },
  {
   "cell_type": "markdown",
   "metadata": {},
   "source": [
    "#  danceabilty is well inside the range(0,1)\n",
    "# energy is well inside the range(0,1)\n",
    "# there's no -1 for keys-> every track has been assigned respective keys\n",
    "# loudness values are out of range(0,-60)db"
   ]
  },
  {
   "cell_type": "code",
   "execution_count": 27,
   "metadata": {},
   "outputs": [
    {
     "data": {
      "text/plain": [
       "Int64Index([], dtype='int64')"
      ]
     },
     "execution_count": 27,
     "metadata": {},
     "output_type": "execute_result"
    }
   ],
   "source": [
    "loudness_error_idnex = data[data['loudness']>0].index\n",
    "loudness_error_idnex"
   ]
  },
  {
   "cell_type": "code",
   "execution_count": 28,
   "metadata": {},
   "outputs": [],
   "source": [
    " # removing rows with out of range values in loudness column\n",
    "data.drop(loudness_error_idnex,axis=0, inplace=True)"
   ]
  },
  {
   "cell_type": "code",
   "execution_count": 29,
   "metadata": {},
   "outputs": [
    {
     "data": {
      "text/plain": [
       "(5492, 16)"
      ]
     },
     "execution_count": 29,
     "metadata": {},
     "output_type": "execute_result"
    }
   ],
   "source": [
    "data.shape  # record is removed "
   ]
  },
  {
   "cell_type": "code",
   "execution_count": 30,
   "metadata": {},
   "outputs": [
    {
     "name": "stdout",
     "output_type": "stream",
     "text": [
      "<class 'pandas.core.frame.DataFrame'>\n",
      "Int64Index: 5492 entries, 0 to 5519\n",
      "Data columns (total 5 columns):\n",
      "mode                5492 non-null int64\n",
      "speechiness         5492 non-null float64\n",
      "acousticness        5492 non-null float64\n",
      "instrumentalness    5492 non-null float64\n",
      "liveness            5492 non-null float64\n",
      "dtypes: float64(4), int64(1)\n",
      "memory usage: 257.4 KB\n"
     ]
    }
   ],
   "source": [
    "# checking appropriate datatype for next 5 columns\n",
    "data[['mode', 'speechiness',\n",
    "       'acousticness', 'instrumentalness', 'liveness',]].info() # datatypes are in acoordance with provided info"
   ]
  },
  {
   "cell_type": "code",
   "execution_count": 31,
   "metadata": {},
   "outputs": [
    {
     "data": {
      "text/html": [
       "<div>\n",
       "<style scoped>\n",
       "    .dataframe tbody tr th:only-of-type {\n",
       "        vertical-align: middle;\n",
       "    }\n",
       "\n",
       "    .dataframe tbody tr th {\n",
       "        vertical-align: top;\n",
       "    }\n",
       "\n",
       "    .dataframe thead th {\n",
       "        text-align: right;\n",
       "    }\n",
       "</style>\n",
       "<table border=\"1\" class=\"dataframe\">\n",
       "  <thead>\n",
       "    <tr style=\"text-align: right;\">\n",
       "      <th></th>\n",
       "      <th>mode</th>\n",
       "      <th>speechiness</th>\n",
       "      <th>acousticness</th>\n",
       "      <th>instrumentalness</th>\n",
       "      <th>liveness</th>\n",
       "    </tr>\n",
       "  </thead>\n",
       "  <tbody>\n",
       "    <tr>\n",
       "      <th>count</th>\n",
       "      <td>5492.000000</td>\n",
       "      <td>5492.000000</td>\n",
       "      <td>5492.000000</td>\n",
       "      <td>5492.000000</td>\n",
       "      <td>5492.000000</td>\n",
       "    </tr>\n",
       "    <tr>\n",
       "      <th>mean</th>\n",
       "      <td>0.669701</td>\n",
       "      <td>0.074057</td>\n",
       "      <td>0.291424</td>\n",
       "      <td>0.160700</td>\n",
       "      <td>0.197395</td>\n",
       "    </tr>\n",
       "    <tr>\n",
       "      <th>std</th>\n",
       "      <td>0.470363</td>\n",
       "      <td>0.081923</td>\n",
       "      <td>0.325001</td>\n",
       "      <td>0.304968</td>\n",
       "      <td>0.174913</td>\n",
       "    </tr>\n",
       "    <tr>\n",
       "      <th>min</th>\n",
       "      <td>0.000000</td>\n",
       "      <td>0.022000</td>\n",
       "      <td>0.000000</td>\n",
       "      <td>0.000000</td>\n",
       "      <td>0.013000</td>\n",
       "    </tr>\n",
       "    <tr>\n",
       "      <th>25%</th>\n",
       "      <td>0.000000</td>\n",
       "      <td>0.033200</td>\n",
       "      <td>0.018000</td>\n",
       "      <td>0.000000</td>\n",
       "      <td>0.089500</td>\n",
       "    </tr>\n",
       "    <tr>\n",
       "      <th>50%</th>\n",
       "      <td>1.000000</td>\n",
       "      <td>0.043300</td>\n",
       "      <td>0.139000</td>\n",
       "      <td>0.000244</td>\n",
       "      <td>0.127000</td>\n",
       "    </tr>\n",
       "    <tr>\n",
       "      <th>75%</th>\n",
       "      <td>1.000000</td>\n",
       "      <td>0.073000</td>\n",
       "      <td>0.530000</td>\n",
       "      <td>0.094250</td>\n",
       "      <td>0.260000</td>\n",
       "    </tr>\n",
       "    <tr>\n",
       "      <th>max</th>\n",
       "      <td>1.000000</td>\n",
       "      <td>0.950000</td>\n",
       "      <td>0.996000</td>\n",
       "      <td>0.997000</td>\n",
       "      <td>0.992000</td>\n",
       "    </tr>\n",
       "  </tbody>\n",
       "</table>\n",
       "</div>"
      ],
      "text/plain": [
       "              mode  speechiness  acousticness  instrumentalness     liveness\n",
       "count  5492.000000  5492.000000   5492.000000       5492.000000  5492.000000\n",
       "mean      0.669701     0.074057      0.291424          0.160700     0.197395\n",
       "std       0.470363     0.081923      0.325001          0.304968     0.174913\n",
       "min       0.000000     0.022000      0.000000          0.000000     0.013000\n",
       "25%       0.000000     0.033200      0.018000          0.000000     0.089500\n",
       "50%       1.000000     0.043300      0.139000          0.000244     0.127000\n",
       "75%       1.000000     0.073000      0.530000          0.094250     0.260000\n",
       "max       1.000000     0.950000      0.996000          0.997000     0.992000"
      ]
     },
     "execution_count": 31,
     "metadata": {},
     "output_type": "execute_result"
    }
   ],
   "source": [
    "data[['mode', 'speechiness',\n",
    "       'acousticness', 'instrumentalness', 'liveness',]].describe() # every feautre is within range"
   ]
  },
  {
   "cell_type": "code",
   "execution_count": 32,
   "metadata": {},
   "outputs": [
    {
     "data": {
      "text/plain": [
       "<AxesSubplot:xlabel='mode', ylabel='count'>"
      ]
     },
     "execution_count": 32,
     "metadata": {},
     "output_type": "execute_result"
    },
    {
     "data": {
      "image/png": "[encoded data removed]",
      "text/plain": [
       "<Figure size 432x288 with 1 Axes>"
      ]
     },
     "metadata": {
      "needs_background": "light"
     },
     "output_type": "display_data"
    }
   ],
   "source": [
    "sns.countplot(x=data['mode']) # have only two possible values 0 and 1, no noise in the feature"
   ]
  },
  {
   "cell_type": "code",
   "execution_count": 33,
   "metadata": {},
   "outputs": [
    {
     "name": "stdout",
     "output_type": "stream",
     "text": [
      "<class 'pandas.core.frame.DataFrame'>\n",
      "Int64Index: 5492 entries, 0 to 5519\n",
      "Data columns (total 6 columns):\n",
      "valence           5492 non-null float64\n",
      "tempo             5492 non-null float64\n",
      "duration_ms       5492 non-null int64\n",
      "time_signature    5492 non-null int64\n",
      "chorus_hit        5492 non-null float64\n",
      "sections          5492 non-null int64\n",
      "dtypes: float64(3), int64(3)\n",
      "memory usage: 460.3 KB\n"
     ]
    }
   ],
   "source": [
    "data[['valence', 'tempo',\n",
    "       'duration_ms', 'time_signature', 'chorus_hit', 'sections']].info() # data type is in accordance with provided info"
   ]
  },
  {
   "cell_type": "code",
   "execution_count": 34,
   "metadata": {},
   "outputs": [
    {
     "data": {
      "text/html": [
       "<div>\n",
       "<style scoped>\n",
       "    .dataframe tbody tr th:only-of-type {\n",
       "        vertical-align: middle;\n",
       "    }\n",
       "\n",
       "    .dataframe tbody tr th {\n",
       "        vertical-align: top;\n",
       "    }\n",
       "\n",
       "    .dataframe thead th {\n",
       "        text-align: right;\n",
       "    }\n",
       "</style>\n",
       "<table border=\"1\" class=\"dataframe\">\n",
       "  <thead>\n",
       "    <tr style=\"text-align: right;\">\n",
       "      <th></th>\n",
       "      <th>valence</th>\n",
       "      <th>tempo</th>\n",
       "      <th>duration_ms</th>\n",
       "      <th>time_signature</th>\n",
       "      <th>chorus_hit</th>\n",
       "      <th>sections</th>\n",
       "    </tr>\n",
       "  </thead>\n",
       "  <tbody>\n",
       "    <tr>\n",
       "      <th>count</th>\n",
       "      <td>5492.000000</td>\n",
       "      <td>5492.000000</td>\n",
       "      <td>5.492000e+03</td>\n",
       "      <td>5492.000000</td>\n",
       "      <td>5492.000000</td>\n",
       "      <td>5492.000000</td>\n",
       "    </tr>\n",
       "    <tr>\n",
       "      <th>mean</th>\n",
       "      <td>0.537960</td>\n",
       "      <td>118.805382</td>\n",
       "      <td>2.562105e+05</td>\n",
       "      <td>3.921704</td>\n",
       "      <td>40.991701</td>\n",
       "      <td>11.127822</td>\n",
       "    </tr>\n",
       "    <tr>\n",
       "      <th>std</th>\n",
       "      <td>0.257767</td>\n",
       "      <td>29.513956</td>\n",
       "      <td>1.036665e+05</td>\n",
       "      <td>0.353027</td>\n",
       "      <td>19.944363</td>\n",
       "      <td>4.493916</td>\n",
       "    </tr>\n",
       "    <tr>\n",
       "      <th>min</th>\n",
       "      <td>0.000000</td>\n",
       "      <td>34.535000</td>\n",
       "      <td>1.953300e+04</td>\n",
       "      <td>1.000000</td>\n",
       "      <td>0.000000</td>\n",
       "      <td>1.000000</td>\n",
       "    </tr>\n",
       "    <tr>\n",
       "      <th>25%</th>\n",
       "      <td>0.330000</td>\n",
       "      <td>96.427500</td>\n",
       "      <td>2.024368e+05</td>\n",
       "      <td>4.000000</td>\n",
       "      <td>28.074175</td>\n",
       "      <td>9.000000</td>\n",
       "    </tr>\n",
       "    <tr>\n",
       "      <th>50%</th>\n",
       "      <td>0.556000</td>\n",
       "      <td>114.907500</td>\n",
       "      <td>2.467200e+05</td>\n",
       "      <td>4.000000</td>\n",
       "      <td>36.512680</td>\n",
       "      <td>11.000000</td>\n",
       "    </tr>\n",
       "    <tr>\n",
       "      <th>75%</th>\n",
       "      <td>0.751000</td>\n",
       "      <td>135.967500</td>\n",
       "      <td>2.899628e+05</td>\n",
       "      <td>4.000000</td>\n",
       "      <td>48.600567</td>\n",
       "      <td>13.000000</td>\n",
       "    </tr>\n",
       "    <tr>\n",
       "      <th>max</th>\n",
       "      <td>0.996000</td>\n",
       "      <td>217.943000</td>\n",
       "      <td>1.711800e+06</td>\n",
       "      <td>5.000000</td>\n",
       "      <td>235.060740</td>\n",
       "      <td>69.000000</td>\n",
       "    </tr>\n",
       "  </tbody>\n",
       "</table>\n",
       "</div>"
      ],
      "text/plain": [
       "           valence        tempo   duration_ms  time_signature   chorus_hit  \\\n",
       "count  5492.000000  5492.000000  5.492000e+03     5492.000000  5492.000000   \n",
       "mean      0.537960   118.805382  2.562105e+05        3.921704    40.991701   \n",
       "std       0.257767    29.513956  1.036665e+05        0.353027    19.944363   \n",
       "min       0.000000    34.535000  1.953300e+04        1.000000     0.000000   \n",
       "25%       0.330000    96.427500  2.024368e+05        4.000000    28.074175   \n",
       "50%       0.556000   114.907500  2.467200e+05        4.000000    36.512680   \n",
       "75%       0.751000   135.967500  2.899628e+05        4.000000    48.600567   \n",
       "max       0.996000   217.943000  1.711800e+06        5.000000   235.060740   \n",
       "\n",
       "          sections  \n",
       "count  5492.000000  \n",
       "mean     11.127822  \n",
       "std       4.493916  \n",
       "min       1.000000  \n",
       "25%       9.000000  \n",
       "50%      11.000000  \n",
       "75%      13.000000  \n",
       "max      69.000000  "
      ]
     },
     "execution_count": 34,
     "metadata": {},
     "output_type": "execute_result"
    }
   ],
   "source": [
    "data[['valence', 'tempo',\n",
    "       'duration_ms', 'time_signature', 'chorus_hit', 'sections']].describe() # all the data are in specified range"
   ]
  },
  {
   "cell_type": "markdown",
   "metadata": {},
   "source": [
    "# Performing F-test to know the relation between every feature and target"
   ]
  },
  {
   "cell_type": "code",
   "execution_count": 35,
   "metadata": {},
   "outputs": [
    {
     "data": {
      "text/html": [
       "<div>\n",
       "<style scoped>\n",
       "    .dataframe tbody tr th:only-of-type {\n",
       "        vertical-align: middle;\n",
       "    }\n",
       "\n",
       "    .dataframe tbody tr th {\n",
       "        vertical-align: top;\n",
       "    }\n",
       "\n",
       "    .dataframe thead th {\n",
       "        text-align: right;\n",
       "    }\n",
       "</style>\n",
       "<table border=\"1\" class=\"dataframe\">\n",
       "  <thead>\n",
       "    <tr style=\"text-align: right;\">\n",
       "      <th></th>\n",
       "      <th>danceability</th>\n",
       "      <th>energy</th>\n",
       "      <th>key</th>\n",
       "      <th>loudness</th>\n",
       "      <th>mode</th>\n",
       "      <th>speechiness</th>\n",
       "      <th>acousticness</th>\n",
       "      <th>instrumentalness</th>\n",
       "      <th>liveness</th>\n",
       "      <th>valence</th>\n",
       "      <th>tempo</th>\n",
       "      <th>duration_ms</th>\n",
       "      <th>time_signature</th>\n",
       "      <th>chorus_hit</th>\n",
       "      <th>sections</th>\n",
       "      <th>target</th>\n",
       "    </tr>\n",
       "  </thead>\n",
       "  <tbody>\n",
       "    <tr>\n",
       "      <th>0</th>\n",
       "      <td>0.527</td>\n",
       "      <td>0.316</td>\n",
       "      <td>1</td>\n",
       "      <td>-15.769</td>\n",
       "      <td>1</td>\n",
       "      <td>0.0310</td>\n",
       "      <td>0.693000</td>\n",
       "      <td>0.00699</td>\n",
       "      <td>0.1680</td>\n",
       "      <td>0.543</td>\n",
       "      <td>116.211</td>\n",
       "      <td>158840</td>\n",
       "      <td>4</td>\n",
       "      <td>53.89523</td>\n",
       "      <td>6</td>\n",
       "      <td>0</td>\n",
       "    </tr>\n",
       "    <tr>\n",
       "      <th>1</th>\n",
       "      <td>0.738</td>\n",
       "      <td>0.541</td>\n",
       "      <td>1</td>\n",
       "      <td>-5.485</td>\n",
       "      <td>1</td>\n",
       "      <td>0.0311</td>\n",
       "      <td>0.559000</td>\n",
       "      <td>0.00000</td>\n",
       "      <td>0.0492</td>\n",
       "      <td>0.309</td>\n",
       "      <td>134.187</td>\n",
       "      <td>387573</td>\n",
       "      <td>4</td>\n",
       "      <td>32.16853</td>\n",
       "      <td>16</td>\n",
       "      <td>1</td>\n",
       "    </tr>\n",
       "    <tr>\n",
       "      <th>2</th>\n",
       "      <td>0.736</td>\n",
       "      <td>0.419</td>\n",
       "      <td>0</td>\n",
       "      <td>-10.662</td>\n",
       "      <td>1</td>\n",
       "      <td>0.0300</td>\n",
       "      <td>0.693000</td>\n",
       "      <td>0.49500</td>\n",
       "      <td>0.0809</td>\n",
       "      <td>0.265</td>\n",
       "      <td>93.982</td>\n",
       "      <td>237267</td>\n",
       "      <td>4</td>\n",
       "      <td>42.05369</td>\n",
       "      <td>9</td>\n",
       "      <td>0</td>\n",
       "    </tr>\n",
       "    <tr>\n",
       "      <th>3</th>\n",
       "      <td>0.565</td>\n",
       "      <td>0.594</td>\n",
       "      <td>5</td>\n",
       "      <td>-13.086</td>\n",
       "      <td>1</td>\n",
       "      <td>0.0646</td>\n",
       "      <td>0.655000</td>\n",
       "      <td>0.92600</td>\n",
       "      <td>0.6750</td>\n",
       "      <td>0.763</td>\n",
       "      <td>114.219</td>\n",
       "      <td>375933</td>\n",
       "      <td>4</td>\n",
       "      <td>80.99693</td>\n",
       "      <td>10</td>\n",
       "      <td>0</td>\n",
       "    </tr>\n",
       "    <tr>\n",
       "      <th>4</th>\n",
       "      <td>0.513</td>\n",
       "      <td>0.760</td>\n",
       "      <td>4</td>\n",
       "      <td>-10.077</td>\n",
       "      <td>1</td>\n",
       "      <td>0.0355</td>\n",
       "      <td>0.000017</td>\n",
       "      <td>0.00339</td>\n",
       "      <td>0.1530</td>\n",
       "      <td>0.961</td>\n",
       "      <td>153.166</td>\n",
       "      <td>430653</td>\n",
       "      <td>4</td>\n",
       "      <td>25.57331</td>\n",
       "      <td>20</td>\n",
       "      <td>0</td>\n",
       "    </tr>\n",
       "  </tbody>\n",
       "</table>\n",
       "</div>"
      ],
      "text/plain": [
       "   danceability  energy  key  loudness  mode  speechiness  acousticness  \\\n",
       "0         0.527   0.316    1   -15.769     1       0.0310      0.693000   \n",
       "1         0.738   0.541    1    -5.485     1       0.0311      0.559000   \n",
       "2         0.736   0.419    0   -10.662     1       0.0300      0.693000   \n",
       "3         0.565   0.594    5   -13.086     1       0.0646      0.655000   \n",
       "4         0.513   0.760    4   -10.077     1       0.0355      0.000017   \n",
       "\n",
       "   instrumentalness  liveness  valence    tempo  duration_ms  time_signature  \\\n",
       "0           0.00699    0.1680    0.543  116.211       158840               4   \n",
       "1           0.00000    0.0492    0.309  134.187       387573               4   \n",
       "2           0.49500    0.0809    0.265   93.982       237267               4   \n",
       "3           0.92600    0.6750    0.763  114.219       375933               4   \n",
       "4           0.00339    0.1530    0.961  153.166       430653               4   \n",
       "\n",
       "   chorus_hit  sections  target  \n",
       "0    53.89523         6       0  \n",
       "1    32.16853        16       1  \n",
       "2    42.05369         9       0  \n",
       "3    80.99693        10       0  \n",
       "4    25.57331        20       0  "
      ]
     },
     "execution_count": 35,
     "metadata": {},
     "output_type": "execute_result"
    }
   ],
   "source": [
    "data.head()"
   ]
  },
  {
   "cell_type": "code",
   "execution_count": 36,
   "metadata": {},
   "outputs": [
    {
     "data": {
      "text/plain": [
       "((5492, 15), (5492,))"
      ]
     },
     "execution_count": 36,
     "metadata": {},
     "output_type": "execute_result"
    }
   ],
   "source": [
    "x = data.iloc[:,:-1].values\n",
    "y = data.iloc[:,-1].values\n",
    "x.shape,y.shape"
   ]
  },
  {
   "cell_type": "code",
   "execution_count": 37,
   "metadata": {},
   "outputs": [],
   "source": [
    "from sklearn.feature_selection import f_classif\n",
    "f_stat,p_value = f_classif(x,y) "
   ]
  },
  {
   "cell_type": "code",
   "execution_count": 38,
   "metadata": {},
   "outputs": [],
   "source": [
    "feat_list = data.iloc[:,:-1].columns.tolist()"
   ]
  },
  {
   "cell_type": "code",
   "execution_count": 39,
   "metadata": {},
   "outputs": [
    {
     "data": {
      "text/html": [
       "<div>\n",
       "<style scoped>\n",
       "    .dataframe tbody tr th:only-of-type {\n",
       "        vertical-align: middle;\n",
       "    }\n",
       "\n",
       "    .dataframe tbody tr th {\n",
       "        vertical-align: top;\n",
       "    }\n",
       "\n",
       "    .dataframe thead th {\n",
       "        text-align: right;\n",
       "    }\n",
       "</style>\n",
       "<table border=\"1\" class=\"dataframe\">\n",
       "  <thead>\n",
       "    <tr style=\"text-align: right;\">\n",
       "      <th></th>\n",
       "      <th>Features</th>\n",
       "      <th>f_statistics</th>\n",
       "      <th>p_value</th>\n",
       "    </tr>\n",
       "  </thead>\n",
       "  <tbody>\n",
       "    <tr>\n",
       "      <th>0</th>\n",
       "      <td>danceability</td>\n",
       "      <td>1425.675283</td>\n",
       "      <td>1.428446e-277</td>\n",
       "    </tr>\n",
       "    <tr>\n",
       "      <th>7</th>\n",
       "      <td>instrumentalness</td>\n",
       "      <td>1220.196686</td>\n",
       "      <td>1.379607e-241</td>\n",
       "    </tr>\n",
       "    <tr>\n",
       "      <th>6</th>\n",
       "      <td>acousticness</td>\n",
       "      <td>904.757621</td>\n",
       "      <td>3.937902e-184</td>\n",
       "    </tr>\n",
       "    <tr>\n",
       "      <th>3</th>\n",
       "      <td>loudness</td>\n",
       "      <td>695.899252</td>\n",
       "      <td>1.703035e-144</td>\n",
       "    </tr>\n",
       "    <tr>\n",
       "      <th>1</th>\n",
       "      <td>energy</td>\n",
       "      <td>284.545338</td>\n",
       "      <td>2.779980e-62</td>\n",
       "    </tr>\n",
       "    <tr>\n",
       "      <th>9</th>\n",
       "      <td>valence</td>\n",
       "      <td>169.143130</td>\n",
       "      <td>4.143110e-38</td>\n",
       "    </tr>\n",
       "    <tr>\n",
       "      <th>12</th>\n",
       "      <td>time_signature</td>\n",
       "      <td>70.389875</td>\n",
       "      <td>6.125760e-17</td>\n",
       "    </tr>\n",
       "    <tr>\n",
       "      <th>8</th>\n",
       "      <td>liveness</td>\n",
       "      <td>57.305762</td>\n",
       "      <td>4.350247e-14</td>\n",
       "    </tr>\n",
       "    <tr>\n",
       "      <th>11</th>\n",
       "      <td>duration_ms</td>\n",
       "      <td>29.260505</td>\n",
       "      <td>6.595148e-08</td>\n",
       "    </tr>\n",
       "    <tr>\n",
       "      <th>2</th>\n",
       "      <td>key</td>\n",
       "      <td>16.634325</td>\n",
       "      <td>4.596492e-05</td>\n",
       "    </tr>\n",
       "    <tr>\n",
       "      <th>5</th>\n",
       "      <td>speechiness</td>\n",
       "      <td>15.457078</td>\n",
       "      <td>8.543932e-05</td>\n",
       "    </tr>\n",
       "    <tr>\n",
       "      <th>13</th>\n",
       "      <td>chorus_hit</td>\n",
       "      <td>13.641409</td>\n",
       "      <td>2.234018e-04</td>\n",
       "    </tr>\n",
       "    <tr>\n",
       "      <th>14</th>\n",
       "      <td>sections</td>\n",
       "      <td>11.030580</td>\n",
       "      <td>9.020654e-04</td>\n",
       "    </tr>\n",
       "    <tr>\n",
       "      <th>10</th>\n",
       "      <td>tempo</td>\n",
       "      <td>7.388907</td>\n",
       "      <td>6.583349e-03</td>\n",
       "    </tr>\n",
       "    <tr>\n",
       "      <th>4</th>\n",
       "      <td>mode</td>\n",
       "      <td>1.890796</td>\n",
       "      <td>1.691683e-01</td>\n",
       "    </tr>\n",
       "  </tbody>\n",
       "</table>\n",
       "</div>"
      ],
      "text/plain": [
       "            Features  f_statistics        p_value\n",
       "0       danceability   1425.675283  1.428446e-277\n",
       "7   instrumentalness   1220.196686  1.379607e-241\n",
       "6       acousticness    904.757621  3.937902e-184\n",
       "3           loudness    695.899252  1.703035e-144\n",
       "1             energy    284.545338   2.779980e-62\n",
       "9            valence    169.143130   4.143110e-38\n",
       "12    time_signature     70.389875   6.125760e-17\n",
       "8           liveness     57.305762   4.350247e-14\n",
       "11       duration_ms     29.260505   6.595148e-08\n",
       "2                key     16.634325   4.596492e-05\n",
       "5        speechiness     15.457078   8.543932e-05\n",
       "13        chorus_hit     13.641409   2.234018e-04\n",
       "14          sections     11.030580   9.020654e-04\n",
       "10             tempo      7.388907   6.583349e-03\n",
       "4               mode      1.890796   1.691683e-01"
      ]
     },
     "execution_count": 39,
     "metadata": {},
     "output_type": "execute_result"
    }
   ],
   "source": [
    "# making a dataframe\n",
    "dict = {'Features':feat_list,'f_statistics':f_stat,'p_value':p_value}\n",
    "relation = pd.DataFrame(dict)\n",
    "relation.sort_values(by='p_value')"
   ]
  },
  {
   "cell_type": "markdown",
   "metadata": {},
   "source": [
    "# Multivariate analysis"
   ]
  },
  {
   "cell_type": "code",
   "execution_count": 40,
   "metadata": {},
   "outputs": [],
   "source": [
    "correlation = data.corr()"
   ]
  },
  {
   "cell_type": "code",
   "execution_count": 41,
   "metadata": {},
   "outputs": [
    {
     "data": {
      "text/plain": [
       "<function matplotlib.pyplot.tight_layout(*, pad=1.08, h_pad=None, w_pad=None, rect=None)>"
      ]
     },
     "execution_count": 41,
     "metadata": {},
     "output_type": "execute_result"
    },
    {
     "data": {
      "image/png": "[encoded data removed]",
      "text/plain": [
       "<Figure size 1080x864 with 2 Axes>"
      ]
     },
     "metadata": {
      "needs_background": "light"
     },
     "output_type": "display_data"
    }
   ],
   "source": [
    "plt.figure(figsize=(15,12))\n",
    "sns.heatmap(correlation, annot=True)\n",
    "plt.tight_layout"
   ]
  },
  {
   "cell_type": "markdown",
   "metadata": {},
   "source": [
    "# strong features(accordance with f-test) --> \n",
    "danceability,  loudness,  acousticness,  instrumentalness,  valence\n",
    "\n",
    "# less imortant feature(accordance with f-test)-->\n",
    "duration,  section,  mode,  time_signature,  chorus hit\n",
    "\n",
    "# least imortant-->  \n",
    "energy,key,speecheness,liveliness,tempo"
   ]
  }
 ],
 "metadata": {
  "kernelspec": {
   "display_name": "Python 3",
   "language": "python",
   "name": "python3"
  },
  "language_info": {
   "codemirror_mode": {
    "name": "ipython",
    "version": 3
   },
   "file_extension": ".py",
   "mimetype": "text/x-python",
   "name": "python",
   "nbconvert_exporter": "python",
   "pygments_lexer": "ipython3",
   "version": "3.7.5"
  }
 },
 "nbformat": 4,
 "nbformat_minor": 4
}
