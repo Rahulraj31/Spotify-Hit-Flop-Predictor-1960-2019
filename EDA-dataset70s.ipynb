{
 "cells": [
  {
   "cell_type": "code",
   "execution_count": 1,
   "metadata": {},
   "outputs": [],
   "source": [
    "import pandas as pd\n",
    "import numpy as np\n",
    "import matplotlib.pyplot as plt\n",
    "import seaborn as sns"
   ]
  },
  {
   "cell_type": "code",
   "execution_count": 2,
   "metadata": {},
   "outputs": [],
   "source": [
    "data = pd.read_csv('dataset-of-70s.csv')"
   ]
  },
  {
   "cell_type": "code",
   "execution_count": 3,
   "metadata": {},
   "outputs": [
    {
     "data": {
      "text/html": [
       "<div>\n",
       "<style scoped>\n",
       "    .dataframe tbody tr th:only-of-type {\n",
       "        vertical-align: middle;\n",
       "    }\n",
       "\n",
       "    .dataframe tbody tr th {\n",
       "        vertical-align: top;\n",
       "    }\n",
       "\n",
       "    .dataframe thead th {\n",
       "        text-align: right;\n",
       "    }\n",
       "</style>\n",
       "<table border=\"1\" class=\"dataframe\">\n",
       "  <thead>\n",
       "    <tr style=\"text-align: right;\">\n",
       "      <th></th>\n",
       "      <th>track</th>\n",
       "      <th>artist</th>\n",
       "      <th>uri</th>\n",
       "      <th>danceability</th>\n",
       "      <th>energy</th>\n",
       "      <th>key</th>\n",
       "      <th>loudness</th>\n",
       "      <th>mode</th>\n",
       "      <th>speechiness</th>\n",
       "      <th>acousticness</th>\n",
       "      <th>instrumentalness</th>\n",
       "      <th>liveness</th>\n",
       "      <th>valence</th>\n",
       "      <th>tempo</th>\n",
       "      <th>duration_ms</th>\n",
       "      <th>time_signature</th>\n",
       "      <th>chorus_hit</th>\n",
       "      <th>sections</th>\n",
       "      <th>target</th>\n",
       "    </tr>\n",
       "  </thead>\n",
       "  <tbody>\n",
       "    <tr>\n",
       "      <th>0</th>\n",
       "      <td>Porque?</td>\n",
       "      <td>Reginaldo Rossi</td>\n",
       "      <td>spotify:track:28KC2wl7jDv6Ms1Uc0OMpm</td>\n",
       "      <td>0.669</td>\n",
       "      <td>0.547</td>\n",
       "      <td>1</td>\n",
       "      <td>-9.873</td>\n",
       "      <td>0</td>\n",
       "      <td>0.0576</td>\n",
       "      <td>0.3530</td>\n",
       "      <td>0.000</td>\n",
       "      <td>0.0515</td>\n",
       "      <td>0.730</td>\n",
       "      <td>131.073</td>\n",
       "      <td>141067</td>\n",
       "      <td>4</td>\n",
       "      <td>28.79763</td>\n",
       "      <td>6</td>\n",
       "      <td>0</td>\n",
       "    </tr>\n",
       "    <tr>\n",
       "      <th>1</th>\n",
       "      <td>Free Jazz</td>\n",
       "      <td>Maria Teresa Luciani</td>\n",
       "      <td>spotify:track:0zagn8PNnM7pM8pz1gXOAD</td>\n",
       "      <td>0.291</td>\n",
       "      <td>0.300</td>\n",
       "      <td>1</td>\n",
       "      <td>-14.054</td>\n",
       "      <td>0</td>\n",
       "      <td>0.0326</td>\n",
       "      <td>0.9050</td>\n",
       "      <td>0.492</td>\n",
       "      <td>0.1180</td>\n",
       "      <td>0.039</td>\n",
       "      <td>75.619</td>\n",
       "      <td>228224</td>\n",
       "      <td>4</td>\n",
       "      <td>44.10303</td>\n",
       "      <td>9</td>\n",
       "      <td>0</td>\n",
       "    </tr>\n",
       "    <tr>\n",
       "      <th>2</th>\n",
       "      <td>Reject of Society</td>\n",
       "      <td>Crass</td>\n",
       "      <td>spotify:track:18eNASEiuAhO2ML5LBIoG4</td>\n",
       "      <td>0.355</td>\n",
       "      <td>0.968</td>\n",
       "      <td>7</td>\n",
       "      <td>-4.687</td>\n",
       "      <td>1</td>\n",
       "      <td>0.1890</td>\n",
       "      <td>0.0504</td>\n",
       "      <td>0.000</td>\n",
       "      <td>0.1300</td>\n",
       "      <td>0.768</td>\n",
       "      <td>181.291</td>\n",
       "      <td>66800</td>\n",
       "      <td>3</td>\n",
       "      <td>25.23004</td>\n",
       "      <td>6</td>\n",
       "      <td>0</td>\n",
       "    </tr>\n",
       "    <tr>\n",
       "      <th>3</th>\n",
       "      <td>Yeah !</td>\n",
       "      <td>The Jets</td>\n",
       "      <td>spotify:track:1UlJzHc8E5EprQFJxjSyPL</td>\n",
       "      <td>0.598</td>\n",
       "      <td>0.891</td>\n",
       "      <td>6</td>\n",
       "      <td>-11.904</td>\n",
       "      <td>1</td>\n",
       "      <td>0.0552</td>\n",
       "      <td>0.0183</td>\n",
       "      <td>0.836</td>\n",
       "      <td>0.5790</td>\n",
       "      <td>0.826</td>\n",
       "      <td>144.383</td>\n",
       "      <td>155395</td>\n",
       "      <td>4</td>\n",
       "      <td>55.62066</td>\n",
       "      <td>7</td>\n",
       "      <td>0</td>\n",
       "    </tr>\n",
       "    <tr>\n",
       "      <th>4</th>\n",
       "      <td>Gotta Find A Way</td>\n",
       "      <td>The Moments</td>\n",
       "      <td>spotify:track:1Jtlirju8tUXTtvyZJAN5v</td>\n",
       "      <td>0.440</td>\n",
       "      <td>0.376</td>\n",
       "      <td>5</td>\n",
       "      <td>-10.939</td>\n",
       "      <td>1</td>\n",
       "      <td>0.0482</td>\n",
       "      <td>0.3480</td>\n",
       "      <td>0.000</td>\n",
       "      <td>0.0815</td>\n",
       "      <td>0.358</td>\n",
       "      <td>130.438</td>\n",
       "      <td>218333</td>\n",
       "      <td>4</td>\n",
       "      <td>34.90979</td>\n",
       "      <td>12</td>\n",
       "      <td>1</td>\n",
       "    </tr>\n",
       "  </tbody>\n",
       "</table>\n",
       "</div>"
      ],
      "text/plain": [
       "               track                artist  \\\n",
       "0            Porque?       Reginaldo Rossi   \n",
       "1          Free Jazz  Maria Teresa Luciani   \n",
       "2  Reject of Society                 Crass   \n",
       "3             Yeah !              The Jets   \n",
       "4   Gotta Find A Way           The Moments   \n",
       "\n",
       "                                    uri  danceability  energy  key  loudness  \\\n",
       "0  spotify:track:28KC2wl7jDv6Ms1Uc0OMpm         0.669   0.547    1    -9.873   \n",
       "1  spotify:track:0zagn8PNnM7pM8pz1gXOAD         0.291   0.300    1   -14.054   \n",
       "2  spotify:track:18eNASEiuAhO2ML5LBIoG4         0.355   0.968    7    -4.687   \n",
       "3  spotify:track:1UlJzHc8E5EprQFJxjSyPL         0.598   0.891    6   -11.904   \n",
       "4  spotify:track:1Jtlirju8tUXTtvyZJAN5v         0.440   0.376    5   -10.939   \n",
       "\n",
       "   mode  speechiness  acousticness  instrumentalness  liveness  valence  \\\n",
       "0     0       0.0576        0.3530             0.000    0.0515    0.730   \n",
       "1     0       0.0326        0.9050             0.492    0.1180    0.039   \n",
       "2     1       0.1890        0.0504             0.000    0.1300    0.768   \n",
       "3     1       0.0552        0.0183             0.836    0.5790    0.826   \n",
       "4     1       0.0482        0.3480             0.000    0.0815    0.358   \n",
       "\n",
       "     tempo  duration_ms  time_signature  chorus_hit  sections  target  \n",
       "0  131.073       141067               4    28.79763         6       0  \n",
       "1   75.619       228224               4    44.10303         9       0  \n",
       "2  181.291        66800               3    25.23004         6       0  \n",
       "3  144.383       155395               4    55.62066         7       0  \n",
       "4  130.438       218333               4    34.90979        12       1  "
      ]
     },
     "execution_count": 3,
     "metadata": {},
     "output_type": "execute_result"
    }
   ],
   "source": [
    "data.head()"
   ]
  },
  {
   "cell_type": "markdown",
   "metadata": {},
   "source": [
    "# checking basic integrity"
   ]
  },
  {
   "cell_type": "code",
   "execution_count": 4,
   "metadata": {},
   "outputs": [
    {
     "data": {
      "text/plain": [
       "(7766, 19)"
      ]
     },
     "execution_count": 4,
     "metadata": {},
     "output_type": "execute_result"
    }
   ],
   "source": [
    "data.shape"
   ]
  },
  {
   "cell_type": "code",
   "execution_count": 5,
   "metadata": {},
   "outputs": [
    {
     "name": "stdout",
     "output_type": "stream",
     "text": [
      "<class 'pandas.core.frame.DataFrame'>\n",
      "RangeIndex: 7766 entries, 0 to 7765\n",
      "Data columns (total 19 columns):\n",
      "track               7766 non-null object\n",
      "artist              7766 non-null object\n",
      "uri                 7766 non-null object\n",
      "danceability        7766 non-null float64\n",
      "energy              7766 non-null float64\n",
      "key                 7766 non-null int64\n",
      "loudness            7766 non-null float64\n",
      "mode                7766 non-null int64\n",
      "speechiness         7766 non-null float64\n",
      "acousticness        7766 non-null float64\n",
      "instrumentalness    7766 non-null float64\n",
      "liveness            7766 non-null float64\n",
      "valence             7766 non-null float64\n",
      "tempo               7766 non-null float64\n",
      "duration_ms         7766 non-null int64\n",
      "time_signature      7766 non-null int64\n",
      "chorus_hit          7766 non-null float64\n",
      "sections            7766 non-null int64\n",
      "target              7766 non-null int64\n",
      "dtypes: float64(10), int64(6), object(3)\n",
      "memory usage: 1.1+ MB\n"
     ]
    }
   ],
   "source": [
    "data.info() "
   ]
  },
  {
   "cell_type": "markdown",
   "metadata": {},
   "source": [
    "# no. of rows = non null values for each column -> no null value"
   ]
  },
  {
   "cell_type": "code",
   "execution_count": 6,
   "metadata": {},
   "outputs": [
    {
     "data": {
      "text/html": [
       "<div>\n",
       "<style scoped>\n",
       "    .dataframe tbody tr th:only-of-type {\n",
       "        vertical-align: middle;\n",
       "    }\n",
       "\n",
       "    .dataframe tbody tr th {\n",
       "        vertical-align: top;\n",
       "    }\n",
       "\n",
       "    .dataframe thead th {\n",
       "        text-align: right;\n",
       "    }\n",
       "</style>\n",
       "<table border=\"1\" class=\"dataframe\">\n",
       "  <thead>\n",
       "    <tr style=\"text-align: right;\">\n",
       "      <th></th>\n",
       "      <th>track</th>\n",
       "      <th>artist</th>\n",
       "      <th>uri</th>\n",
       "      <th>danceability</th>\n",
       "      <th>energy</th>\n",
       "      <th>key</th>\n",
       "      <th>loudness</th>\n",
       "      <th>mode</th>\n",
       "      <th>speechiness</th>\n",
       "      <th>acousticness</th>\n",
       "      <th>instrumentalness</th>\n",
       "      <th>liveness</th>\n",
       "      <th>valence</th>\n",
       "      <th>tempo</th>\n",
       "      <th>duration_ms</th>\n",
       "      <th>time_signature</th>\n",
       "      <th>chorus_hit</th>\n",
       "      <th>sections</th>\n",
       "      <th>target</th>\n",
       "    </tr>\n",
       "  </thead>\n",
       "  <tbody>\n",
       "    <tr>\n",
       "      <th>0</th>\n",
       "      <td>Porque?</td>\n",
       "      <td>Reginaldo Rossi</td>\n",
       "      <td>spotify:track:28KC2wl7jDv6Ms1Uc0OMpm</td>\n",
       "      <td>0.669</td>\n",
       "      <td>0.547</td>\n",
       "      <td>1</td>\n",
       "      <td>-9.873</td>\n",
       "      <td>0</td>\n",
       "      <td>0.0576</td>\n",
       "      <td>0.3530</td>\n",
       "      <td>0.000</td>\n",
       "      <td>0.0515</td>\n",
       "      <td>0.730</td>\n",
       "      <td>131.073</td>\n",
       "      <td>141067</td>\n",
       "      <td>4</td>\n",
       "      <td>28.79763</td>\n",
       "      <td>6</td>\n",
       "      <td>0</td>\n",
       "    </tr>\n",
       "    <tr>\n",
       "      <th>1</th>\n",
       "      <td>Free Jazz</td>\n",
       "      <td>Maria Teresa Luciani</td>\n",
       "      <td>spotify:track:0zagn8PNnM7pM8pz1gXOAD</td>\n",
       "      <td>0.291</td>\n",
       "      <td>0.300</td>\n",
       "      <td>1</td>\n",
       "      <td>-14.054</td>\n",
       "      <td>0</td>\n",
       "      <td>0.0326</td>\n",
       "      <td>0.9050</td>\n",
       "      <td>0.492</td>\n",
       "      <td>0.1180</td>\n",
       "      <td>0.039</td>\n",
       "      <td>75.619</td>\n",
       "      <td>228224</td>\n",
       "      <td>4</td>\n",
       "      <td>44.10303</td>\n",
       "      <td>9</td>\n",
       "      <td>0</td>\n",
       "    </tr>\n",
       "    <tr>\n",
       "      <th>2</th>\n",
       "      <td>Reject of Society</td>\n",
       "      <td>Crass</td>\n",
       "      <td>spotify:track:18eNASEiuAhO2ML5LBIoG4</td>\n",
       "      <td>0.355</td>\n",
       "      <td>0.968</td>\n",
       "      <td>7</td>\n",
       "      <td>-4.687</td>\n",
       "      <td>1</td>\n",
       "      <td>0.1890</td>\n",
       "      <td>0.0504</td>\n",
       "      <td>0.000</td>\n",
       "      <td>0.1300</td>\n",
       "      <td>0.768</td>\n",
       "      <td>181.291</td>\n",
       "      <td>66800</td>\n",
       "      <td>3</td>\n",
       "      <td>25.23004</td>\n",
       "      <td>6</td>\n",
       "      <td>0</td>\n",
       "    </tr>\n",
       "    <tr>\n",
       "      <th>3</th>\n",
       "      <td>Yeah !</td>\n",
       "      <td>The Jets</td>\n",
       "      <td>spotify:track:1UlJzHc8E5EprQFJxjSyPL</td>\n",
       "      <td>0.598</td>\n",
       "      <td>0.891</td>\n",
       "      <td>6</td>\n",
       "      <td>-11.904</td>\n",
       "      <td>1</td>\n",
       "      <td>0.0552</td>\n",
       "      <td>0.0183</td>\n",
       "      <td>0.836</td>\n",
       "      <td>0.5790</td>\n",
       "      <td>0.826</td>\n",
       "      <td>144.383</td>\n",
       "      <td>155395</td>\n",
       "      <td>4</td>\n",
       "      <td>55.62066</td>\n",
       "      <td>7</td>\n",
       "      <td>0</td>\n",
       "    </tr>\n",
       "    <tr>\n",
       "      <th>4</th>\n",
       "      <td>Gotta Find A Way</td>\n",
       "      <td>The Moments</td>\n",
       "      <td>spotify:track:1Jtlirju8tUXTtvyZJAN5v</td>\n",
       "      <td>0.440</td>\n",
       "      <td>0.376</td>\n",
       "      <td>5</td>\n",
       "      <td>-10.939</td>\n",
       "      <td>1</td>\n",
       "      <td>0.0482</td>\n",
       "      <td>0.3480</td>\n",
       "      <td>0.000</td>\n",
       "      <td>0.0815</td>\n",
       "      <td>0.358</td>\n",
       "      <td>130.438</td>\n",
       "      <td>218333</td>\n",
       "      <td>4</td>\n",
       "      <td>34.90979</td>\n",
       "      <td>12</td>\n",
       "      <td>1</td>\n",
       "    </tr>\n",
       "  </tbody>\n",
       "</table>\n",
       "</div>"
      ],
      "text/plain": [
       "               track                artist  \\\n",
       "0            Porque?       Reginaldo Rossi   \n",
       "1          Free Jazz  Maria Teresa Luciani   \n",
       "2  Reject of Society                 Crass   \n",
       "3             Yeah !              The Jets   \n",
       "4   Gotta Find A Way           The Moments   \n",
       "\n",
       "                                    uri  danceability  energy  key  loudness  \\\n",
       "0  spotify:track:28KC2wl7jDv6Ms1Uc0OMpm         0.669   0.547    1    -9.873   \n",
       "1  spotify:track:0zagn8PNnM7pM8pz1gXOAD         0.291   0.300    1   -14.054   \n",
       "2  spotify:track:18eNASEiuAhO2ML5LBIoG4         0.355   0.968    7    -4.687   \n",
       "3  spotify:track:1UlJzHc8E5EprQFJxjSyPL         0.598   0.891    6   -11.904   \n",
       "4  spotify:track:1Jtlirju8tUXTtvyZJAN5v         0.440   0.376    5   -10.939   \n",
       "\n",
       "   mode  speechiness  acousticness  instrumentalness  liveness  valence  \\\n",
       "0     0       0.0576        0.3530             0.000    0.0515    0.730   \n",
       "1     0       0.0326        0.9050             0.492    0.1180    0.039   \n",
       "2     1       0.1890        0.0504             0.000    0.1300    0.768   \n",
       "3     1       0.0552        0.0183             0.836    0.5790    0.826   \n",
       "4     1       0.0482        0.3480             0.000    0.0815    0.358   \n",
       "\n",
       "     tempo  duration_ms  time_signature  chorus_hit  sections  target  \n",
       "0  131.073       141067               4    28.79763         6       0  \n",
       "1   75.619       228224               4    44.10303         9       0  \n",
       "2  181.291        66800               3    25.23004         6       0  \n",
       "3  144.383       155395               4    55.62066         7       0  \n",
       "4  130.438       218333               4    34.90979        12       1  "
      ]
     },
     "execution_count": 6,
     "metadata": {},
     "output_type": "execute_result"
    }
   ],
   "source": [
    "data.head()"
   ]
  },
  {
   "cell_type": "markdown",
   "metadata": {},
   "source": [
    "# checking unique records using uri"
   ]
  },
  {
   "cell_type": "code",
   "execution_count": 7,
   "metadata": {},
   "outputs": [],
   "source": [
    "# extracting exact id\n",
    "def extract(x):\n",
    "    splited_list = x.split(':') # spliting text at colons\n",
    "    return splited_list[2]      # returning third element\n",
    "    \n",
    "data['uri'] = data['uri'].apply(extract)  "
   ]
  },
  {
   "cell_type": "code",
   "execution_count": 8,
   "metadata": {},
   "outputs": [
    {
     "data": {
      "text/html": [
       "<div>\n",
       "<style scoped>\n",
       "    .dataframe tbody tr th:only-of-type {\n",
       "        vertical-align: middle;\n",
       "    }\n",
       "\n",
       "    .dataframe tbody tr th {\n",
       "        vertical-align: top;\n",
       "    }\n",
       "\n",
       "    .dataframe thead th {\n",
       "        text-align: right;\n",
       "    }\n",
       "</style>\n",
       "<table border=\"1\" class=\"dataframe\">\n",
       "  <thead>\n",
       "    <tr style=\"text-align: right;\">\n",
       "      <th></th>\n",
       "      <th>track</th>\n",
       "      <th>artist</th>\n",
       "      <th>uri</th>\n",
       "      <th>danceability</th>\n",
       "      <th>energy</th>\n",
       "      <th>key</th>\n",
       "      <th>loudness</th>\n",
       "      <th>mode</th>\n",
       "      <th>speechiness</th>\n",
       "      <th>acousticness</th>\n",
       "      <th>instrumentalness</th>\n",
       "      <th>liveness</th>\n",
       "      <th>valence</th>\n",
       "      <th>tempo</th>\n",
       "      <th>duration_ms</th>\n",
       "      <th>time_signature</th>\n",
       "      <th>chorus_hit</th>\n",
       "      <th>sections</th>\n",
       "      <th>target</th>\n",
       "    </tr>\n",
       "  </thead>\n",
       "  <tbody>\n",
       "    <tr>\n",
       "      <th>0</th>\n",
       "      <td>Porque?</td>\n",
       "      <td>Reginaldo Rossi</td>\n",
       "      <td>28KC2wl7jDv6Ms1Uc0OMpm</td>\n",
       "      <td>0.669</td>\n",
       "      <td>0.547</td>\n",
       "      <td>1</td>\n",
       "      <td>-9.873</td>\n",
       "      <td>0</td>\n",
       "      <td>0.0576</td>\n",
       "      <td>0.3530</td>\n",
       "      <td>0.000</td>\n",
       "      <td>0.0515</td>\n",
       "      <td>0.730</td>\n",
       "      <td>131.073</td>\n",
       "      <td>141067</td>\n",
       "      <td>4</td>\n",
       "      <td>28.79763</td>\n",
       "      <td>6</td>\n",
       "      <td>0</td>\n",
       "    </tr>\n",
       "    <tr>\n",
       "      <th>1</th>\n",
       "      <td>Free Jazz</td>\n",
       "      <td>Maria Teresa Luciani</td>\n",
       "      <td>0zagn8PNnM7pM8pz1gXOAD</td>\n",
       "      <td>0.291</td>\n",
       "      <td>0.300</td>\n",
       "      <td>1</td>\n",
       "      <td>-14.054</td>\n",
       "      <td>0</td>\n",
       "      <td>0.0326</td>\n",
       "      <td>0.9050</td>\n",
       "      <td>0.492</td>\n",
       "      <td>0.1180</td>\n",
       "      <td>0.039</td>\n",
       "      <td>75.619</td>\n",
       "      <td>228224</td>\n",
       "      <td>4</td>\n",
       "      <td>44.10303</td>\n",
       "      <td>9</td>\n",
       "      <td>0</td>\n",
       "    </tr>\n",
       "    <tr>\n",
       "      <th>2</th>\n",
       "      <td>Reject of Society</td>\n",
       "      <td>Crass</td>\n",
       "      <td>18eNASEiuAhO2ML5LBIoG4</td>\n",
       "      <td>0.355</td>\n",
       "      <td>0.968</td>\n",
       "      <td>7</td>\n",
       "      <td>-4.687</td>\n",
       "      <td>1</td>\n",
       "      <td>0.1890</td>\n",
       "      <td>0.0504</td>\n",
       "      <td>0.000</td>\n",
       "      <td>0.1300</td>\n",
       "      <td>0.768</td>\n",
       "      <td>181.291</td>\n",
       "      <td>66800</td>\n",
       "      <td>3</td>\n",
       "      <td>25.23004</td>\n",
       "      <td>6</td>\n",
       "      <td>0</td>\n",
       "    </tr>\n",
       "    <tr>\n",
       "      <th>3</th>\n",
       "      <td>Yeah !</td>\n",
       "      <td>The Jets</td>\n",
       "      <td>1UlJzHc8E5EprQFJxjSyPL</td>\n",
       "      <td>0.598</td>\n",
       "      <td>0.891</td>\n",
       "      <td>6</td>\n",
       "      <td>-11.904</td>\n",
       "      <td>1</td>\n",
       "      <td>0.0552</td>\n",
       "      <td>0.0183</td>\n",
       "      <td>0.836</td>\n",
       "      <td>0.5790</td>\n",
       "      <td>0.826</td>\n",
       "      <td>144.383</td>\n",
       "      <td>155395</td>\n",
       "      <td>4</td>\n",
       "      <td>55.62066</td>\n",
       "      <td>7</td>\n",
       "      <td>0</td>\n",
       "    </tr>\n",
       "    <tr>\n",
       "      <th>4</th>\n",
       "      <td>Gotta Find A Way</td>\n",
       "      <td>The Moments</td>\n",
       "      <td>1Jtlirju8tUXTtvyZJAN5v</td>\n",
       "      <td>0.440</td>\n",
       "      <td>0.376</td>\n",
       "      <td>5</td>\n",
       "      <td>-10.939</td>\n",
       "      <td>1</td>\n",
       "      <td>0.0482</td>\n",
       "      <td>0.3480</td>\n",
       "      <td>0.000</td>\n",
       "      <td>0.0815</td>\n",
       "      <td>0.358</td>\n",
       "      <td>130.438</td>\n",
       "      <td>218333</td>\n",
       "      <td>4</td>\n",
       "      <td>34.90979</td>\n",
       "      <td>12</td>\n",
       "      <td>1</td>\n",
       "    </tr>\n",
       "  </tbody>\n",
       "</table>\n",
       "</div>"
      ],
      "text/plain": [
       "               track                artist                     uri  \\\n",
       "0            Porque?       Reginaldo Rossi  28KC2wl7jDv6Ms1Uc0OMpm   \n",
       "1          Free Jazz  Maria Teresa Luciani  0zagn8PNnM7pM8pz1gXOAD   \n",
       "2  Reject of Society                 Crass  18eNASEiuAhO2ML5LBIoG4   \n",
       "3             Yeah !              The Jets  1UlJzHc8E5EprQFJxjSyPL   \n",
       "4   Gotta Find A Way           The Moments  1Jtlirju8tUXTtvyZJAN5v   \n",
       "\n",
       "   danceability  energy  key  loudness  mode  speechiness  acousticness  \\\n",
       "0         0.669   0.547    1    -9.873     0       0.0576        0.3530   \n",
       "1         0.291   0.300    1   -14.054     0       0.0326        0.9050   \n",
       "2         0.355   0.968    7    -4.687     1       0.1890        0.0504   \n",
       "3         0.598   0.891    6   -11.904     1       0.0552        0.0183   \n",
       "4         0.440   0.376    5   -10.939     1       0.0482        0.3480   \n",
       "\n",
       "   instrumentalness  liveness  valence    tempo  duration_ms  time_signature  \\\n",
       "0             0.000    0.0515    0.730  131.073       141067               4   \n",
       "1             0.492    0.1180    0.039   75.619       228224               4   \n",
       "2             0.000    0.1300    0.768  181.291        66800               3   \n",
       "3             0.836    0.5790    0.826  144.383       155395               4   \n",
       "4             0.000    0.0815    0.358  130.438       218333               4   \n",
       "\n",
       "   chorus_hit  sections  target  \n",
       "0    28.79763         6       0  \n",
       "1    44.10303         9       0  \n",
       "2    25.23004         6       0  \n",
       "3    55.62066         7       0  \n",
       "4    34.90979        12       1  "
      ]
     },
     "execution_count": 8,
     "metadata": {},
     "output_type": "execute_result"
    }
   ],
   "source": [
    "data.head() #successfully extracted the id"
   ]
  },
  {
   "cell_type": "markdown",
   "metadata": {},
   "source": [
    "# checking for duplicate rows"
   ]
  },
  {
   "cell_type": "code",
   "execution_count": 9,
   "metadata": {},
   "outputs": [
    {
     "data": {
      "text/plain": [
       "(7749,)"
      ]
     },
     "execution_count": 9,
     "metadata": {},
     "output_type": "execute_result"
    }
   ],
   "source": [
    "data['uri'].nunique(), "
   ]
  },
  {
   "cell_type": "code",
   "execution_count": 10,
   "metadata": {},
   "outputs": [
    {
     "data": {
      "text/plain": [
       "3mRM4NM8iO7UBqrSigCQFH    3\n",
       "7fu3Tv5rcoGD1PZV7s57WW    2\n",
       "2ljjoZun9Xid1AAFKEEXam    2\n",
       "1hjNIcn5cvl9x8U44xUMqE    2\n",
       "3iJGrfXRepS04IiZP3VBUp    2\n",
       "                         ..\n",
       "3rQHFR5ZeWojOak44FA3FZ    1\n",
       "5vIJJklN9p1FfY8DdbF0XA    1\n",
       "1m2SlWcpabs2ur7f1Ts7t1    1\n",
       "6lSVidZXCnOnYAWcgIqVDF    1\n",
       "6ZEr9rOBIb2kq0dursC9aB    1\n",
       "Name: uri, Length: 7749, dtype: int64"
      ]
     },
     "execution_count": 10,
     "metadata": {},
     "output_type": "execute_result"
    }
   ],
   "source": [
    "data['uri'].value_counts()\n"
   ]
  },
  {
   "cell_type": "code",
   "execution_count": 11,
   "metadata": {},
   "outputs": [
    {
     "data": {
      "text/plain": [
       "array([3, 2, 1], dtype=int64)"
      ]
     },
     "execution_count": 11,
     "metadata": {},
     "output_type": "execute_result"
    }
   ],
   "source": [
    "data['uri'].value_counts().unique() "
   ]
  },
  {
   "cell_type": "code",
   "execution_count": 12,
   "metadata": {},
   "outputs": [],
   "source": [
    "dupe_mask = data['uri'].value_counts()==2"
   ]
  },
  {
   "cell_type": "code",
   "execution_count": 13,
   "metadata": {},
   "outputs": [
    {
     "data": {
      "text/plain": [
       "(<bound method IndexOpsMixin.value_counts of 7fu3Tv5rcoGD1PZV7s57WW    True\n",
       " 2ljjoZun9Xid1AAFKEEXam    True\n",
       " 1hjNIcn5cvl9x8U44xUMqE    True\n",
       " 3iJGrfXRepS04IiZP3VBUp    True\n",
       " 0RgcOUQg4qYAEt9RIdf3oB    True\n",
       " 2IoP69pwUhyOtCACHEbhko    True\n",
       " 1K1nzhbKCNmrNXi9B07mPF    True\n",
       " 4xxn8GDqs7RUwgZTNznXNp    True\n",
       " 5tmrnhMxx39jnu3kjopMdP    True\n",
       " 7cRioMuuOoe8rwcqvsM4pD    True\n",
       " 1naVD19eofGpFf6wosmHIe    True\n",
       " 1QR3Wcba5NBidmxEE8DW3w    True\n",
       " 4M1zcX803dgkDkISHZDPYi    True\n",
       " 2T3R19V9qMiiuRWPor8Axf    True\n",
       " 3sWHFwTUKWTwETu4QmD8bb    True\n",
       " Name: uri, dtype: bool>, (15,))"
      ]
     },
     "execution_count": 13,
     "metadata": {},
     "output_type": "execute_result"
    }
   ],
   "source": [
    "dupe_ids = dupe_mask[dupe_mask]\n",
    "\n",
    "dupe_ids.value_counts,  dupe_ids.shape  "
   ]
  },
  {
   "cell_type": "code",
   "execution_count": 14,
   "metadata": {},
   "outputs": [
    {
     "data": {
      "text/plain": [
       "['7fu3Tv5rcoGD1PZV7s57WW',\n",
       " '2ljjoZun9Xid1AAFKEEXam',\n",
       " '1hjNIcn5cvl9x8U44xUMqE',\n",
       " '3iJGrfXRepS04IiZP3VBUp',\n",
       " '0RgcOUQg4qYAEt9RIdf3oB',\n",
       " '2IoP69pwUhyOtCACHEbhko',\n",
       " '1K1nzhbKCNmrNXi9B07mPF',\n",
       " '4xxn8GDqs7RUwgZTNznXNp',\n",
       " '5tmrnhMxx39jnu3kjopMdP',\n",
       " '7cRioMuuOoe8rwcqvsM4pD',\n",
       " '1naVD19eofGpFf6wosmHIe',\n",
       " '1QR3Wcba5NBidmxEE8DW3w',\n",
       " '4M1zcX803dgkDkISHZDPYi',\n",
       " '2T3R19V9qMiiuRWPor8Axf',\n",
       " '3sWHFwTUKWTwETu4QmD8bb']"
      ]
     },
     "execution_count": 14,
     "metadata": {},
     "output_type": "execute_result"
    }
   ],
   "source": [
    "#converting duplicate ids into a list\n",
    "dupe_ids  = dupe_ids.index\n",
    "dupe_ids = dupe_ids.tolist()\n",
    "dupe_ids"
   ]
  },
  {
   "cell_type": "code",
   "execution_count": 15,
   "metadata": {},
   "outputs": [],
   "source": [
    "duplicate_index = data.loc[data['uri'].isin(dupe_ids),:].index  # all the duplicted records\n",
    "duplicate_index = duplicate_index.tolist()"
   ]
  },
  {
   "cell_type": "markdown",
   "metadata": {},
   "source": [
    "# We will be removing all the duplication as they are few compared to data"
   ]
  },
  {
   "cell_type": "code",
   "execution_count": 16,
   "metadata": {},
   "outputs": [
    {
     "data": {
      "text/plain": [
       "(7736, 19)"
      ]
     },
     "execution_count": 16,
     "metadata": {},
     "output_type": "execute_result"
    }
   ],
   "source": [
    "data.drop(duplicate_index,axis=0,inplace=True)\n",
    "data.shape"
   ]
  },
  {
   "cell_type": "code",
   "execution_count": 17,
   "metadata": {},
   "outputs": [
    {
     "name": "stdout",
     "output_type": "stream",
     "text": [
      "<class 'pandas.core.frame.DataFrame'>\n",
      "Int64Index: 7736 entries, 0 to 7765\n",
      "Data columns (total 19 columns):\n",
      "track               7736 non-null object\n",
      "artist              7736 non-null object\n",
      "uri                 7736 non-null object\n",
      "danceability        7736 non-null float64\n",
      "energy              7736 non-null float64\n",
      "key                 7736 non-null int64\n",
      "loudness            7736 non-null float64\n",
      "mode                7736 non-null int64\n",
      "speechiness         7736 non-null float64\n",
      "acousticness        7736 non-null float64\n",
      "instrumentalness    7736 non-null float64\n",
      "liveness            7736 non-null float64\n",
      "valence             7736 non-null float64\n",
      "tempo               7736 non-null float64\n",
      "duration_ms         7736 non-null int64\n",
      "time_signature      7736 non-null int64\n",
      "chorus_hit          7736 non-null float64\n",
      "sections            7736 non-null int64\n",
      "target              7736 non-null int64\n",
      "dtypes: float64(10), int64(6), object(3)\n",
      "memory usage: 1.2+ MB\n"
     ]
    }
   ],
   "source": [
    "data.info()"
   ]
  },
  {
   "cell_type": "code",
   "execution_count": 18,
   "metadata": {},
   "outputs": [
    {
     "name": "stdout",
     "output_type": "stream",
     "text": [
      "shape of data (7736, 19)\n",
      "no. of unique rows 7734\n"
     ]
    }
   ],
   "source": [
    "print(\"shape of data\",data.shape )\n",
    "print(\"no. of unique rows\",data['uri'].nunique()) # no duplicates"
   ]
  },
  {
   "cell_type": "code",
   "execution_count": 19,
   "metadata": {},
   "outputs": [
    {
     "data": {
      "text/html": [
       "<div>\n",
       "<style scoped>\n",
       "    .dataframe tbody tr th:only-of-type {\n",
       "        vertical-align: middle;\n",
       "    }\n",
       "\n",
       "    .dataframe tbody tr th {\n",
       "        vertical-align: top;\n",
       "    }\n",
       "\n",
       "    .dataframe thead th {\n",
       "        text-align: right;\n",
       "    }\n",
       "</style>\n",
       "<table border=\"1\" class=\"dataframe\">\n",
       "  <thead>\n",
       "    <tr style=\"text-align: right;\">\n",
       "      <th></th>\n",
       "      <th>track</th>\n",
       "      <th>artist</th>\n",
       "      <th>uri</th>\n",
       "      <th>danceability</th>\n",
       "      <th>energy</th>\n",
       "      <th>key</th>\n",
       "      <th>loudness</th>\n",
       "      <th>mode</th>\n",
       "      <th>speechiness</th>\n",
       "      <th>acousticness</th>\n",
       "      <th>instrumentalness</th>\n",
       "      <th>liveness</th>\n",
       "      <th>valence</th>\n",
       "      <th>tempo</th>\n",
       "      <th>duration_ms</th>\n",
       "      <th>time_signature</th>\n",
       "      <th>chorus_hit</th>\n",
       "      <th>sections</th>\n",
       "      <th>target</th>\n",
       "    </tr>\n",
       "  </thead>\n",
       "  <tbody>\n",
       "    <tr>\n",
       "      <th>0</th>\n",
       "      <td>Porque?</td>\n",
       "      <td>Reginaldo Rossi</td>\n",
       "      <td>28KC2wl7jDv6Ms1Uc0OMpm</td>\n",
       "      <td>0.669</td>\n",
       "      <td>0.547</td>\n",
       "      <td>1</td>\n",
       "      <td>-9.873</td>\n",
       "      <td>0</td>\n",
       "      <td>0.0576</td>\n",
       "      <td>0.3530</td>\n",
       "      <td>0.000</td>\n",
       "      <td>0.0515</td>\n",
       "      <td>0.730</td>\n",
       "      <td>131.073</td>\n",
       "      <td>141067</td>\n",
       "      <td>4</td>\n",
       "      <td>28.79763</td>\n",
       "      <td>6</td>\n",
       "      <td>0</td>\n",
       "    </tr>\n",
       "    <tr>\n",
       "      <th>1</th>\n",
       "      <td>Free Jazz</td>\n",
       "      <td>Maria Teresa Luciani</td>\n",
       "      <td>0zagn8PNnM7pM8pz1gXOAD</td>\n",
       "      <td>0.291</td>\n",
       "      <td>0.300</td>\n",
       "      <td>1</td>\n",
       "      <td>-14.054</td>\n",
       "      <td>0</td>\n",
       "      <td>0.0326</td>\n",
       "      <td>0.9050</td>\n",
       "      <td>0.492</td>\n",
       "      <td>0.1180</td>\n",
       "      <td>0.039</td>\n",
       "      <td>75.619</td>\n",
       "      <td>228224</td>\n",
       "      <td>4</td>\n",
       "      <td>44.10303</td>\n",
       "      <td>9</td>\n",
       "      <td>0</td>\n",
       "    </tr>\n",
       "    <tr>\n",
       "      <th>2</th>\n",
       "      <td>Reject of Society</td>\n",
       "      <td>Crass</td>\n",
       "      <td>18eNASEiuAhO2ML5LBIoG4</td>\n",
       "      <td>0.355</td>\n",
       "      <td>0.968</td>\n",
       "      <td>7</td>\n",
       "      <td>-4.687</td>\n",
       "      <td>1</td>\n",
       "      <td>0.1890</td>\n",
       "      <td>0.0504</td>\n",
       "      <td>0.000</td>\n",
       "      <td>0.1300</td>\n",
       "      <td>0.768</td>\n",
       "      <td>181.291</td>\n",
       "      <td>66800</td>\n",
       "      <td>3</td>\n",
       "      <td>25.23004</td>\n",
       "      <td>6</td>\n",
       "      <td>0</td>\n",
       "    </tr>\n",
       "    <tr>\n",
       "      <th>3</th>\n",
       "      <td>Yeah !</td>\n",
       "      <td>The Jets</td>\n",
       "      <td>1UlJzHc8E5EprQFJxjSyPL</td>\n",
       "      <td>0.598</td>\n",
       "      <td>0.891</td>\n",
       "      <td>6</td>\n",
       "      <td>-11.904</td>\n",
       "      <td>1</td>\n",
       "      <td>0.0552</td>\n",
       "      <td>0.0183</td>\n",
       "      <td>0.836</td>\n",
       "      <td>0.5790</td>\n",
       "      <td>0.826</td>\n",
       "      <td>144.383</td>\n",
       "      <td>155395</td>\n",
       "      <td>4</td>\n",
       "      <td>55.62066</td>\n",
       "      <td>7</td>\n",
       "      <td>0</td>\n",
       "    </tr>\n",
       "    <tr>\n",
       "      <th>4</th>\n",
       "      <td>Gotta Find A Way</td>\n",
       "      <td>The Moments</td>\n",
       "      <td>1Jtlirju8tUXTtvyZJAN5v</td>\n",
       "      <td>0.440</td>\n",
       "      <td>0.376</td>\n",
       "      <td>5</td>\n",
       "      <td>-10.939</td>\n",
       "      <td>1</td>\n",
       "      <td>0.0482</td>\n",
       "      <td>0.3480</td>\n",
       "      <td>0.000</td>\n",
       "      <td>0.0815</td>\n",
       "      <td>0.358</td>\n",
       "      <td>130.438</td>\n",
       "      <td>218333</td>\n",
       "      <td>4</td>\n",
       "      <td>34.90979</td>\n",
       "      <td>12</td>\n",
       "      <td>1</td>\n",
       "    </tr>\n",
       "  </tbody>\n",
       "</table>\n",
       "</div>"
      ],
      "text/plain": [
       "               track                artist                     uri  \\\n",
       "0            Porque?       Reginaldo Rossi  28KC2wl7jDv6Ms1Uc0OMpm   \n",
       "1          Free Jazz  Maria Teresa Luciani  0zagn8PNnM7pM8pz1gXOAD   \n",
       "2  Reject of Society                 Crass  18eNASEiuAhO2ML5LBIoG4   \n",
       "3             Yeah !              The Jets  1UlJzHc8E5EprQFJxjSyPL   \n",
       "4   Gotta Find A Way           The Moments  1Jtlirju8tUXTtvyZJAN5v   \n",
       "\n",
       "   danceability  energy  key  loudness  mode  speechiness  acousticness  \\\n",
       "0         0.669   0.547    1    -9.873     0       0.0576        0.3530   \n",
       "1         0.291   0.300    1   -14.054     0       0.0326        0.9050   \n",
       "2         0.355   0.968    7    -4.687     1       0.1890        0.0504   \n",
       "3         0.598   0.891    6   -11.904     1       0.0552        0.0183   \n",
       "4         0.440   0.376    5   -10.939     1       0.0482        0.3480   \n",
       "\n",
       "   instrumentalness  liveness  valence    tempo  duration_ms  time_signature  \\\n",
       "0             0.000    0.0515    0.730  131.073       141067               4   \n",
       "1             0.492    0.1180    0.039   75.619       228224               4   \n",
       "2             0.000    0.1300    0.768  181.291        66800               3   \n",
       "3             0.836    0.5790    0.826  144.383       155395               4   \n",
       "4             0.000    0.0815    0.358  130.438       218333               4   \n",
       "\n",
       "   chorus_hit  sections  target  \n",
       "0    28.79763         6       0  \n",
       "1    44.10303         9       0  \n",
       "2    25.23004         6       0  \n",
       "3    55.62066         7       0  \n",
       "4    34.90979        12       1  "
      ]
     },
     "execution_count": 19,
     "metadata": {},
     "output_type": "execute_result"
    }
   ],
   "source": [
    "data.head()"
   ]
  },
  {
   "cell_type": "markdown",
   "metadata": {},
   "source": [
    "# now we will be dropping all the unnecessary columns which contain string which cant be eficiently converted into numerics"
   ]
  },
  {
   "cell_type": "code",
   "execution_count": 20,
   "metadata": {},
   "outputs": [],
   "source": [
    "data.drop(['track','artist','uri'],axis=1,inplace=True)"
   ]
  },
  {
   "cell_type": "code",
   "execution_count": 21,
   "metadata": {},
   "outputs": [
    {
     "data": {
      "text/html": [
       "<div>\n",
       "<style scoped>\n",
       "    .dataframe tbody tr th:only-of-type {\n",
       "        vertical-align: middle;\n",
       "    }\n",
       "\n",
       "    .dataframe tbody tr th {\n",
       "        vertical-align: top;\n",
       "    }\n",
       "\n",
       "    .dataframe thead th {\n",
       "        text-align: right;\n",
       "    }\n",
       "</style>\n",
       "<table border=\"1\" class=\"dataframe\">\n",
       "  <thead>\n",
       "    <tr style=\"text-align: right;\">\n",
       "      <th></th>\n",
       "      <th>danceability</th>\n",
       "      <th>energy</th>\n",
       "      <th>key</th>\n",
       "      <th>loudness</th>\n",
       "      <th>mode</th>\n",
       "      <th>speechiness</th>\n",
       "      <th>acousticness</th>\n",
       "      <th>instrumentalness</th>\n",
       "      <th>liveness</th>\n",
       "      <th>valence</th>\n",
       "      <th>tempo</th>\n",
       "      <th>duration_ms</th>\n",
       "      <th>time_signature</th>\n",
       "      <th>chorus_hit</th>\n",
       "      <th>sections</th>\n",
       "      <th>target</th>\n",
       "    </tr>\n",
       "  </thead>\n",
       "  <tbody>\n",
       "    <tr>\n",
       "      <th>0</th>\n",
       "      <td>0.669</td>\n",
       "      <td>0.547</td>\n",
       "      <td>1</td>\n",
       "      <td>-9.873</td>\n",
       "      <td>0</td>\n",
       "      <td>0.0576</td>\n",
       "      <td>0.3530</td>\n",
       "      <td>0.000</td>\n",
       "      <td>0.0515</td>\n",
       "      <td>0.730</td>\n",
       "      <td>131.073</td>\n",
       "      <td>141067</td>\n",
       "      <td>4</td>\n",
       "      <td>28.79763</td>\n",
       "      <td>6</td>\n",
       "      <td>0</td>\n",
       "    </tr>\n",
       "    <tr>\n",
       "      <th>1</th>\n",
       "      <td>0.291</td>\n",
       "      <td>0.300</td>\n",
       "      <td>1</td>\n",
       "      <td>-14.054</td>\n",
       "      <td>0</td>\n",
       "      <td>0.0326</td>\n",
       "      <td>0.9050</td>\n",
       "      <td>0.492</td>\n",
       "      <td>0.1180</td>\n",
       "      <td>0.039</td>\n",
       "      <td>75.619</td>\n",
       "      <td>228224</td>\n",
       "      <td>4</td>\n",
       "      <td>44.10303</td>\n",
       "      <td>9</td>\n",
       "      <td>0</td>\n",
       "    </tr>\n",
       "    <tr>\n",
       "      <th>2</th>\n",
       "      <td>0.355</td>\n",
       "      <td>0.968</td>\n",
       "      <td>7</td>\n",
       "      <td>-4.687</td>\n",
       "      <td>1</td>\n",
       "      <td>0.1890</td>\n",
       "      <td>0.0504</td>\n",
       "      <td>0.000</td>\n",
       "      <td>0.1300</td>\n",
       "      <td>0.768</td>\n",
       "      <td>181.291</td>\n",
       "      <td>66800</td>\n",
       "      <td>3</td>\n",
       "      <td>25.23004</td>\n",
       "      <td>6</td>\n",
       "      <td>0</td>\n",
       "    </tr>\n",
       "    <tr>\n",
       "      <th>3</th>\n",
       "      <td>0.598</td>\n",
       "      <td>0.891</td>\n",
       "      <td>6</td>\n",
       "      <td>-11.904</td>\n",
       "      <td>1</td>\n",
       "      <td>0.0552</td>\n",
       "      <td>0.0183</td>\n",
       "      <td>0.836</td>\n",
       "      <td>0.5790</td>\n",
       "      <td>0.826</td>\n",
       "      <td>144.383</td>\n",
       "      <td>155395</td>\n",
       "      <td>4</td>\n",
       "      <td>55.62066</td>\n",
       "      <td>7</td>\n",
       "      <td>0</td>\n",
       "    </tr>\n",
       "    <tr>\n",
       "      <th>4</th>\n",
       "      <td>0.440</td>\n",
       "      <td>0.376</td>\n",
       "      <td>5</td>\n",
       "      <td>-10.939</td>\n",
       "      <td>1</td>\n",
       "      <td>0.0482</td>\n",
       "      <td>0.3480</td>\n",
       "      <td>0.000</td>\n",
       "      <td>0.0815</td>\n",
       "      <td>0.358</td>\n",
       "      <td>130.438</td>\n",
       "      <td>218333</td>\n",
       "      <td>4</td>\n",
       "      <td>34.90979</td>\n",
       "      <td>12</td>\n",
       "      <td>1</td>\n",
       "    </tr>\n",
       "  </tbody>\n",
       "</table>\n",
       "</div>"
      ],
      "text/plain": [
       "   danceability  energy  key  loudness  mode  speechiness  acousticness  \\\n",
       "0         0.669   0.547    1    -9.873     0       0.0576        0.3530   \n",
       "1         0.291   0.300    1   -14.054     0       0.0326        0.9050   \n",
       "2         0.355   0.968    7    -4.687     1       0.1890        0.0504   \n",
       "3         0.598   0.891    6   -11.904     1       0.0552        0.0183   \n",
       "4         0.440   0.376    5   -10.939     1       0.0482        0.3480   \n",
       "\n",
       "   instrumentalness  liveness  valence    tempo  duration_ms  time_signature  \\\n",
       "0             0.000    0.0515    0.730  131.073       141067               4   \n",
       "1             0.492    0.1180    0.039   75.619       228224               4   \n",
       "2             0.000    0.1300    0.768  181.291        66800               3   \n",
       "3             0.836    0.5790    0.826  144.383       155395               4   \n",
       "4             0.000    0.0815    0.358  130.438       218333               4   \n",
       "\n",
       "   chorus_hit  sections  target  \n",
       "0    28.79763         6       0  \n",
       "1    44.10303         9       0  \n",
       "2    25.23004         6       0  \n",
       "3    55.62066         7       0  \n",
       "4    34.90979        12       1  "
      ]
     },
     "execution_count": 21,
     "metadata": {},
     "output_type": "execute_result"
    }
   ],
   "source": [
    "data.head()"
   ]
  },
  {
   "cell_type": "markdown",
   "metadata": {},
   "source": [
    "# Univariate analysis"
   ]
  },
  {
   "cell_type": "code",
   "execution_count": 22,
   "metadata": {},
   "outputs": [
    {
     "data": {
      "text/plain": [
       "<AxesSubplot:xlabel='target', ylabel='count'>"
      ]
     },
     "execution_count": 22,
     "metadata": {},
     "output_type": "execute_result"
    },
    {
     "data": {
      "image/png": "[encoded data removed]",
      "text/plain": [
       "<Figure size 432x288 with 1 Axes>"
      ]
     },
     "metadata": {
      "needs_background": "light"
     },
     "output_type": "display_data"
    }
   ],
   "source": [
    "#analysing class imbalance\n",
    "sns.countplot(data=data,x='target') "
   ]
  },
  {
   "cell_type": "code",
   "execution_count": 23,
   "metadata": {},
   "outputs": [
    {
     "data": {
      "text/plain": [
       "Index(['danceability', 'energy', 'key', 'loudness', 'mode', 'speechiness',\n",
       "       'acousticness', 'instrumentalness', 'liveness', 'valence', 'tempo',\n",
       "       'duration_ms', 'time_signature', 'chorus_hit', 'sections', 'target'],\n",
       "      dtype='object')"
      ]
     },
     "execution_count": 23,
     "metadata": {},
     "output_type": "execute_result"
    }
   ],
   "source": [
    "data.columns"
   ]
  },
  {
   "cell_type": "code",
   "execution_count": 24,
   "metadata": {},
   "outputs": [
    {
     "name": "stdout",
     "output_type": "stream",
     "text": [
      "<class 'pandas.core.frame.DataFrame'>\n",
      "Int64Index: 7736 entries, 0 to 7765\n",
      "Data columns (total 4 columns):\n",
      "danceability    7736 non-null float64\n",
      "energy          7736 non-null float64\n",
      "key             7736 non-null int64\n",
      "loudness        7736 non-null float64\n",
      "dtypes: float64(3), int64(1)\n",
      "memory usage: 622.2 KB\n"
     ]
    }
   ],
   "source": [
    "# checking appropriate data type\n",
    "data[['danceability', 'energy', 'key', 'loudness']].info() # every feature have appropriate datatype"
   ]
  },
  {
   "cell_type": "code",
   "execution_count": 25,
   "metadata": {},
   "outputs": [
    {
     "data": {
      "text/html": [
       "<div>\n",
       "<style scoped>\n",
       "    .dataframe tbody tr th:only-of-type {\n",
       "        vertical-align: middle;\n",
       "    }\n",
       "\n",
       "    .dataframe tbody tr th {\n",
       "        vertical-align: top;\n",
       "    }\n",
       "\n",
       "    .dataframe thead th {\n",
       "        text-align: right;\n",
       "    }\n",
       "</style>\n",
       "<table border=\"1\" class=\"dataframe\">\n",
       "  <thead>\n",
       "    <tr style=\"text-align: right;\">\n",
       "      <th></th>\n",
       "      <th>danceability</th>\n",
       "      <th>energy</th>\n",
       "      <th>key</th>\n",
       "      <th>loudness</th>\n",
       "    </tr>\n",
       "  </thead>\n",
       "  <tbody>\n",
       "    <tr>\n",
       "      <th>count</th>\n",
       "      <td>7736.000000</td>\n",
       "      <td>7736.000000</td>\n",
       "      <td>7736.000000</td>\n",
       "      <td>7736.000000</td>\n",
       "    </tr>\n",
       "    <tr>\n",
       "      <th>mean</th>\n",
       "      <td>0.525473</td>\n",
       "      <td>0.528040</td>\n",
       "      <td>5.204240</td>\n",
       "      <td>-11.733830</td>\n",
       "    </tr>\n",
       "    <tr>\n",
       "      <th>std</th>\n",
       "      <td>0.162930</td>\n",
       "      <td>0.235751</td>\n",
       "      <td>3.503019</td>\n",
       "      <td>4.822245</td>\n",
       "    </tr>\n",
       "    <tr>\n",
       "      <th>min</th>\n",
       "      <td>0.063000</td>\n",
       "      <td>0.001100</td>\n",
       "      <td>0.000000</td>\n",
       "      <td>-41.440000</td>\n",
       "    </tr>\n",
       "    <tr>\n",
       "      <th>25%</th>\n",
       "      <td>0.415000</td>\n",
       "      <td>0.354000</td>\n",
       "      <td>2.000000</td>\n",
       "      <td>-14.072000</td>\n",
       "    </tr>\n",
       "    <tr>\n",
       "      <th>50%</th>\n",
       "      <td>0.535000</td>\n",
       "      <td>0.533500</td>\n",
       "      <td>5.000000</td>\n",
       "      <td>-11.038500</td>\n",
       "    </tr>\n",
       "    <tr>\n",
       "      <th>75%</th>\n",
       "      <td>0.646000</td>\n",
       "      <td>0.712250</td>\n",
       "      <td>9.000000</td>\n",
       "      <td>-8.394750</td>\n",
       "    </tr>\n",
       "    <tr>\n",
       "      <th>max</th>\n",
       "      <td>0.961000</td>\n",
       "      <td>0.999000</td>\n",
       "      <td>11.000000</td>\n",
       "      <td>3.744000</td>\n",
       "    </tr>\n",
       "  </tbody>\n",
       "</table>\n",
       "</div>"
      ],
      "text/plain": [
       "       danceability       energy          key     loudness\n",
       "count   7736.000000  7736.000000  7736.000000  7736.000000\n",
       "mean       0.525473     0.528040     5.204240   -11.733830\n",
       "std        0.162930     0.235751     3.503019     4.822245\n",
       "min        0.063000     0.001100     0.000000   -41.440000\n",
       "25%        0.415000     0.354000     2.000000   -14.072000\n",
       "50%        0.535000     0.533500     5.000000   -11.038500\n",
       "75%        0.646000     0.712250     9.000000    -8.394750\n",
       "max        0.961000     0.999000    11.000000     3.744000"
      ]
     },
     "execution_count": 25,
     "metadata": {},
     "output_type": "execute_result"
    }
   ],
   "source": [
    "# checking range of first 4 features \n",
    "data[['danceability', 'energy', 'key', 'loudness']].describe()\n"
   ]
  },
  {
   "cell_type": "code",
   "execution_count": 26,
   "metadata": {},
   "outputs": [
    {
     "data": {
      "text/plain": [
       "[<matplotlib.lines.Line2D at 0x2709a85e4c8>,\n",
       " <matplotlib.lines.Line2D at 0x2709a83df08>]"
      ]
     },
     "execution_count": 26,
     "metadata": {},
     "output_type": "execute_result"
    },
    {
     "data": {
      "image/png": "[encoded data removed]",
      "text/plain": [
       "<Figure size 720x720 with 3 Axes>"
      ]
     },
     "metadata": {
      "needs_background": "light"
     },
     "output_type": "display_data"
    }
   ],
   "source": [
    "plt.figure(figsize=(10,10))\n",
    "plt.subplot(2,2,1)\n",
    "data['danceability'].plot()\n",
    "plt.subplot(2,2,2)\n",
    "plt.plot(data['energy'],color='red')\n",
    "plt.subplot(2,2,3)\n",
    "plt.plot(data[['key','loudness']])\n"
   ]
  },
  {
   "cell_type": "markdown",
   "metadata": {},
   "source": [
    "#  danceabilty is well inside the range(0,1)\n",
    "# energy is well inside the range(0,1)\n",
    "# there's no -1 for keys-> every track has been assigned respective keys\n",
    "# loudness values are out of range(0,-60)db"
   ]
  },
  {
   "cell_type": "code",
   "execution_count": 27,
   "metadata": {},
   "outputs": [
    {
     "data": {
      "text/plain": [
       "Int64Index([38, 2476, 3501, 6069, 7649], dtype='int64')"
      ]
     },
     "execution_count": 27,
     "metadata": {},
     "output_type": "execute_result"
    }
   ],
   "source": [
    "loudness_error_idnex = data[data['loudness']>0].index\n",
    "loudness_error_idnex"
   ]
  },
  {
   "cell_type": "code",
   "execution_count": 28,
   "metadata": {},
   "outputs": [],
   "source": [
    " # removing rows with out of range values in loudness column\n",
    "data.drop(loudness_error_idnex,axis=0, inplace=True)"
   ]
  },
  {
   "cell_type": "code",
   "execution_count": 29,
   "metadata": {},
   "outputs": [
    {
     "data": {
      "text/plain": [
       "(7731, 16)"
      ]
     },
     "execution_count": 29,
     "metadata": {},
     "output_type": "execute_result"
    }
   ],
   "source": [
    "data.shape  # record is removed "
   ]
  },
  {
   "cell_type": "code",
   "execution_count": 30,
   "metadata": {},
   "outputs": [
    {
     "name": "stdout",
     "output_type": "stream",
     "text": [
      "<class 'pandas.core.frame.DataFrame'>\n",
      "Int64Index: 7731 entries, 0 to 7765\n",
      "Data columns (total 5 columns):\n",
      "mode                7731 non-null int64\n",
      "speechiness         7731 non-null float64\n",
      "acousticness        7731 non-null float64\n",
      "instrumentalness    7731 non-null float64\n",
      "liveness            7731 non-null float64\n",
      "dtypes: float64(4), int64(1)\n",
      "memory usage: 362.4 KB\n"
     ]
    }
   ],
   "source": [
    "# checking appropriate datatype for next 5 columns\n",
    "data[['mode', 'speechiness',\n",
    "       'acousticness', 'instrumentalness', 'liveness',]].info() # datatypes are in acoordance with provided info"
   ]
  },
  {
   "cell_type": "code",
   "execution_count": 31,
   "metadata": {},
   "outputs": [
    {
     "data": {
      "text/html": [
       "<div>\n",
       "<style scoped>\n",
       "    .dataframe tbody tr th:only-of-type {\n",
       "        vertical-align: middle;\n",
       "    }\n",
       "\n",
       "    .dataframe tbody tr th {\n",
       "        vertical-align: top;\n",
       "    }\n",
       "\n",
       "    .dataframe thead th {\n",
       "        text-align: right;\n",
       "    }\n",
       "</style>\n",
       "<table border=\"1\" class=\"dataframe\">\n",
       "  <thead>\n",
       "    <tr style=\"text-align: right;\">\n",
       "      <th></th>\n",
       "      <th>mode</th>\n",
       "      <th>speechiness</th>\n",
       "      <th>acousticness</th>\n",
       "      <th>instrumentalness</th>\n",
       "      <th>liveness</th>\n",
       "    </tr>\n",
       "  </thead>\n",
       "  <tbody>\n",
       "    <tr>\n",
       "      <th>count</th>\n",
       "      <td>7731.000000</td>\n",
       "      <td>7731.000000</td>\n",
       "      <td>7731.000000</td>\n",
       "      <td>7731.000000</td>\n",
       "      <td>7731.000000</td>\n",
       "    </tr>\n",
       "    <tr>\n",
       "      <th>mean</th>\n",
       "      <td>0.722416</td>\n",
       "      <td>0.062007</td>\n",
       "      <td>0.434598</td>\n",
       "      <td>0.162280</td>\n",
       "      <td>0.199975</td>\n",
       "    </tr>\n",
       "    <tr>\n",
       "      <th>std</th>\n",
       "      <td>0.447836</td>\n",
       "      <td>0.069760</td>\n",
       "      <td>0.321576</td>\n",
       "      <td>0.306194</td>\n",
       "      <td>0.180759</td>\n",
       "    </tr>\n",
       "    <tr>\n",
       "      <th>min</th>\n",
       "      <td>0.000000</td>\n",
       "      <td>0.022500</td>\n",
       "      <td>0.000001</td>\n",
       "      <td>0.000000</td>\n",
       "      <td>0.014600</td>\n",
       "    </tr>\n",
       "    <tr>\n",
       "      <th>25%</th>\n",
       "      <td>0.000000</td>\n",
       "      <td>0.033400</td>\n",
       "      <td>0.124000</td>\n",
       "      <td>0.000004</td>\n",
       "      <td>0.092400</td>\n",
       "    </tr>\n",
       "    <tr>\n",
       "      <th>50%</th>\n",
       "      <td>1.000000</td>\n",
       "      <td>0.041600</td>\n",
       "      <td>0.409000</td>\n",
       "      <td>0.000599</td>\n",
       "      <td>0.127000</td>\n",
       "    </tr>\n",
       "    <tr>\n",
       "      <th>75%</th>\n",
       "      <td>1.000000</td>\n",
       "      <td>0.060450</td>\n",
       "      <td>0.726000</td>\n",
       "      <td>0.100500</td>\n",
       "      <td>0.243000</td>\n",
       "    </tr>\n",
       "    <tr>\n",
       "      <th>max</th>\n",
       "      <td>1.000000</td>\n",
       "      <td>0.952000</td>\n",
       "      <td>0.996000</td>\n",
       "      <td>0.998000</td>\n",
       "      <td>0.999000</td>\n",
       "    </tr>\n",
       "  </tbody>\n",
       "</table>\n",
       "</div>"
      ],
      "text/plain": [
       "              mode  speechiness  acousticness  instrumentalness     liveness\n",
       "count  7731.000000  7731.000000   7731.000000       7731.000000  7731.000000\n",
       "mean      0.722416     0.062007      0.434598          0.162280     0.199975\n",
       "std       0.447836     0.069760      0.321576          0.306194     0.180759\n",
       "min       0.000000     0.022500      0.000001          0.000000     0.014600\n",
       "25%       0.000000     0.033400      0.124000          0.000004     0.092400\n",
       "50%       1.000000     0.041600      0.409000          0.000599     0.127000\n",
       "75%       1.000000     0.060450      0.726000          0.100500     0.243000\n",
       "max       1.000000     0.952000      0.996000          0.998000     0.999000"
      ]
     },
     "execution_count": 31,
     "metadata": {},
     "output_type": "execute_result"
    }
   ],
   "source": [
    "data[['mode', 'speechiness',\n",
    "       'acousticness', 'instrumentalness', 'liveness',]].describe() # every feautre is within range"
   ]
  },
  {
   "cell_type": "code",
   "execution_count": 32,
   "metadata": {},
   "outputs": [
    {
     "data": {
      "text/plain": [
       "<AxesSubplot:xlabel='mode', ylabel='count'>"
      ]
     },
     "execution_count": 32,
     "metadata": {},
     "output_type": "execute_result"
    },
    {
     "data": {
      "image/png": "[encoded data removed]",
      "text/plain": [
       "<Figure size 432x288 with 1 Axes>"
      ]
     },
     "metadata": {
      "needs_background": "light"
     },
     "output_type": "display_data"
    }
   ],
   "source": [
    "sns.countplot(x=data['mode']) # have only two possible values 0 and 1, no noise in the feature"
   ]
  },
  {
   "cell_type": "code",
   "execution_count": 33,
   "metadata": {},
   "outputs": [
    {
     "name": "stdout",
     "output_type": "stream",
     "text": [
      "<class 'pandas.core.frame.DataFrame'>\n",
      "Int64Index: 7731 entries, 0 to 7765\n",
      "Data columns (total 6 columns):\n",
      "valence           7731 non-null float64\n",
      "tempo             7731 non-null float64\n",
      "duration_ms       7731 non-null int64\n",
      "time_signature    7731 non-null int64\n",
      "chorus_hit        7731 non-null float64\n",
      "sections          7731 non-null int64\n",
      "dtypes: float64(3), int64(3)\n",
      "memory usage: 742.8 KB\n"
     ]
    }
   ],
   "source": [
    "data[['valence', 'tempo',\n",
    "       'duration_ms', 'time_signature', 'chorus_hit', 'sections']].info() # data type is in accordance with provided info"
   ]
  },
  {
   "cell_type": "code",
   "execution_count": 34,
   "metadata": {},
   "outputs": [
    {
     "data": {
      "text/html": [
       "<div>\n",
       "<style scoped>\n",
       "    .dataframe tbody tr th:only-of-type {\n",
       "        vertical-align: middle;\n",
       "    }\n",
       "\n",
       "    .dataframe tbody tr th {\n",
       "        vertical-align: top;\n",
       "    }\n",
       "\n",
       "    .dataframe thead th {\n",
       "        text-align: right;\n",
       "    }\n",
       "</style>\n",
       "<table border=\"1\" class=\"dataframe\">\n",
       "  <thead>\n",
       "    <tr style=\"text-align: right;\">\n",
       "      <th></th>\n",
       "      <th>valence</th>\n",
       "      <th>tempo</th>\n",
       "      <th>duration_ms</th>\n",
       "      <th>time_signature</th>\n",
       "      <th>chorus_hit</th>\n",
       "      <th>sections</th>\n",
       "    </tr>\n",
       "  </thead>\n",
       "  <tbody>\n",
       "    <tr>\n",
       "      <th>count</th>\n",
       "      <td>7731.000000</td>\n",
       "      <td>7731.000000</td>\n",
       "      <td>7.731000e+03</td>\n",
       "      <td>7731.000000</td>\n",
       "      <td>7731.000000</td>\n",
       "      <td>7731.000000</td>\n",
       "    </tr>\n",
       "    <tr>\n",
       "      <th>mean</th>\n",
       "      <td>0.596135</td>\n",
       "      <td>119.022192</td>\n",
       "      <td>2.398772e+05</td>\n",
       "      <td>3.883198</td>\n",
       "      <td>39.853858</td>\n",
       "      <td>10.759540</td>\n",
       "    </tr>\n",
       "    <tr>\n",
       "      <th>std</th>\n",
       "      <td>0.266252</td>\n",
       "      <td>28.400058</td>\n",
       "      <td>1.451962e+05</td>\n",
       "      <td>0.432438</td>\n",
       "      <td>18.298502</td>\n",
       "      <td>5.651019</td>\n",
       "    </tr>\n",
       "    <tr>\n",
       "      <th>min</th>\n",
       "      <td>0.000000</td>\n",
       "      <td>35.732000</td>\n",
       "      <td>2.049300e+04</td>\n",
       "      <td>1.000000</td>\n",
       "      <td>0.000000</td>\n",
       "      <td>0.000000</td>\n",
       "    </tr>\n",
       "    <tr>\n",
       "      <th>25%</th>\n",
       "      <td>0.397000</td>\n",
       "      <td>98.351000</td>\n",
       "      <td>1.730670e+05</td>\n",
       "      <td>4.000000</td>\n",
       "      <td>27.762280</td>\n",
       "      <td>8.000000</td>\n",
       "    </tr>\n",
       "    <tr>\n",
       "      <th>50%</th>\n",
       "      <td>0.639000</td>\n",
       "      <td>117.403000</td>\n",
       "      <td>2.107070e+05</td>\n",
       "      <td>4.000000</td>\n",
       "      <td>35.871290</td>\n",
       "      <td>10.000000</td>\n",
       "    </tr>\n",
       "    <tr>\n",
       "      <th>75%</th>\n",
       "      <td>0.824000</td>\n",
       "      <td>135.083000</td>\n",
       "      <td>2.648930e+05</td>\n",
       "      <td>4.000000</td>\n",
       "      <td>47.298390</td>\n",
       "      <td>12.000000</td>\n",
       "    </tr>\n",
       "    <tr>\n",
       "      <th>max</th>\n",
       "      <td>0.990000</td>\n",
       "      <td>241.423000</td>\n",
       "      <td>3.391040e+06</td>\n",
       "      <td>5.000000</td>\n",
       "      <td>220.024500</td>\n",
       "      <td>130.000000</td>\n",
       "    </tr>\n",
       "  </tbody>\n",
       "</table>\n",
       "</div>"
      ],
      "text/plain": [
       "           valence        tempo   duration_ms  time_signature   chorus_hit  \\\n",
       "count  7731.000000  7731.000000  7.731000e+03     7731.000000  7731.000000   \n",
       "mean      0.596135   119.022192  2.398772e+05        3.883198    39.853858   \n",
       "std       0.266252    28.400058  1.451962e+05        0.432438    18.298502   \n",
       "min       0.000000    35.732000  2.049300e+04        1.000000     0.000000   \n",
       "25%       0.397000    98.351000  1.730670e+05        4.000000    27.762280   \n",
       "50%       0.639000   117.403000  2.107070e+05        4.000000    35.871290   \n",
       "75%       0.824000   135.083000  2.648930e+05        4.000000    47.298390   \n",
       "max       0.990000   241.423000  3.391040e+06        5.000000   220.024500   \n",
       "\n",
       "          sections  \n",
       "count  7731.000000  \n",
       "mean     10.759540  \n",
       "std       5.651019  \n",
       "min       0.000000  \n",
       "25%       8.000000  \n",
       "50%      10.000000  \n",
       "75%      12.000000  \n",
       "max     130.000000  "
      ]
     },
     "execution_count": 34,
     "metadata": {},
     "output_type": "execute_result"
    }
   ],
   "source": [
    "data[['valence', 'tempo',\n",
    "       'duration_ms', 'time_signature', 'chorus_hit', 'sections']].describe() # all the data are in specified range"
   ]
  },
  {
   "cell_type": "markdown",
   "metadata": {},
   "source": [
    "# Performing F-test to know the relation between every feature and target"
   ]
  },
  {
   "cell_type": "code",
   "execution_count": 35,
   "metadata": {},
   "outputs": [
    {
     "data": {
      "text/html": [
       "<div>\n",
       "<style scoped>\n",
       "    .dataframe tbody tr th:only-of-type {\n",
       "        vertical-align: middle;\n",
       "    }\n",
       "\n",
       "    .dataframe tbody tr th {\n",
       "        vertical-align: top;\n",
       "    }\n",
       "\n",
       "    .dataframe thead th {\n",
       "        text-align: right;\n",
       "    }\n",
       "</style>\n",
       "<table border=\"1\" class=\"dataframe\">\n",
       "  <thead>\n",
       "    <tr style=\"text-align: right;\">\n",
       "      <th></th>\n",
       "      <th>danceability</th>\n",
       "      <th>energy</th>\n",
       "      <th>key</th>\n",
       "      <th>loudness</th>\n",
       "      <th>mode</th>\n",
       "      <th>speechiness</th>\n",
       "      <th>acousticness</th>\n",
       "      <th>instrumentalness</th>\n",
       "      <th>liveness</th>\n",
       "      <th>valence</th>\n",
       "      <th>tempo</th>\n",
       "      <th>duration_ms</th>\n",
       "      <th>time_signature</th>\n",
       "      <th>chorus_hit</th>\n",
       "      <th>sections</th>\n",
       "      <th>target</th>\n",
       "    </tr>\n",
       "  </thead>\n",
       "  <tbody>\n",
       "    <tr>\n",
       "      <th>0</th>\n",
       "      <td>0.669</td>\n",
       "      <td>0.547</td>\n",
       "      <td>1</td>\n",
       "      <td>-9.873</td>\n",
       "      <td>0</td>\n",
       "      <td>0.0576</td>\n",
       "      <td>0.3530</td>\n",
       "      <td>0.000</td>\n",
       "      <td>0.0515</td>\n",
       "      <td>0.730</td>\n",
       "      <td>131.073</td>\n",
       "      <td>141067</td>\n",
       "      <td>4</td>\n",
       "      <td>28.79763</td>\n",
       "      <td>6</td>\n",
       "      <td>0</td>\n",
       "    </tr>\n",
       "    <tr>\n",
       "      <th>1</th>\n",
       "      <td>0.291</td>\n",
       "      <td>0.300</td>\n",
       "      <td>1</td>\n",
       "      <td>-14.054</td>\n",
       "      <td>0</td>\n",
       "      <td>0.0326</td>\n",
       "      <td>0.9050</td>\n",
       "      <td>0.492</td>\n",
       "      <td>0.1180</td>\n",
       "      <td>0.039</td>\n",
       "      <td>75.619</td>\n",
       "      <td>228224</td>\n",
       "      <td>4</td>\n",
       "      <td>44.10303</td>\n",
       "      <td>9</td>\n",
       "      <td>0</td>\n",
       "    </tr>\n",
       "    <tr>\n",
       "      <th>2</th>\n",
       "      <td>0.355</td>\n",
       "      <td>0.968</td>\n",
       "      <td>7</td>\n",
       "      <td>-4.687</td>\n",
       "      <td>1</td>\n",
       "      <td>0.1890</td>\n",
       "      <td>0.0504</td>\n",
       "      <td>0.000</td>\n",
       "      <td>0.1300</td>\n",
       "      <td>0.768</td>\n",
       "      <td>181.291</td>\n",
       "      <td>66800</td>\n",
       "      <td>3</td>\n",
       "      <td>25.23004</td>\n",
       "      <td>6</td>\n",
       "      <td>0</td>\n",
       "    </tr>\n",
       "    <tr>\n",
       "      <th>3</th>\n",
       "      <td>0.598</td>\n",
       "      <td>0.891</td>\n",
       "      <td>6</td>\n",
       "      <td>-11.904</td>\n",
       "      <td>1</td>\n",
       "      <td>0.0552</td>\n",
       "      <td>0.0183</td>\n",
       "      <td>0.836</td>\n",
       "      <td>0.5790</td>\n",
       "      <td>0.826</td>\n",
       "      <td>144.383</td>\n",
       "      <td>155395</td>\n",
       "      <td>4</td>\n",
       "      <td>55.62066</td>\n",
       "      <td>7</td>\n",
       "      <td>0</td>\n",
       "    </tr>\n",
       "    <tr>\n",
       "      <th>4</th>\n",
       "      <td>0.440</td>\n",
       "      <td>0.376</td>\n",
       "      <td>5</td>\n",
       "      <td>-10.939</td>\n",
       "      <td>1</td>\n",
       "      <td>0.0482</td>\n",
       "      <td>0.3480</td>\n",
       "      <td>0.000</td>\n",
       "      <td>0.0815</td>\n",
       "      <td>0.358</td>\n",
       "      <td>130.438</td>\n",
       "      <td>218333</td>\n",
       "      <td>4</td>\n",
       "      <td>34.90979</td>\n",
       "      <td>12</td>\n",
       "      <td>1</td>\n",
       "    </tr>\n",
       "  </tbody>\n",
       "</table>\n",
       "</div>"
      ],
      "text/plain": [
       "   danceability  energy  key  loudness  mode  speechiness  acousticness  \\\n",
       "0         0.669   0.547    1    -9.873     0       0.0576        0.3530   \n",
       "1         0.291   0.300    1   -14.054     0       0.0326        0.9050   \n",
       "2         0.355   0.968    7    -4.687     1       0.1890        0.0504   \n",
       "3         0.598   0.891    6   -11.904     1       0.0552        0.0183   \n",
       "4         0.440   0.376    5   -10.939     1       0.0482        0.3480   \n",
       "\n",
       "   instrumentalness  liveness  valence    tempo  duration_ms  time_signature  \\\n",
       "0             0.000    0.0515    0.730  131.073       141067               4   \n",
       "1             0.492    0.1180    0.039   75.619       228224               4   \n",
       "2             0.000    0.1300    0.768  181.291        66800               3   \n",
       "3             0.836    0.5790    0.826  144.383       155395               4   \n",
       "4             0.000    0.0815    0.358  130.438       218333               4   \n",
       "\n",
       "   chorus_hit  sections  target  \n",
       "0    28.79763         6       0  \n",
       "1    44.10303         9       0  \n",
       "2    25.23004         6       0  \n",
       "3    55.62066         7       0  \n",
       "4    34.90979        12       1  "
      ]
     },
     "execution_count": 35,
     "metadata": {},
     "output_type": "execute_result"
    }
   ],
   "source": [
    "data.head()"
   ]
  },
  {
   "cell_type": "code",
   "execution_count": 36,
   "metadata": {},
   "outputs": [
    {
     "data": {
      "text/plain": [
       "((7731, 15), (7731,))"
      ]
     },
     "execution_count": 36,
     "metadata": {},
     "output_type": "execute_result"
    }
   ],
   "source": [
    "x = data.iloc[:,:-1].values\n",
    "y = data.iloc[:,-1].values\n",
    "x.shape,y.shape"
   ]
  },
  {
   "cell_type": "code",
   "execution_count": 37,
   "metadata": {},
   "outputs": [],
   "source": [
    "from sklearn.feature_selection import f_classif\n",
    "f_stat,p_value = f_classif(x,y) "
   ]
  },
  {
   "cell_type": "code",
   "execution_count": 38,
   "metadata": {},
   "outputs": [],
   "source": [
    "feat_list = data.iloc[:,:-1].columns.tolist()"
   ]
  },
  {
   "cell_type": "code",
   "execution_count": 39,
   "metadata": {},
   "outputs": [
    {
     "data": {
      "text/html": [
       "<div>\n",
       "<style scoped>\n",
       "    .dataframe tbody tr th:only-of-type {\n",
       "        vertical-align: middle;\n",
       "    }\n",
       "\n",
       "    .dataframe tbody tr th {\n",
       "        vertical-align: top;\n",
       "    }\n",
       "\n",
       "    .dataframe thead th {\n",
       "        text-align: right;\n",
       "    }\n",
       "</style>\n",
       "<table border=\"1\" class=\"dataframe\">\n",
       "  <thead>\n",
       "    <tr style=\"text-align: right;\">\n",
       "      <th></th>\n",
       "      <th>Features</th>\n",
       "      <th>f_statistics</th>\n",
       "      <th>p_value</th>\n",
       "    </tr>\n",
       "  </thead>\n",
       "  <tbody>\n",
       "    <tr>\n",
       "      <th>7</th>\n",
       "      <td>instrumentalness</td>\n",
       "      <td>1244.151369</td>\n",
       "      <td>7.640887e-253</td>\n",
       "    </tr>\n",
       "    <tr>\n",
       "      <th>6</th>\n",
       "      <td>acousticness</td>\n",
       "      <td>717.317792</td>\n",
       "      <td>3.459588e-151</td>\n",
       "    </tr>\n",
       "    <tr>\n",
       "      <th>0</th>\n",
       "      <td>danceability</td>\n",
       "      <td>635.987730</td>\n",
       "      <td>6.339134e-135</td>\n",
       "    </tr>\n",
       "    <tr>\n",
       "      <th>3</th>\n",
       "      <td>loudness</td>\n",
       "      <td>598.669690</td>\n",
       "      <td>2.081137e-127</td>\n",
       "    </tr>\n",
       "    <tr>\n",
       "      <th>9</th>\n",
       "      <td>valence</td>\n",
       "      <td>553.879260</td>\n",
       "      <td>2.427928e-118</td>\n",
       "    </tr>\n",
       "    <tr>\n",
       "      <th>1</th>\n",
       "      <td>energy</td>\n",
       "      <td>488.853019</td>\n",
       "      <td>4.350842e-105</td>\n",
       "    </tr>\n",
       "    <tr>\n",
       "      <th>12</th>\n",
       "      <td>time_signature</td>\n",
       "      <td>131.313884</td>\n",
       "      <td>3.700441e-30</td>\n",
       "    </tr>\n",
       "    <tr>\n",
       "      <th>5</th>\n",
       "      <td>speechiness</td>\n",
       "      <td>128.958054</td>\n",
       "      <td>1.188920e-29</td>\n",
       "    </tr>\n",
       "    <tr>\n",
       "      <th>4</th>\n",
       "      <td>mode</td>\n",
       "      <td>70.464061</td>\n",
       "      <td>5.523407e-17</td>\n",
       "    </tr>\n",
       "    <tr>\n",
       "      <th>14</th>\n",
       "      <td>sections</td>\n",
       "      <td>20.284153</td>\n",
       "      <td>6.773104e-06</td>\n",
       "    </tr>\n",
       "    <tr>\n",
       "      <th>11</th>\n",
       "      <td>duration_ms</td>\n",
       "      <td>13.570382</td>\n",
       "      <td>2.313520e-04</td>\n",
       "    </tr>\n",
       "    <tr>\n",
       "      <th>8</th>\n",
       "      <td>liveness</td>\n",
       "      <td>9.930886</td>\n",
       "      <td>1.631490e-03</td>\n",
       "    </tr>\n",
       "    <tr>\n",
       "      <th>10</th>\n",
       "      <td>tempo</td>\n",
       "      <td>5.399735</td>\n",
       "      <td>2.016561e-02</td>\n",
       "    </tr>\n",
       "    <tr>\n",
       "      <th>13</th>\n",
       "      <td>chorus_hit</td>\n",
       "      <td>5.166856</td>\n",
       "      <td>2.304916e-02</td>\n",
       "    </tr>\n",
       "    <tr>\n",
       "      <th>2</th>\n",
       "      <td>key</td>\n",
       "      <td>3.730625</td>\n",
       "      <td>5.345992e-02</td>\n",
       "    </tr>\n",
       "  </tbody>\n",
       "</table>\n",
       "</div>"
      ],
      "text/plain": [
       "            Features  f_statistics        p_value\n",
       "7   instrumentalness   1244.151369  7.640887e-253\n",
       "6       acousticness    717.317792  3.459588e-151\n",
       "0       danceability    635.987730  6.339134e-135\n",
       "3           loudness    598.669690  2.081137e-127\n",
       "9            valence    553.879260  2.427928e-118\n",
       "1             energy    488.853019  4.350842e-105\n",
       "12    time_signature    131.313884   3.700441e-30\n",
       "5        speechiness    128.958054   1.188920e-29\n",
       "4               mode     70.464061   5.523407e-17\n",
       "14          sections     20.284153   6.773104e-06\n",
       "11       duration_ms     13.570382   2.313520e-04\n",
       "8           liveness      9.930886   1.631490e-03\n",
       "10             tempo      5.399735   2.016561e-02\n",
       "13        chorus_hit      5.166856   2.304916e-02\n",
       "2                key      3.730625   5.345992e-02"
      ]
     },
     "execution_count": 39,
     "metadata": {},
     "output_type": "execute_result"
    }
   ],
   "source": [
    "# making a dataframe\n",
    "dict = {'Features':feat_list,'f_statistics':f_stat,'p_value':p_value}\n",
    "relation = pd.DataFrame(dict)\n",
    "relation.sort_values(by='p_value')"
   ]
  },
  {
   "cell_type": "markdown",
   "metadata": {},
   "source": [
    "# Multivariate analysis"
   ]
  },
  {
   "cell_type": "code",
   "execution_count": 40,
   "metadata": {},
   "outputs": [],
   "source": [
    "correlation = data.corr()"
   ]
  },
  {
   "cell_type": "code",
   "execution_count": 41,
   "metadata": {},
   "outputs": [
    {
     "data": {
      "text/plain": [
       "<function matplotlib.pyplot.tight_layout(*, pad=1.08, h_pad=None, w_pad=None, rect=None)>"
      ]
     },
     "execution_count": 41,
     "metadata": {},
     "output_type": "execute_result"
    },
    {
     "data": {
      "image/png": "[encoded data removed]",
      "text/plain": [
       "<Figure size 1080x864 with 2 Axes>"
      ]
     },
     "metadata": {
      "needs_background": "light"
     },
     "output_type": "display_data"
    }
   ],
   "source": [
    "plt.figure(figsize=(15,12))\n",
    "sns.heatmap(correlation, annot=True)\n",
    "plt.tight_layout"
   ]
  },
  {
   "cell_type": "markdown",
   "metadata": {},
   "source": [
    "# strong features(accordance with f-test) --> \n",
    "danceability,  loudness,  acousticness,  instrumentalness,  valence\n",
    "\n",
    "# less imortant feature(accordance with f-test)-->\n",
    "duration,  section,  mode,  time_signature,  chorus hit\n",
    "\n",
    "# least imortant-->  \n",
    "energy,key,speecheness,liveliness,tempo"
   ]
  }
 ],
 "metadata": {
  "kernelspec": {
   "display_name": "Python 3",
   "language": "python",
   "name": "python3"
  },
  "language_info": {
   "codemirror_mode": {
    "name": "ipython",
    "version": 3
   },
   "file_extension": ".py",
   "mimetype": "text/x-python",
   "name": "python",
   "nbconvert_exporter": "python",
   "pygments_lexer": "ipython3",
   "version": "3.7.5"
  }
 },
 "nbformat": 4,
 "nbformat_minor": 4
}
