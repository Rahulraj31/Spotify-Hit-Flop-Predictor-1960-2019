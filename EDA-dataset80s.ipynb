{
 "cells": [
  {
   "cell_type": "code",
   "execution_count": 1,
   "metadata": {},
   "outputs": [],
   "source": [
    "import pandas as pd\n",
    "import numpy as np\n",
    "import matplotlib.pyplot as plt\n",
    "import seaborn as sns"
   ]
  },
  {
   "cell_type": "code",
   "execution_count": 2,
   "metadata": {},
   "outputs": [],
   "source": [
    "data = pd.read_csv('dataset-of-80s.csv')"
   ]
  },
  {
   "cell_type": "code",
   "execution_count": 3,
   "metadata": {},
   "outputs": [
    {
     "data": {
      "text/html": [
       "<div>\n",
       "<style scoped>\n",
       "    .dataframe tbody tr th:only-of-type {\n",
       "        vertical-align: middle;\n",
       "    }\n",
       "\n",
       "    .dataframe tbody tr th {\n",
       "        vertical-align: top;\n",
       "    }\n",
       "\n",
       "    .dataframe thead th {\n",
       "        text-align: right;\n",
       "    }\n",
       "</style>\n",
       "<table border=\"1\" class=\"dataframe\">\n",
       "  <thead>\n",
       "    <tr style=\"text-align: right;\">\n",
       "      <th></th>\n",
       "      <th>track</th>\n",
       "      <th>artist</th>\n",
       "      <th>uri</th>\n",
       "      <th>danceability</th>\n",
       "      <th>energy</th>\n",
       "      <th>key</th>\n",
       "      <th>loudness</th>\n",
       "      <th>mode</th>\n",
       "      <th>speechiness</th>\n",
       "      <th>acousticness</th>\n",
       "      <th>instrumentalness</th>\n",
       "      <th>liveness</th>\n",
       "      <th>valence</th>\n",
       "      <th>tempo</th>\n",
       "      <th>duration_ms</th>\n",
       "      <th>time_signature</th>\n",
       "      <th>chorus_hit</th>\n",
       "      <th>sections</th>\n",
       "      <th>target</th>\n",
       "    </tr>\n",
       "  </thead>\n",
       "  <tbody>\n",
       "    <tr>\n",
       "      <th>0</th>\n",
       "      <td>Walking Blues</td>\n",
       "      <td>Big Joe Williams</td>\n",
       "      <td>spotify:track:1ZjN5X8LmUB67pWPgimW3B</td>\n",
       "      <td>0.509</td>\n",
       "      <td>0.277</td>\n",
       "      <td>6</td>\n",
       "      <td>-14.323</td>\n",
       "      <td>1</td>\n",
       "      <td>0.0495</td>\n",
       "      <td>0.827</td>\n",
       "      <td>0.00206</td>\n",
       "      <td>0.0756</td>\n",
       "      <td>0.640</td>\n",
       "      <td>101.157</td>\n",
       "      <td>161893</td>\n",
       "      <td>4</td>\n",
       "      <td>68.46530</td>\n",
       "      <td>7</td>\n",
       "      <td>0</td>\n",
       "    </tr>\n",
       "    <tr>\n",
       "      <th>1</th>\n",
       "      <td>Suddenly Last Summer</td>\n",
       "      <td>The Motels</td>\n",
       "      <td>spotify:track:4fLIM0B1WwrLux9RdnMvze</td>\n",
       "      <td>0.716</td>\n",
       "      <td>0.753</td>\n",
       "      <td>2</td>\n",
       "      <td>-5.682</td>\n",
       "      <td>1</td>\n",
       "      <td>0.0286</td>\n",
       "      <td>0.162</td>\n",
       "      <td>0.03060</td>\n",
       "      <td>0.0831</td>\n",
       "      <td>0.561</td>\n",
       "      <td>120.141</td>\n",
       "      <td>222000</td>\n",
       "      <td>4</td>\n",
       "      <td>57.71583</td>\n",
       "      <td>11</td>\n",
       "      <td>1</td>\n",
       "    </tr>\n",
       "    <tr>\n",
       "      <th>2</th>\n",
       "      <td>Sanctuary</td>\n",
       "      <td>Béla Fleck</td>\n",
       "      <td>spotify:track:3DwlNfiCQSdj0GOxYkR9Rq</td>\n",
       "      <td>0.360</td>\n",
       "      <td>0.542</td>\n",
       "      <td>5</td>\n",
       "      <td>-13.885</td>\n",
       "      <td>1</td>\n",
       "      <td>0.0339</td>\n",
       "      <td>0.368</td>\n",
       "      <td>0.16500</td>\n",
       "      <td>0.1160</td>\n",
       "      <td>0.803</td>\n",
       "      <td>116.831</td>\n",
       "      <td>444907</td>\n",
       "      <td>4</td>\n",
       "      <td>30.34574</td>\n",
       "      <td>17</td>\n",
       "      <td>0</td>\n",
       "    </tr>\n",
       "    <tr>\n",
       "      <th>3</th>\n",
       "      <td>The Wild Rover</td>\n",
       "      <td>The Pogues</td>\n",
       "      <td>spotify:track:6JyYNPLalPgGa7XnclF5FO</td>\n",
       "      <td>0.656</td>\n",
       "      <td>0.512</td>\n",
       "      <td>7</td>\n",
       "      <td>-11.872</td>\n",
       "      <td>1</td>\n",
       "      <td>0.0290</td>\n",
       "      <td>0.585</td>\n",
       "      <td>0.00000</td>\n",
       "      <td>0.0720</td>\n",
       "      <td>0.880</td>\n",
       "      <td>97.500</td>\n",
       "      <td>157893</td>\n",
       "      <td>3</td>\n",
       "      <td>50.97022</td>\n",
       "      <td>7</td>\n",
       "      <td>0</td>\n",
       "    </tr>\n",
       "    <tr>\n",
       "      <th>4</th>\n",
       "      <td>In The Driver's Seat</td>\n",
       "      <td>John Schneider</td>\n",
       "      <td>spotify:track:6jJi8OXF5qaFdysB6sjWIT</td>\n",
       "      <td>0.642</td>\n",
       "      <td>0.889</td>\n",
       "      <td>2</td>\n",
       "      <td>-5.620</td>\n",
       "      <td>0</td>\n",
       "      <td>0.0494</td>\n",
       "      <td>0.375</td>\n",
       "      <td>0.00000</td>\n",
       "      <td>0.1800</td>\n",
       "      <td>0.764</td>\n",
       "      <td>163.351</td>\n",
       "      <td>162293</td>\n",
       "      <td>4</td>\n",
       "      <td>33.62053</td>\n",
       "      <td>7</td>\n",
       "      <td>1</td>\n",
       "    </tr>\n",
       "  </tbody>\n",
       "</table>\n",
       "</div>"
      ],
      "text/plain": [
       "                  track            artist  \\\n",
       "0         Walking Blues  Big Joe Williams   \n",
       "1  Suddenly Last Summer        The Motels   \n",
       "2             Sanctuary        Béla Fleck   \n",
       "3        The Wild Rover        The Pogues   \n",
       "4  In The Driver's Seat    John Schneider   \n",
       "\n",
       "                                    uri  danceability  energy  key  loudness  \\\n",
       "0  spotify:track:1ZjN5X8LmUB67pWPgimW3B         0.509   0.277    6   -14.323   \n",
       "1  spotify:track:4fLIM0B1WwrLux9RdnMvze         0.716   0.753    2    -5.682   \n",
       "2  spotify:track:3DwlNfiCQSdj0GOxYkR9Rq         0.360   0.542    5   -13.885   \n",
       "3  spotify:track:6JyYNPLalPgGa7XnclF5FO         0.656   0.512    7   -11.872   \n",
       "4  spotify:track:6jJi8OXF5qaFdysB6sjWIT         0.642   0.889    2    -5.620   \n",
       "\n",
       "   mode  speechiness  acousticness  instrumentalness  liveness  valence  \\\n",
       "0     1       0.0495         0.827           0.00206    0.0756    0.640   \n",
       "1     1       0.0286         0.162           0.03060    0.0831    0.561   \n",
       "2     1       0.0339         0.368           0.16500    0.1160    0.803   \n",
       "3     1       0.0290         0.585           0.00000    0.0720    0.880   \n",
       "4     0       0.0494         0.375           0.00000    0.1800    0.764   \n",
       "\n",
       "     tempo  duration_ms  time_signature  chorus_hit  sections  target  \n",
       "0  101.157       161893               4    68.46530         7       0  \n",
       "1  120.141       222000               4    57.71583        11       1  \n",
       "2  116.831       444907               4    30.34574        17       0  \n",
       "3   97.500       157893               3    50.97022         7       0  \n",
       "4  163.351       162293               4    33.62053         7       1  "
      ]
     },
     "execution_count": 3,
     "metadata": {},
     "output_type": "execute_result"
    }
   ],
   "source": [
    "data.head()"
   ]
  },
  {
   "cell_type": "markdown",
   "metadata": {},
   "source": [
    "# checking basic integrity"
   ]
  },
  {
   "cell_type": "code",
   "execution_count": 4,
   "metadata": {},
   "outputs": [
    {
     "data": {
      "text/plain": [
       "(6908, 19)"
      ]
     },
     "execution_count": 4,
     "metadata": {},
     "output_type": "execute_result"
    }
   ],
   "source": [
    "data.shape"
   ]
  },
  {
   "cell_type": "code",
   "execution_count": 5,
   "metadata": {},
   "outputs": [
    {
     "name": "stdout",
     "output_type": "stream",
     "text": [
      "<class 'pandas.core.frame.DataFrame'>\n",
      "RangeIndex: 6908 entries, 0 to 6907\n",
      "Data columns (total 19 columns):\n",
      "track               6908 non-null object\n",
      "artist              6908 non-null object\n",
      "uri                 6908 non-null object\n",
      "danceability        6908 non-null float64\n",
      "energy              6908 non-null float64\n",
      "key                 6908 non-null int64\n",
      "loudness            6908 non-null float64\n",
      "mode                6908 non-null int64\n",
      "speechiness         6908 non-null float64\n",
      "acousticness        6908 non-null float64\n",
      "instrumentalness    6908 non-null float64\n",
      "liveness            6908 non-null float64\n",
      "valence             6908 non-null float64\n",
      "tempo               6908 non-null float64\n",
      "duration_ms         6908 non-null int64\n",
      "time_signature      6908 non-null int64\n",
      "chorus_hit          6908 non-null float64\n",
      "sections            6908 non-null int64\n",
      "target              6908 non-null int64\n",
      "dtypes: float64(10), int64(6), object(3)\n",
      "memory usage: 1.0+ MB\n"
     ]
    }
   ],
   "source": [
    "data.info() "
   ]
  },
  {
   "cell_type": "markdown",
   "metadata": {},
   "source": [
    "# no. of rows = non null values for each column -> no null value"
   ]
  },
  {
   "cell_type": "code",
   "execution_count": 6,
   "metadata": {},
   "outputs": [
    {
     "data": {
      "text/html": [
       "<div>\n",
       "<style scoped>\n",
       "    .dataframe tbody tr th:only-of-type {\n",
       "        vertical-align: middle;\n",
       "    }\n",
       "\n",
       "    .dataframe tbody tr th {\n",
       "        vertical-align: top;\n",
       "    }\n",
       "\n",
       "    .dataframe thead th {\n",
       "        text-align: right;\n",
       "    }\n",
       "</style>\n",
       "<table border=\"1\" class=\"dataframe\">\n",
       "  <thead>\n",
       "    <tr style=\"text-align: right;\">\n",
       "      <th></th>\n",
       "      <th>track</th>\n",
       "      <th>artist</th>\n",
       "      <th>uri</th>\n",
       "      <th>danceability</th>\n",
       "      <th>energy</th>\n",
       "      <th>key</th>\n",
       "      <th>loudness</th>\n",
       "      <th>mode</th>\n",
       "      <th>speechiness</th>\n",
       "      <th>acousticness</th>\n",
       "      <th>instrumentalness</th>\n",
       "      <th>liveness</th>\n",
       "      <th>valence</th>\n",
       "      <th>tempo</th>\n",
       "      <th>duration_ms</th>\n",
       "      <th>time_signature</th>\n",
       "      <th>chorus_hit</th>\n",
       "      <th>sections</th>\n",
       "      <th>target</th>\n",
       "    </tr>\n",
       "  </thead>\n",
       "  <tbody>\n",
       "    <tr>\n",
       "      <th>0</th>\n",
       "      <td>Walking Blues</td>\n",
       "      <td>Big Joe Williams</td>\n",
       "      <td>spotify:track:1ZjN5X8LmUB67pWPgimW3B</td>\n",
       "      <td>0.509</td>\n",
       "      <td>0.277</td>\n",
       "      <td>6</td>\n",
       "      <td>-14.323</td>\n",
       "      <td>1</td>\n",
       "      <td>0.0495</td>\n",
       "      <td>0.827</td>\n",
       "      <td>0.00206</td>\n",
       "      <td>0.0756</td>\n",
       "      <td>0.640</td>\n",
       "      <td>101.157</td>\n",
       "      <td>161893</td>\n",
       "      <td>4</td>\n",
       "      <td>68.46530</td>\n",
       "      <td>7</td>\n",
       "      <td>0</td>\n",
       "    </tr>\n",
       "    <tr>\n",
       "      <th>1</th>\n",
       "      <td>Suddenly Last Summer</td>\n",
       "      <td>The Motels</td>\n",
       "      <td>spotify:track:4fLIM0B1WwrLux9RdnMvze</td>\n",
       "      <td>0.716</td>\n",
       "      <td>0.753</td>\n",
       "      <td>2</td>\n",
       "      <td>-5.682</td>\n",
       "      <td>1</td>\n",
       "      <td>0.0286</td>\n",
       "      <td>0.162</td>\n",
       "      <td>0.03060</td>\n",
       "      <td>0.0831</td>\n",
       "      <td>0.561</td>\n",
       "      <td>120.141</td>\n",
       "      <td>222000</td>\n",
       "      <td>4</td>\n",
       "      <td>57.71583</td>\n",
       "      <td>11</td>\n",
       "      <td>1</td>\n",
       "    </tr>\n",
       "    <tr>\n",
       "      <th>2</th>\n",
       "      <td>Sanctuary</td>\n",
       "      <td>Béla Fleck</td>\n",
       "      <td>spotify:track:3DwlNfiCQSdj0GOxYkR9Rq</td>\n",
       "      <td>0.360</td>\n",
       "      <td>0.542</td>\n",
       "      <td>5</td>\n",
       "      <td>-13.885</td>\n",
       "      <td>1</td>\n",
       "      <td>0.0339</td>\n",
       "      <td>0.368</td>\n",
       "      <td>0.16500</td>\n",
       "      <td>0.1160</td>\n",
       "      <td>0.803</td>\n",
       "      <td>116.831</td>\n",
       "      <td>444907</td>\n",
       "      <td>4</td>\n",
       "      <td>30.34574</td>\n",
       "      <td>17</td>\n",
       "      <td>0</td>\n",
       "    </tr>\n",
       "    <tr>\n",
       "      <th>3</th>\n",
       "      <td>The Wild Rover</td>\n",
       "      <td>The Pogues</td>\n",
       "      <td>spotify:track:6JyYNPLalPgGa7XnclF5FO</td>\n",
       "      <td>0.656</td>\n",
       "      <td>0.512</td>\n",
       "      <td>7</td>\n",
       "      <td>-11.872</td>\n",
       "      <td>1</td>\n",
       "      <td>0.0290</td>\n",
       "      <td>0.585</td>\n",
       "      <td>0.00000</td>\n",
       "      <td>0.0720</td>\n",
       "      <td>0.880</td>\n",
       "      <td>97.500</td>\n",
       "      <td>157893</td>\n",
       "      <td>3</td>\n",
       "      <td>50.97022</td>\n",
       "      <td>7</td>\n",
       "      <td>0</td>\n",
       "    </tr>\n",
       "    <tr>\n",
       "      <th>4</th>\n",
       "      <td>In The Driver's Seat</td>\n",
       "      <td>John Schneider</td>\n",
       "      <td>spotify:track:6jJi8OXF5qaFdysB6sjWIT</td>\n",
       "      <td>0.642</td>\n",
       "      <td>0.889</td>\n",
       "      <td>2</td>\n",
       "      <td>-5.620</td>\n",
       "      <td>0</td>\n",
       "      <td>0.0494</td>\n",
       "      <td>0.375</td>\n",
       "      <td>0.00000</td>\n",
       "      <td>0.1800</td>\n",
       "      <td>0.764</td>\n",
       "      <td>163.351</td>\n",
       "      <td>162293</td>\n",
       "      <td>4</td>\n",
       "      <td>33.62053</td>\n",
       "      <td>7</td>\n",
       "      <td>1</td>\n",
       "    </tr>\n",
       "  </tbody>\n",
       "</table>\n",
       "</div>"
      ],
      "text/plain": [
       "                  track            artist  \\\n",
       "0         Walking Blues  Big Joe Williams   \n",
       "1  Suddenly Last Summer        The Motels   \n",
       "2             Sanctuary        Béla Fleck   \n",
       "3        The Wild Rover        The Pogues   \n",
       "4  In The Driver's Seat    John Schneider   \n",
       "\n",
       "                                    uri  danceability  energy  key  loudness  \\\n",
       "0  spotify:track:1ZjN5X8LmUB67pWPgimW3B         0.509   0.277    6   -14.323   \n",
       "1  spotify:track:4fLIM0B1WwrLux9RdnMvze         0.716   0.753    2    -5.682   \n",
       "2  spotify:track:3DwlNfiCQSdj0GOxYkR9Rq         0.360   0.542    5   -13.885   \n",
       "3  spotify:track:6JyYNPLalPgGa7XnclF5FO         0.656   0.512    7   -11.872   \n",
       "4  spotify:track:6jJi8OXF5qaFdysB6sjWIT         0.642   0.889    2    -5.620   \n",
       "\n",
       "   mode  speechiness  acousticness  instrumentalness  liveness  valence  \\\n",
       "0     1       0.0495         0.827           0.00206    0.0756    0.640   \n",
       "1     1       0.0286         0.162           0.03060    0.0831    0.561   \n",
       "2     1       0.0339         0.368           0.16500    0.1160    0.803   \n",
       "3     1       0.0290         0.585           0.00000    0.0720    0.880   \n",
       "4     0       0.0494         0.375           0.00000    0.1800    0.764   \n",
       "\n",
       "     tempo  duration_ms  time_signature  chorus_hit  sections  target  \n",
       "0  101.157       161893               4    68.46530         7       0  \n",
       "1  120.141       222000               4    57.71583        11       1  \n",
       "2  116.831       444907               4    30.34574        17       0  \n",
       "3   97.500       157893               3    50.97022         7       0  \n",
       "4  163.351       162293               4    33.62053         7       1  "
      ]
     },
     "execution_count": 6,
     "metadata": {},
     "output_type": "execute_result"
    }
   ],
   "source": [
    "data.head()"
   ]
  },
  {
   "cell_type": "markdown",
   "metadata": {},
   "source": [
    "# checking unique records using uri"
   ]
  },
  {
   "cell_type": "code",
   "execution_count": 7,
   "metadata": {},
   "outputs": [],
   "source": [
    "# extracting exact id\n",
    "def extract(x):\n",
    "    splited_list = x.split(':') # spliting text at colons\n",
    "    return splited_list[2]      # returning third element\n",
    "    \n",
    "data['uri'] = data['uri'].apply(extract)  "
   ]
  },
  {
   "cell_type": "code",
   "execution_count": 8,
   "metadata": {},
   "outputs": [
    {
     "data": {
      "text/html": [
       "<div>\n",
       "<style scoped>\n",
       "    .dataframe tbody tr th:only-of-type {\n",
       "        vertical-align: middle;\n",
       "    }\n",
       "\n",
       "    .dataframe tbody tr th {\n",
       "        vertical-align: top;\n",
       "    }\n",
       "\n",
       "    .dataframe thead th {\n",
       "        text-align: right;\n",
       "    }\n",
       "</style>\n",
       "<table border=\"1\" class=\"dataframe\">\n",
       "  <thead>\n",
       "    <tr style=\"text-align: right;\">\n",
       "      <th></th>\n",
       "      <th>track</th>\n",
       "      <th>artist</th>\n",
       "      <th>uri</th>\n",
       "      <th>danceability</th>\n",
       "      <th>energy</th>\n",
       "      <th>key</th>\n",
       "      <th>loudness</th>\n",
       "      <th>mode</th>\n",
       "      <th>speechiness</th>\n",
       "      <th>acousticness</th>\n",
       "      <th>instrumentalness</th>\n",
       "      <th>liveness</th>\n",
       "      <th>valence</th>\n",
       "      <th>tempo</th>\n",
       "      <th>duration_ms</th>\n",
       "      <th>time_signature</th>\n",
       "      <th>chorus_hit</th>\n",
       "      <th>sections</th>\n",
       "      <th>target</th>\n",
       "    </tr>\n",
       "  </thead>\n",
       "  <tbody>\n",
       "    <tr>\n",
       "      <th>0</th>\n",
       "      <td>Walking Blues</td>\n",
       "      <td>Big Joe Williams</td>\n",
       "      <td>1ZjN5X8LmUB67pWPgimW3B</td>\n",
       "      <td>0.509</td>\n",
       "      <td>0.277</td>\n",
       "      <td>6</td>\n",
       "      <td>-14.323</td>\n",
       "      <td>1</td>\n",
       "      <td>0.0495</td>\n",
       "      <td>0.827</td>\n",
       "      <td>0.00206</td>\n",
       "      <td>0.0756</td>\n",
       "      <td>0.640</td>\n",
       "      <td>101.157</td>\n",
       "      <td>161893</td>\n",
       "      <td>4</td>\n",
       "      <td>68.46530</td>\n",
       "      <td>7</td>\n",
       "      <td>0</td>\n",
       "    </tr>\n",
       "    <tr>\n",
       "      <th>1</th>\n",
       "      <td>Suddenly Last Summer</td>\n",
       "      <td>The Motels</td>\n",
       "      <td>4fLIM0B1WwrLux9RdnMvze</td>\n",
       "      <td>0.716</td>\n",
       "      <td>0.753</td>\n",
       "      <td>2</td>\n",
       "      <td>-5.682</td>\n",
       "      <td>1</td>\n",
       "      <td>0.0286</td>\n",
       "      <td>0.162</td>\n",
       "      <td>0.03060</td>\n",
       "      <td>0.0831</td>\n",
       "      <td>0.561</td>\n",
       "      <td>120.141</td>\n",
       "      <td>222000</td>\n",
       "      <td>4</td>\n",
       "      <td>57.71583</td>\n",
       "      <td>11</td>\n",
       "      <td>1</td>\n",
       "    </tr>\n",
       "    <tr>\n",
       "      <th>2</th>\n",
       "      <td>Sanctuary</td>\n",
       "      <td>Béla Fleck</td>\n",
       "      <td>3DwlNfiCQSdj0GOxYkR9Rq</td>\n",
       "      <td>0.360</td>\n",
       "      <td>0.542</td>\n",
       "      <td>5</td>\n",
       "      <td>-13.885</td>\n",
       "      <td>1</td>\n",
       "      <td>0.0339</td>\n",
       "      <td>0.368</td>\n",
       "      <td>0.16500</td>\n",
       "      <td>0.1160</td>\n",
       "      <td>0.803</td>\n",
       "      <td>116.831</td>\n",
       "      <td>444907</td>\n",
       "      <td>4</td>\n",
       "      <td>30.34574</td>\n",
       "      <td>17</td>\n",
       "      <td>0</td>\n",
       "    </tr>\n",
       "    <tr>\n",
       "      <th>3</th>\n",
       "      <td>The Wild Rover</td>\n",
       "      <td>The Pogues</td>\n",
       "      <td>6JyYNPLalPgGa7XnclF5FO</td>\n",
       "      <td>0.656</td>\n",
       "      <td>0.512</td>\n",
       "      <td>7</td>\n",
       "      <td>-11.872</td>\n",
       "      <td>1</td>\n",
       "      <td>0.0290</td>\n",
       "      <td>0.585</td>\n",
       "      <td>0.00000</td>\n",
       "      <td>0.0720</td>\n",
       "      <td>0.880</td>\n",
       "      <td>97.500</td>\n",
       "      <td>157893</td>\n",
       "      <td>3</td>\n",
       "      <td>50.97022</td>\n",
       "      <td>7</td>\n",
       "      <td>0</td>\n",
       "    </tr>\n",
       "    <tr>\n",
       "      <th>4</th>\n",
       "      <td>In The Driver's Seat</td>\n",
       "      <td>John Schneider</td>\n",
       "      <td>6jJi8OXF5qaFdysB6sjWIT</td>\n",
       "      <td>0.642</td>\n",
       "      <td>0.889</td>\n",
       "      <td>2</td>\n",
       "      <td>-5.620</td>\n",
       "      <td>0</td>\n",
       "      <td>0.0494</td>\n",
       "      <td>0.375</td>\n",
       "      <td>0.00000</td>\n",
       "      <td>0.1800</td>\n",
       "      <td>0.764</td>\n",
       "      <td>163.351</td>\n",
       "      <td>162293</td>\n",
       "      <td>4</td>\n",
       "      <td>33.62053</td>\n",
       "      <td>7</td>\n",
       "      <td>1</td>\n",
       "    </tr>\n",
       "  </tbody>\n",
       "</table>\n",
       "</div>"
      ],
      "text/plain": [
       "                  track            artist                     uri  \\\n",
       "0         Walking Blues  Big Joe Williams  1ZjN5X8LmUB67pWPgimW3B   \n",
       "1  Suddenly Last Summer        The Motels  4fLIM0B1WwrLux9RdnMvze   \n",
       "2             Sanctuary        Béla Fleck  3DwlNfiCQSdj0GOxYkR9Rq   \n",
       "3        The Wild Rover        The Pogues  6JyYNPLalPgGa7XnclF5FO   \n",
       "4  In The Driver's Seat    John Schneider  6jJi8OXF5qaFdysB6sjWIT   \n",
       "\n",
       "   danceability  energy  key  loudness  mode  speechiness  acousticness  \\\n",
       "0         0.509   0.277    6   -14.323     1       0.0495         0.827   \n",
       "1         0.716   0.753    2    -5.682     1       0.0286         0.162   \n",
       "2         0.360   0.542    5   -13.885     1       0.0339         0.368   \n",
       "3         0.656   0.512    7   -11.872     1       0.0290         0.585   \n",
       "4         0.642   0.889    2    -5.620     0       0.0494         0.375   \n",
       "\n",
       "   instrumentalness  liveness  valence    tempo  duration_ms  time_signature  \\\n",
       "0           0.00206    0.0756    0.640  101.157       161893               4   \n",
       "1           0.03060    0.0831    0.561  120.141       222000               4   \n",
       "2           0.16500    0.1160    0.803  116.831       444907               4   \n",
       "3           0.00000    0.0720    0.880   97.500       157893               3   \n",
       "4           0.00000    0.1800    0.764  163.351       162293               4   \n",
       "\n",
       "   chorus_hit  sections  target  \n",
       "0    68.46530         7       0  \n",
       "1    57.71583        11       1  \n",
       "2    30.34574        17       0  \n",
       "3    50.97022         7       0  \n",
       "4    33.62053         7       1  "
      ]
     },
     "execution_count": 8,
     "metadata": {},
     "output_type": "execute_result"
    }
   ],
   "source": [
    "data.head() #successfully extracted the id"
   ]
  },
  {
   "cell_type": "markdown",
   "metadata": {},
   "source": [
    "# checking for duplicate rows"
   ]
  },
  {
   "cell_type": "code",
   "execution_count": 9,
   "metadata": {},
   "outputs": [
    {
     "data": {
      "text/plain": [
       "(6898,)"
      ]
     },
     "execution_count": 9,
     "metadata": {},
     "output_type": "execute_result"
    }
   ],
   "source": [
    "data['uri'].nunique(), "
   ]
  },
  {
   "cell_type": "code",
   "execution_count": 10,
   "metadata": {},
   "outputs": [
    {
     "data": {
      "text/plain": [
       "6ArFGc1tVxYEhmGreRYoAi    2\n",
       "0v9kGNjkKdQUdDoBIuiph4    2\n",
       "4XcUFQNTiX4IHmA4K51snP    2\n",
       "3dXSVFWK1s0PgtMrAifdDd    2\n",
       "3uy0jtkM8QYVTsBazkli1x    2\n",
       "                         ..\n",
       "0k3fBeBIcok5gbYQyQbxP5    1\n",
       "51o0KKiJkY7EOpxm0vtSs1    1\n",
       "09b2HxtYBFeBRoqcTdCCeJ    1\n",
       "2xEhTQcmrRNaxfUOvSAgXo    1\n",
       "6i1uWZYWabNHq2wQnoca58    1\n",
       "Name: uri, Length: 6898, dtype: int64"
      ]
     },
     "execution_count": 10,
     "metadata": {},
     "output_type": "execute_result"
    }
   ],
   "source": [
    "data['uri'].value_counts()\n"
   ]
  },
  {
   "cell_type": "code",
   "execution_count": 11,
   "metadata": {},
   "outputs": [
    {
     "data": {
      "text/plain": [
       "array([2, 1], dtype=int64)"
      ]
     },
     "execution_count": 11,
     "metadata": {},
     "output_type": "execute_result"
    }
   ],
   "source": [
    "data['uri'].value_counts().unique() "
   ]
  },
  {
   "cell_type": "code",
   "execution_count": 12,
   "metadata": {},
   "outputs": [],
   "source": [
    "dupe_mask = data['uri'].value_counts()==2"
   ]
  },
  {
   "cell_type": "code",
   "execution_count": 13,
   "metadata": {},
   "outputs": [
    {
     "data": {
      "text/plain": [
       "(<bound method IndexOpsMixin.value_counts of 6ArFGc1tVxYEhmGreRYoAi    True\n",
       " 0v9kGNjkKdQUdDoBIuiph4    True\n",
       " 4XcUFQNTiX4IHmA4K51snP    True\n",
       " 3dXSVFWK1s0PgtMrAifdDd    True\n",
       " 3uy0jtkM8QYVTsBazkli1x    True\n",
       " 1gQPqkrPZ1RypZvSYEAygs    True\n",
       " 3EgvmOhP3NQUHY7d6PDOUg    True\n",
       " 35Z9SYT8AjvgvUag0H4iQt    True\n",
       " 3PzsbWSQdLCKDLxn7YZfkM    True\n",
       " 7vvRkLPIvfjjmCIqNxBuEZ    True\n",
       " Name: uri, dtype: bool>, (10,))"
      ]
     },
     "execution_count": 13,
     "metadata": {},
     "output_type": "execute_result"
    }
   ],
   "source": [
    "dupe_ids = dupe_mask[dupe_mask]\n",
    "\n",
    "dupe_ids.value_counts,  dupe_ids.shape  "
   ]
  },
  {
   "cell_type": "code",
   "execution_count": 14,
   "metadata": {},
   "outputs": [
    {
     "data": {
      "text/plain": [
       "['6ArFGc1tVxYEhmGreRYoAi',\n",
       " '0v9kGNjkKdQUdDoBIuiph4',\n",
       " '4XcUFQNTiX4IHmA4K51snP',\n",
       " '3dXSVFWK1s0PgtMrAifdDd',\n",
       " '3uy0jtkM8QYVTsBazkli1x',\n",
       " '1gQPqkrPZ1RypZvSYEAygs',\n",
       " '3EgvmOhP3NQUHY7d6PDOUg',\n",
       " '35Z9SYT8AjvgvUag0H4iQt',\n",
       " '3PzsbWSQdLCKDLxn7YZfkM',\n",
       " '7vvRkLPIvfjjmCIqNxBuEZ']"
      ]
     },
     "execution_count": 14,
     "metadata": {},
     "output_type": "execute_result"
    }
   ],
   "source": [
    "#converting duplicate ids into a list\n",
    "dupe_ids  = dupe_ids.index\n",
    "dupe_ids = dupe_ids.tolist()\n",
    "dupe_ids"
   ]
  },
  {
   "cell_type": "code",
   "execution_count": 15,
   "metadata": {},
   "outputs": [],
   "source": [
    "duplicate_index = data.loc[data['uri'].isin(dupe_ids),:].index  # all the duplicted records\n",
    "duplicate_index = duplicate_index.tolist()"
   ]
  },
  {
   "cell_type": "markdown",
   "metadata": {},
   "source": [
    "# We will be removing all the duplication as they are few compared to data"
   ]
  },
  {
   "cell_type": "code",
   "execution_count": 16,
   "metadata": {},
   "outputs": [
    {
     "data": {
      "text/plain": [
       "(6888, 19)"
      ]
     },
     "execution_count": 16,
     "metadata": {},
     "output_type": "execute_result"
    }
   ],
   "source": [
    "data.drop(duplicate_index,axis=0,inplace=True)\n",
    "data.shape"
   ]
  },
  {
   "cell_type": "code",
   "execution_count": 17,
   "metadata": {},
   "outputs": [
    {
     "name": "stdout",
     "output_type": "stream",
     "text": [
      "<class 'pandas.core.frame.DataFrame'>\n",
      "Int64Index: 6888 entries, 0 to 6907\n",
      "Data columns (total 19 columns):\n",
      "track               6888 non-null object\n",
      "artist              6888 non-null object\n",
      "uri                 6888 non-null object\n",
      "danceability        6888 non-null float64\n",
      "energy              6888 non-null float64\n",
      "key                 6888 non-null int64\n",
      "loudness            6888 non-null float64\n",
      "mode                6888 non-null int64\n",
      "speechiness         6888 non-null float64\n",
      "acousticness        6888 non-null float64\n",
      "instrumentalness    6888 non-null float64\n",
      "liveness            6888 non-null float64\n",
      "valence             6888 non-null float64\n",
      "tempo               6888 non-null float64\n",
      "duration_ms         6888 non-null int64\n",
      "time_signature      6888 non-null int64\n",
      "chorus_hit          6888 non-null float64\n",
      "sections            6888 non-null int64\n",
      "target              6888 non-null int64\n",
      "dtypes: float64(10), int64(6), object(3)\n",
      "memory usage: 1.1+ MB\n"
     ]
    }
   ],
   "source": [
    "data.info()"
   ]
  },
  {
   "cell_type": "code",
   "execution_count": 18,
   "metadata": {},
   "outputs": [
    {
     "name": "stdout",
     "output_type": "stream",
     "text": [
      "shape of data (6888, 19)\n",
      "no. of unique rows 6888\n"
     ]
    }
   ],
   "source": [
    "print(\"shape of data\",data.shape )\n",
    "print(\"no. of unique rows\",data['uri'].nunique()) # no duplicates"
   ]
  },
  {
   "cell_type": "code",
   "execution_count": 19,
   "metadata": {},
   "outputs": [
    {
     "data": {
      "text/html": [
       "<div>\n",
       "<style scoped>\n",
       "    .dataframe tbody tr th:only-of-type {\n",
       "        vertical-align: middle;\n",
       "    }\n",
       "\n",
       "    .dataframe tbody tr th {\n",
       "        vertical-align: top;\n",
       "    }\n",
       "\n",
       "    .dataframe thead th {\n",
       "        text-align: right;\n",
       "    }\n",
       "</style>\n",
       "<table border=\"1\" class=\"dataframe\">\n",
       "  <thead>\n",
       "    <tr style=\"text-align: right;\">\n",
       "      <th></th>\n",
       "      <th>track</th>\n",
       "      <th>artist</th>\n",
       "      <th>uri</th>\n",
       "      <th>danceability</th>\n",
       "      <th>energy</th>\n",
       "      <th>key</th>\n",
       "      <th>loudness</th>\n",
       "      <th>mode</th>\n",
       "      <th>speechiness</th>\n",
       "      <th>acousticness</th>\n",
       "      <th>instrumentalness</th>\n",
       "      <th>liveness</th>\n",
       "      <th>valence</th>\n",
       "      <th>tempo</th>\n",
       "      <th>duration_ms</th>\n",
       "      <th>time_signature</th>\n",
       "      <th>chorus_hit</th>\n",
       "      <th>sections</th>\n",
       "      <th>target</th>\n",
       "    </tr>\n",
       "  </thead>\n",
       "  <tbody>\n",
       "    <tr>\n",
       "      <th>0</th>\n",
       "      <td>Walking Blues</td>\n",
       "      <td>Big Joe Williams</td>\n",
       "      <td>1ZjN5X8LmUB67pWPgimW3B</td>\n",
       "      <td>0.509</td>\n",
       "      <td>0.277</td>\n",
       "      <td>6</td>\n",
       "      <td>-14.323</td>\n",
       "      <td>1</td>\n",
       "      <td>0.0495</td>\n",
       "      <td>0.827</td>\n",
       "      <td>0.00206</td>\n",
       "      <td>0.0756</td>\n",
       "      <td>0.640</td>\n",
       "      <td>101.157</td>\n",
       "      <td>161893</td>\n",
       "      <td>4</td>\n",
       "      <td>68.46530</td>\n",
       "      <td>7</td>\n",
       "      <td>0</td>\n",
       "    </tr>\n",
       "    <tr>\n",
       "      <th>1</th>\n",
       "      <td>Suddenly Last Summer</td>\n",
       "      <td>The Motels</td>\n",
       "      <td>4fLIM0B1WwrLux9RdnMvze</td>\n",
       "      <td>0.716</td>\n",
       "      <td>0.753</td>\n",
       "      <td>2</td>\n",
       "      <td>-5.682</td>\n",
       "      <td>1</td>\n",
       "      <td>0.0286</td>\n",
       "      <td>0.162</td>\n",
       "      <td>0.03060</td>\n",
       "      <td>0.0831</td>\n",
       "      <td>0.561</td>\n",
       "      <td>120.141</td>\n",
       "      <td>222000</td>\n",
       "      <td>4</td>\n",
       "      <td>57.71583</td>\n",
       "      <td>11</td>\n",
       "      <td>1</td>\n",
       "    </tr>\n",
       "    <tr>\n",
       "      <th>2</th>\n",
       "      <td>Sanctuary</td>\n",
       "      <td>Béla Fleck</td>\n",
       "      <td>3DwlNfiCQSdj0GOxYkR9Rq</td>\n",
       "      <td>0.360</td>\n",
       "      <td>0.542</td>\n",
       "      <td>5</td>\n",
       "      <td>-13.885</td>\n",
       "      <td>1</td>\n",
       "      <td>0.0339</td>\n",
       "      <td>0.368</td>\n",
       "      <td>0.16500</td>\n",
       "      <td>0.1160</td>\n",
       "      <td>0.803</td>\n",
       "      <td>116.831</td>\n",
       "      <td>444907</td>\n",
       "      <td>4</td>\n",
       "      <td>30.34574</td>\n",
       "      <td>17</td>\n",
       "      <td>0</td>\n",
       "    </tr>\n",
       "    <tr>\n",
       "      <th>3</th>\n",
       "      <td>The Wild Rover</td>\n",
       "      <td>The Pogues</td>\n",
       "      <td>6JyYNPLalPgGa7XnclF5FO</td>\n",
       "      <td>0.656</td>\n",
       "      <td>0.512</td>\n",
       "      <td>7</td>\n",
       "      <td>-11.872</td>\n",
       "      <td>1</td>\n",
       "      <td>0.0290</td>\n",
       "      <td>0.585</td>\n",
       "      <td>0.00000</td>\n",
       "      <td>0.0720</td>\n",
       "      <td>0.880</td>\n",
       "      <td>97.500</td>\n",
       "      <td>157893</td>\n",
       "      <td>3</td>\n",
       "      <td>50.97022</td>\n",
       "      <td>7</td>\n",
       "      <td>0</td>\n",
       "    </tr>\n",
       "    <tr>\n",
       "      <th>4</th>\n",
       "      <td>In The Driver's Seat</td>\n",
       "      <td>John Schneider</td>\n",
       "      <td>6jJi8OXF5qaFdysB6sjWIT</td>\n",
       "      <td>0.642</td>\n",
       "      <td>0.889</td>\n",
       "      <td>2</td>\n",
       "      <td>-5.620</td>\n",
       "      <td>0</td>\n",
       "      <td>0.0494</td>\n",
       "      <td>0.375</td>\n",
       "      <td>0.00000</td>\n",
       "      <td>0.1800</td>\n",
       "      <td>0.764</td>\n",
       "      <td>163.351</td>\n",
       "      <td>162293</td>\n",
       "      <td>4</td>\n",
       "      <td>33.62053</td>\n",
       "      <td>7</td>\n",
       "      <td>1</td>\n",
       "    </tr>\n",
       "  </tbody>\n",
       "</table>\n",
       "</div>"
      ],
      "text/plain": [
       "                  track            artist                     uri  \\\n",
       "0         Walking Blues  Big Joe Williams  1ZjN5X8LmUB67pWPgimW3B   \n",
       "1  Suddenly Last Summer        The Motels  4fLIM0B1WwrLux9RdnMvze   \n",
       "2             Sanctuary        Béla Fleck  3DwlNfiCQSdj0GOxYkR9Rq   \n",
       "3        The Wild Rover        The Pogues  6JyYNPLalPgGa7XnclF5FO   \n",
       "4  In The Driver's Seat    John Schneider  6jJi8OXF5qaFdysB6sjWIT   \n",
       "\n",
       "   danceability  energy  key  loudness  mode  speechiness  acousticness  \\\n",
       "0         0.509   0.277    6   -14.323     1       0.0495         0.827   \n",
       "1         0.716   0.753    2    -5.682     1       0.0286         0.162   \n",
       "2         0.360   0.542    5   -13.885     1       0.0339         0.368   \n",
       "3         0.656   0.512    7   -11.872     1       0.0290         0.585   \n",
       "4         0.642   0.889    2    -5.620     0       0.0494         0.375   \n",
       "\n",
       "   instrumentalness  liveness  valence    tempo  duration_ms  time_signature  \\\n",
       "0           0.00206    0.0756    0.640  101.157       161893               4   \n",
       "1           0.03060    0.0831    0.561  120.141       222000               4   \n",
       "2           0.16500    0.1160    0.803  116.831       444907               4   \n",
       "3           0.00000    0.0720    0.880   97.500       157893               3   \n",
       "4           0.00000    0.1800    0.764  163.351       162293               4   \n",
       "\n",
       "   chorus_hit  sections  target  \n",
       "0    68.46530         7       0  \n",
       "1    57.71583        11       1  \n",
       "2    30.34574        17       0  \n",
       "3    50.97022         7       0  \n",
       "4    33.62053         7       1  "
      ]
     },
     "execution_count": 19,
     "metadata": {},
     "output_type": "execute_result"
    }
   ],
   "source": [
    "data.head()"
   ]
  },
  {
   "cell_type": "markdown",
   "metadata": {},
   "source": [
    "# now we will be dropping all the unnecessary columns which contain string which cant be eficiently converted into numerics"
   ]
  },
  {
   "cell_type": "code",
   "execution_count": 20,
   "metadata": {},
   "outputs": [],
   "source": [
    "data.drop(['track','artist','uri'],axis=1,inplace=True)"
   ]
  },
  {
   "cell_type": "code",
   "execution_count": 21,
   "metadata": {},
   "outputs": [
    {
     "data": {
      "text/html": [
       "<div>\n",
       "<style scoped>\n",
       "    .dataframe tbody tr th:only-of-type {\n",
       "        vertical-align: middle;\n",
       "    }\n",
       "\n",
       "    .dataframe tbody tr th {\n",
       "        vertical-align: top;\n",
       "    }\n",
       "\n",
       "    .dataframe thead th {\n",
       "        text-align: right;\n",
       "    }\n",
       "</style>\n",
       "<table border=\"1\" class=\"dataframe\">\n",
       "  <thead>\n",
       "    <tr style=\"text-align: right;\">\n",
       "      <th></th>\n",
       "      <th>danceability</th>\n",
       "      <th>energy</th>\n",
       "      <th>key</th>\n",
       "      <th>loudness</th>\n",
       "      <th>mode</th>\n",
       "      <th>speechiness</th>\n",
       "      <th>acousticness</th>\n",
       "      <th>instrumentalness</th>\n",
       "      <th>liveness</th>\n",
       "      <th>valence</th>\n",
       "      <th>tempo</th>\n",
       "      <th>duration_ms</th>\n",
       "      <th>time_signature</th>\n",
       "      <th>chorus_hit</th>\n",
       "      <th>sections</th>\n",
       "      <th>target</th>\n",
       "    </tr>\n",
       "  </thead>\n",
       "  <tbody>\n",
       "    <tr>\n",
       "      <th>0</th>\n",
       "      <td>0.509</td>\n",
       "      <td>0.277</td>\n",
       "      <td>6</td>\n",
       "      <td>-14.323</td>\n",
       "      <td>1</td>\n",
       "      <td>0.0495</td>\n",
       "      <td>0.827</td>\n",
       "      <td>0.00206</td>\n",
       "      <td>0.0756</td>\n",
       "      <td>0.640</td>\n",
       "      <td>101.157</td>\n",
       "      <td>161893</td>\n",
       "      <td>4</td>\n",
       "      <td>68.46530</td>\n",
       "      <td>7</td>\n",
       "      <td>0</td>\n",
       "    </tr>\n",
       "    <tr>\n",
       "      <th>1</th>\n",
       "      <td>0.716</td>\n",
       "      <td>0.753</td>\n",
       "      <td>2</td>\n",
       "      <td>-5.682</td>\n",
       "      <td>1</td>\n",
       "      <td>0.0286</td>\n",
       "      <td>0.162</td>\n",
       "      <td>0.03060</td>\n",
       "      <td>0.0831</td>\n",
       "      <td>0.561</td>\n",
       "      <td>120.141</td>\n",
       "      <td>222000</td>\n",
       "      <td>4</td>\n",
       "      <td>57.71583</td>\n",
       "      <td>11</td>\n",
       "      <td>1</td>\n",
       "    </tr>\n",
       "    <tr>\n",
       "      <th>2</th>\n",
       "      <td>0.360</td>\n",
       "      <td>0.542</td>\n",
       "      <td>5</td>\n",
       "      <td>-13.885</td>\n",
       "      <td>1</td>\n",
       "      <td>0.0339</td>\n",
       "      <td>0.368</td>\n",
       "      <td>0.16500</td>\n",
       "      <td>0.1160</td>\n",
       "      <td>0.803</td>\n",
       "      <td>116.831</td>\n",
       "      <td>444907</td>\n",
       "      <td>4</td>\n",
       "      <td>30.34574</td>\n",
       "      <td>17</td>\n",
       "      <td>0</td>\n",
       "    </tr>\n",
       "    <tr>\n",
       "      <th>3</th>\n",
       "      <td>0.656</td>\n",
       "      <td>0.512</td>\n",
       "      <td>7</td>\n",
       "      <td>-11.872</td>\n",
       "      <td>1</td>\n",
       "      <td>0.0290</td>\n",
       "      <td>0.585</td>\n",
       "      <td>0.00000</td>\n",
       "      <td>0.0720</td>\n",
       "      <td>0.880</td>\n",
       "      <td>97.500</td>\n",
       "      <td>157893</td>\n",
       "      <td>3</td>\n",
       "      <td>50.97022</td>\n",
       "      <td>7</td>\n",
       "      <td>0</td>\n",
       "    </tr>\n",
       "    <tr>\n",
       "      <th>4</th>\n",
       "      <td>0.642</td>\n",
       "      <td>0.889</td>\n",
       "      <td>2</td>\n",
       "      <td>-5.620</td>\n",
       "      <td>0</td>\n",
       "      <td>0.0494</td>\n",
       "      <td>0.375</td>\n",
       "      <td>0.00000</td>\n",
       "      <td>0.1800</td>\n",
       "      <td>0.764</td>\n",
       "      <td>163.351</td>\n",
       "      <td>162293</td>\n",
       "      <td>4</td>\n",
       "      <td>33.62053</td>\n",
       "      <td>7</td>\n",
       "      <td>1</td>\n",
       "    </tr>\n",
       "  </tbody>\n",
       "</table>\n",
       "</div>"
      ],
      "text/plain": [
       "   danceability  energy  key  loudness  mode  speechiness  acousticness  \\\n",
       "0         0.509   0.277    6   -14.323     1       0.0495         0.827   \n",
       "1         0.716   0.753    2    -5.682     1       0.0286         0.162   \n",
       "2         0.360   0.542    5   -13.885     1       0.0339         0.368   \n",
       "3         0.656   0.512    7   -11.872     1       0.0290         0.585   \n",
       "4         0.642   0.889    2    -5.620     0       0.0494         0.375   \n",
       "\n",
       "   instrumentalness  liveness  valence    tempo  duration_ms  time_signature  \\\n",
       "0           0.00206    0.0756    0.640  101.157       161893               4   \n",
       "1           0.03060    0.0831    0.561  120.141       222000               4   \n",
       "2           0.16500    0.1160    0.803  116.831       444907               4   \n",
       "3           0.00000    0.0720    0.880   97.500       157893               3   \n",
       "4           0.00000    0.1800    0.764  163.351       162293               4   \n",
       "\n",
       "   chorus_hit  sections  target  \n",
       "0    68.46530         7       0  \n",
       "1    57.71583        11       1  \n",
       "2    30.34574        17       0  \n",
       "3    50.97022         7       0  \n",
       "4    33.62053         7       1  "
      ]
     },
     "execution_count": 21,
     "metadata": {},
     "output_type": "execute_result"
    }
   ],
   "source": [
    "data.head()"
   ]
  },
  {
   "cell_type": "markdown",
   "metadata": {},
   "source": [
    "# Univariate analysis"
   ]
  },
  {
   "cell_type": "code",
   "execution_count": 22,
   "metadata": {},
   "outputs": [
    {
     "data": {
      "text/plain": [
       "<AxesSubplot:xlabel='target', ylabel='count'>"
      ]
     },
     "execution_count": 22,
     "metadata": {},
     "output_type": "execute_result"
    },
    {
     "data": {
      "image/png": "[encoded data removed]",
      "text/plain": [
       "<Figure size 432x288 with 1 Axes>"
      ]
     },
     "metadata": {
      "needs_background": "light"
     },
     "output_type": "display_data"
    }
   ],
   "source": [
    "#analysing class imbalance\n",
    "sns.countplot(data=data,x='target') "
   ]
  },
  {
   "cell_type": "code",
   "execution_count": 23,
   "metadata": {},
   "outputs": [
    {
     "data": {
      "text/plain": [
       "Index(['danceability', 'energy', 'key', 'loudness', 'mode', 'speechiness',\n",
       "       'acousticness', 'instrumentalness', 'liveness', 'valence', 'tempo',\n",
       "       'duration_ms', 'time_signature', 'chorus_hit', 'sections', 'target'],\n",
       "      dtype='object')"
      ]
     },
     "execution_count": 23,
     "metadata": {},
     "output_type": "execute_result"
    }
   ],
   "source": [
    "data.columns"
   ]
  },
  {
   "cell_type": "code",
   "execution_count": 24,
   "metadata": {},
   "outputs": [
    {
     "name": "stdout",
     "output_type": "stream",
     "text": [
      "<class 'pandas.core.frame.DataFrame'>\n",
      "Int64Index: 6888 entries, 0 to 6907\n",
      "Data columns (total 4 columns):\n",
      "danceability    6888 non-null float64\n",
      "energy          6888 non-null float64\n",
      "key             6888 non-null int64\n",
      "loudness        6888 non-null float64\n",
      "dtypes: float64(3), int64(1)\n",
      "memory usage: 589.1 KB\n"
     ]
    }
   ],
   "source": [
    "# checking appropriate data type\n",
    "data[['danceability', 'energy', 'key', 'loudness']].info() # every feature have appropriate datatype"
   ]
  },
  {
   "cell_type": "code",
   "execution_count": 25,
   "metadata": {},
   "outputs": [
    {
     "data": {
      "text/html": [
       "<div>\n",
       "<style scoped>\n",
       "    .dataframe tbody tr th:only-of-type {\n",
       "        vertical-align: middle;\n",
       "    }\n",
       "\n",
       "    .dataframe tbody tr th {\n",
       "        vertical-align: top;\n",
       "    }\n",
       "\n",
       "    .dataframe thead th {\n",
       "        text-align: right;\n",
       "    }\n",
       "</style>\n",
       "<table border=\"1\" class=\"dataframe\">\n",
       "  <thead>\n",
       "    <tr style=\"text-align: right;\">\n",
       "      <th></th>\n",
       "      <th>danceability</th>\n",
       "      <th>energy</th>\n",
       "      <th>key</th>\n",
       "      <th>loudness</th>\n",
       "    </tr>\n",
       "  </thead>\n",
       "  <tbody>\n",
       "    <tr>\n",
       "      <th>count</th>\n",
       "      <td>6888.000000</td>\n",
       "      <td>6888.000000</td>\n",
       "      <td>6888.000000</td>\n",
       "      <td>6888.000000</td>\n",
       "    </tr>\n",
       "    <tr>\n",
       "      <th>mean</th>\n",
       "      <td>0.563847</td>\n",
       "      <td>0.608058</td>\n",
       "      <td>5.236353</td>\n",
       "      <td>-11.040628</td>\n",
       "    </tr>\n",
       "    <tr>\n",
       "      <th>std</th>\n",
       "      <td>0.172947</td>\n",
       "      <td>0.243045</td>\n",
       "      <td>3.596968</td>\n",
       "      <td>4.682540</td>\n",
       "    </tr>\n",
       "    <tr>\n",
       "      <th>min</th>\n",
       "      <td>0.065600</td>\n",
       "      <td>0.000276</td>\n",
       "      <td>0.000000</td>\n",
       "      <td>-39.940000</td>\n",
       "    </tr>\n",
       "    <tr>\n",
       "      <th>25%</th>\n",
       "      <td>0.455000</td>\n",
       "      <td>0.435000</td>\n",
       "      <td>2.000000</td>\n",
       "      <td>-13.447000</td>\n",
       "    </tr>\n",
       "    <tr>\n",
       "      <th>50%</th>\n",
       "      <td>0.582000</td>\n",
       "      <td>0.637000</td>\n",
       "      <td>5.000000</td>\n",
       "      <td>-10.662000</td>\n",
       "    </tr>\n",
       "    <tr>\n",
       "      <th>75%</th>\n",
       "      <td>0.690000</td>\n",
       "      <td>0.809000</td>\n",
       "      <td>9.000000</td>\n",
       "      <td>-7.637750</td>\n",
       "    </tr>\n",
       "    <tr>\n",
       "      <th>max</th>\n",
       "      <td>0.988000</td>\n",
       "      <td>1.000000</td>\n",
       "      <td>11.000000</td>\n",
       "      <td>-0.683000</td>\n",
       "    </tr>\n",
       "  </tbody>\n",
       "</table>\n",
       "</div>"
      ],
      "text/plain": [
       "       danceability       energy          key     loudness\n",
       "count   6888.000000  6888.000000  6888.000000  6888.000000\n",
       "mean       0.563847     0.608058     5.236353   -11.040628\n",
       "std        0.172947     0.243045     3.596968     4.682540\n",
       "min        0.065600     0.000276     0.000000   -39.940000\n",
       "25%        0.455000     0.435000     2.000000   -13.447000\n",
       "50%        0.582000     0.637000     5.000000   -10.662000\n",
       "75%        0.690000     0.809000     9.000000    -7.637750\n",
       "max        0.988000     1.000000    11.000000    -0.683000"
      ]
     },
     "execution_count": 25,
     "metadata": {},
     "output_type": "execute_result"
    }
   ],
   "source": [
    "# checking range of first 4 features \n",
    "data[['danceability', 'energy', 'key', 'loudness']].describe()\n"
   ]
  },
  {
   "cell_type": "code",
   "execution_count": 26,
   "metadata": {},
   "outputs": [
    {
     "data": {
      "text/plain": [
       "[<matplotlib.lines.Line2D at 0x21a78924ec8>,\n",
       " <matplotlib.lines.Line2D at 0x21a7890c788>]"
      ]
     },
     "execution_count": 26,
     "metadata": {},
     "output_type": "execute_result"
    },
    {
     "data": {
      "image/png": "[encoded data removed]",
      "text/plain": [
       "<Figure size 720x720 with 3 Axes>"
      ]
     },
     "metadata": {
      "needs_background": "light"
     },
     "output_type": "display_data"
    }
   ],
   "source": [
    "plt.figure(figsize=(10,10))\n",
    "plt.subplot(2,2,1)\n",
    "data['danceability'].plot()\n",
    "plt.subplot(2,2,2)\n",
    "plt.plot(data['energy'],color='red')\n",
    "plt.subplot(2,2,3)\n",
    "plt.plot(data[['key','loudness']])\n"
   ]
  },
  {
   "cell_type": "markdown",
   "metadata": {},
   "source": [
    "#  danceabilty is well inside the range(0,1)\n",
    "# energy is well inside the range(0,1)\n",
    "# there's no -1 for keys-> every track has been assigned respective keys\n",
    "# loudness values are out of range(0,-60)db"
   ]
  },
  {
   "cell_type": "code",
   "execution_count": 27,
   "metadata": {},
   "outputs": [
    {
     "data": {
      "text/plain": [
       "Int64Index([], dtype='int64')"
      ]
     },
     "execution_count": 27,
     "metadata": {},
     "output_type": "execute_result"
    }
   ],
   "source": [
    "loudness_error_idnex = data[data['loudness']>0].index\n",
    "loudness_error_idnex"
   ]
  },
  {
   "cell_type": "code",
   "execution_count": 28,
   "metadata": {},
   "outputs": [],
   "source": [
    " # removing rows with out of range values in loudness column\n",
    "data.drop(loudness_error_idnex,axis=0, inplace=True)"
   ]
  },
  {
   "cell_type": "code",
   "execution_count": 29,
   "metadata": {},
   "outputs": [
    {
     "data": {
      "text/plain": [
       "(6888, 16)"
      ]
     },
     "execution_count": 29,
     "metadata": {},
     "output_type": "execute_result"
    }
   ],
   "source": [
    "data.shape  # record is removed "
   ]
  },
  {
   "cell_type": "code",
   "execution_count": 30,
   "metadata": {},
   "outputs": [
    {
     "name": "stdout",
     "output_type": "stream",
     "text": [
      "<class 'pandas.core.frame.DataFrame'>\n",
      "Int64Index: 6888 entries, 0 to 6907\n",
      "Data columns (total 5 columns):\n",
      "mode                6888 non-null int64\n",
      "speechiness         6888 non-null float64\n",
      "acousticness        6888 non-null float64\n",
      "instrumentalness    6888 non-null float64\n",
      "liveness            6888 non-null float64\n",
      "dtypes: float64(4), int64(1)\n",
      "memory usage: 322.9 KB\n"
     ]
    }
   ],
   "source": [
    "# checking appropriate datatype for next 5 columns\n",
    "data[['mode', 'speechiness',\n",
    "       'acousticness', 'instrumentalness', 'liveness',]].info() # datatypes are in acoordance with provided info"
   ]
  },
  {
   "cell_type": "code",
   "execution_count": 31,
   "metadata": {},
   "outputs": [
    {
     "data": {
      "text/html": [
       "<div>\n",
       "<style scoped>\n",
       "    .dataframe tbody tr th:only-of-type {\n",
       "        vertical-align: middle;\n",
       "    }\n",
       "\n",
       "    .dataframe tbody tr th {\n",
       "        vertical-align: top;\n",
       "    }\n",
       "\n",
       "    .dataframe thead th {\n",
       "        text-align: right;\n",
       "    }\n",
       "</style>\n",
       "<table border=\"1\" class=\"dataframe\">\n",
       "  <thead>\n",
       "    <tr style=\"text-align: right;\">\n",
       "      <th></th>\n",
       "      <th>mode</th>\n",
       "      <th>speechiness</th>\n",
       "      <th>acousticness</th>\n",
       "      <th>instrumentalness</th>\n",
       "      <th>liveness</th>\n",
       "    </tr>\n",
       "  </thead>\n",
       "  <tbody>\n",
       "    <tr>\n",
       "      <th>count</th>\n",
       "      <td>6888.000000</td>\n",
       "      <td>6888.000000</td>\n",
       "      <td>6888.000000</td>\n",
       "      <td>6888.000000</td>\n",
       "      <td>6888.000000</td>\n",
       "    </tr>\n",
       "    <tr>\n",
       "      <th>mean</th>\n",
       "      <td>0.687863</td>\n",
       "      <td>0.057832</td>\n",
       "      <td>0.293316</td>\n",
       "      <td>0.140259</td>\n",
       "      <td>0.201021</td>\n",
       "    </tr>\n",
       "    <tr>\n",
       "      <th>std</th>\n",
       "      <td>0.463399</td>\n",
       "      <td>0.057742</td>\n",
       "      <td>0.303117</td>\n",
       "      <td>0.288468</td>\n",
       "      <td>0.181697</td>\n",
       "    </tr>\n",
       "    <tr>\n",
       "      <th>min</th>\n",
       "      <td>0.000000</td>\n",
       "      <td>0.022300</td>\n",
       "      <td>0.000001</td>\n",
       "      <td>0.000000</td>\n",
       "      <td>0.018600</td>\n",
       "    </tr>\n",
       "    <tr>\n",
       "      <th>25%</th>\n",
       "      <td>0.000000</td>\n",
       "      <td>0.032700</td>\n",
       "      <td>0.033400</td>\n",
       "      <td>0.000003</td>\n",
       "      <td>0.084900</td>\n",
       "    </tr>\n",
       "    <tr>\n",
       "      <th>50%</th>\n",
       "      <td>1.000000</td>\n",
       "      <td>0.040600</td>\n",
       "      <td>0.172000</td>\n",
       "      <td>0.000323</td>\n",
       "      <td>0.131000</td>\n",
       "    </tr>\n",
       "    <tr>\n",
       "      <th>75%</th>\n",
       "      <td>1.000000</td>\n",
       "      <td>0.057900</td>\n",
       "      <td>0.499000</td>\n",
       "      <td>0.046000</td>\n",
       "      <td>0.266000</td>\n",
       "    </tr>\n",
       "    <tr>\n",
       "      <th>max</th>\n",
       "      <td>1.000000</td>\n",
       "      <td>0.903000</td>\n",
       "      <td>0.996000</td>\n",
       "      <td>1.000000</td>\n",
       "      <td>0.997000</td>\n",
       "    </tr>\n",
       "  </tbody>\n",
       "</table>\n",
       "</div>"
      ],
      "text/plain": [
       "              mode  speechiness  acousticness  instrumentalness     liveness\n",
       "count  6888.000000  6888.000000   6888.000000       6888.000000  6888.000000\n",
       "mean      0.687863     0.057832      0.293316          0.140259     0.201021\n",
       "std       0.463399     0.057742      0.303117          0.288468     0.181697\n",
       "min       0.000000     0.022300      0.000001          0.000000     0.018600\n",
       "25%       0.000000     0.032700      0.033400          0.000003     0.084900\n",
       "50%       1.000000     0.040600      0.172000          0.000323     0.131000\n",
       "75%       1.000000     0.057900      0.499000          0.046000     0.266000\n",
       "max       1.000000     0.903000      0.996000          1.000000     0.997000"
      ]
     },
     "execution_count": 31,
     "metadata": {},
     "output_type": "execute_result"
    }
   ],
   "source": [
    "data[['mode', 'speechiness',\n",
    "       'acousticness', 'instrumentalness', 'liveness',]].describe() # every feautre is within range"
   ]
  },
  {
   "cell_type": "code",
   "execution_count": 32,
   "metadata": {},
   "outputs": [
    {
     "data": {
      "text/plain": [
       "<AxesSubplot:xlabel='mode', ylabel='count'>"
      ]
     },
     "execution_count": 32,
     "metadata": {},
     "output_type": "execute_result"
    },
    {
     "data": {
      "image/png": "[encoded data removed]",
      "text/plain": [
       "<Figure size 432x288 with 1 Axes>"
      ]
     },
     "metadata": {
      "needs_background": "light"
     },
     "output_type": "display_data"
    }
   ],
   "source": [
    "sns.countplot(x=data['mode']) # have only two possible values 0 and 1, no noise in the feature"
   ]
  },
  {
   "cell_type": "code",
   "execution_count": 33,
   "metadata": {},
   "outputs": [
    {
     "name": "stdout",
     "output_type": "stream",
     "text": [
      "<class 'pandas.core.frame.DataFrame'>\n",
      "Int64Index: 6888 entries, 0 to 6907\n",
      "Data columns (total 6 columns):\n",
      "valence           6888 non-null float64\n",
      "tempo             6888 non-null float64\n",
      "duration_ms       6888 non-null int64\n",
      "time_signature    6888 non-null int64\n",
      "chorus_hit        6888 non-null float64\n",
      "sections          6888 non-null int64\n",
      "dtypes: float64(3), int64(3)\n",
      "memory usage: 696.7 KB\n"
     ]
    }
   ],
   "source": [
    "data[['valence', 'tempo',\n",
    "       'duration_ms', 'time_signature', 'chorus_hit', 'sections']].info() # data type is in accordance with provided info"
   ]
  },
  {
   "cell_type": "code",
   "execution_count": 34,
   "metadata": {},
   "outputs": [
    {
     "data": {
      "text/html": [
       "<div>\n",
       "<style scoped>\n",
       "    .dataframe tbody tr th:only-of-type {\n",
       "        vertical-align: middle;\n",
       "    }\n",
       "\n",
       "    .dataframe tbody tr th {\n",
       "        vertical-align: top;\n",
       "    }\n",
       "\n",
       "    .dataframe thead th {\n",
       "        text-align: right;\n",
       "    }\n",
       "</style>\n",
       "<table border=\"1\" class=\"dataframe\">\n",
       "  <thead>\n",
       "    <tr style=\"text-align: right;\">\n",
       "      <th></th>\n",
       "      <th>valence</th>\n",
       "      <th>tempo</th>\n",
       "      <th>duration_ms</th>\n",
       "      <th>time_signature</th>\n",
       "      <th>chorus_hit</th>\n",
       "      <th>sections</th>\n",
       "    </tr>\n",
       "  </thead>\n",
       "  <tbody>\n",
       "    <tr>\n",
       "      <th>count</th>\n",
       "      <td>6888.000000</td>\n",
       "      <td>6888.000000</td>\n",
       "      <td>6.888000e+03</td>\n",
       "      <td>6888.000000</td>\n",
       "      <td>6888.000000</td>\n",
       "      <td>6888.000000</td>\n",
       "    </tr>\n",
       "    <tr>\n",
       "      <th>mean</th>\n",
       "      <td>0.587686</td>\n",
       "      <td>120.669212</td>\n",
       "      <td>2.547319e+05</td>\n",
       "      <td>3.926103</td>\n",
       "      <td>39.759043</td>\n",
       "      <td>11.276132</td>\n",
       "    </tr>\n",
       "    <tr>\n",
       "      <th>std</th>\n",
       "      <td>0.263811</td>\n",
       "      <td>27.133829</td>\n",
       "      <td>1.074082e+05</td>\n",
       "      <td>0.356928</td>\n",
       "      <td>19.155173</td>\n",
       "      <td>4.474940</td>\n",
       "    </tr>\n",
       "    <tr>\n",
       "      <th>min</th>\n",
       "      <td>0.000010</td>\n",
       "      <td>39.002000</td>\n",
       "      <td>2.951400e+04</td>\n",
       "      <td>1.000000</td>\n",
       "      <td>0.000000</td>\n",
       "      <td>1.000000</td>\n",
       "    </tr>\n",
       "    <tr>\n",
       "      <th>25%</th>\n",
       "      <td>0.383000</td>\n",
       "      <td>102.622750</td>\n",
       "      <td>2.044935e+05</td>\n",
       "      <td>4.000000</td>\n",
       "      <td>27.439040</td>\n",
       "      <td>9.000000</td>\n",
       "    </tr>\n",
       "    <tr>\n",
       "      <th>50%</th>\n",
       "      <td>0.621500</td>\n",
       "      <td>119.546000</td>\n",
       "      <td>2.418600e+05</td>\n",
       "      <td>4.000000</td>\n",
       "      <td>35.573990</td>\n",
       "      <td>11.000000</td>\n",
       "    </tr>\n",
       "    <tr>\n",
       "      <th>75%</th>\n",
       "      <td>0.811000</td>\n",
       "      <td>135.196250</td>\n",
       "      <td>2.870000e+05</td>\n",
       "      <td>4.000000</td>\n",
       "      <td>47.316392</td>\n",
       "      <td>13.000000</td>\n",
       "    </tr>\n",
       "    <tr>\n",
       "      <th>max</th>\n",
       "      <td>0.990000</td>\n",
       "      <td>217.396000</td>\n",
       "      <td>2.223827e+06</td>\n",
       "      <td>5.000000</td>\n",
       "      <td>433.182000</td>\n",
       "      <td>73.000000</td>\n",
       "    </tr>\n",
       "  </tbody>\n",
       "</table>\n",
       "</div>"
      ],
      "text/plain": [
       "           valence        tempo   duration_ms  time_signature   chorus_hit  \\\n",
       "count  6888.000000  6888.000000  6.888000e+03     6888.000000  6888.000000   \n",
       "mean      0.587686   120.669212  2.547319e+05        3.926103    39.759043   \n",
       "std       0.263811    27.133829  1.074082e+05        0.356928    19.155173   \n",
       "min       0.000010    39.002000  2.951400e+04        1.000000     0.000000   \n",
       "25%       0.383000   102.622750  2.044935e+05        4.000000    27.439040   \n",
       "50%       0.621500   119.546000  2.418600e+05        4.000000    35.573990   \n",
       "75%       0.811000   135.196250  2.870000e+05        4.000000    47.316392   \n",
       "max       0.990000   217.396000  2.223827e+06        5.000000   433.182000   \n",
       "\n",
       "          sections  \n",
       "count  6888.000000  \n",
       "mean     11.276132  \n",
       "std       4.474940  \n",
       "min       1.000000  \n",
       "25%       9.000000  \n",
       "50%      11.000000  \n",
       "75%      13.000000  \n",
       "max      73.000000  "
      ]
     },
     "execution_count": 34,
     "metadata": {},
     "output_type": "execute_result"
    }
   ],
   "source": [
    "data[['valence', 'tempo',\n",
    "       'duration_ms', 'time_signature', 'chorus_hit', 'sections']].describe() # all the data are in specified range"
   ]
  },
  {
   "cell_type": "markdown",
   "metadata": {},
   "source": [
    "# Performing F-test to know the relation between every feature and target"
   ]
  },
  {
   "cell_type": "code",
   "execution_count": 35,
   "metadata": {},
   "outputs": [
    {
     "data": {
      "text/html": [
       "<div>\n",
       "<style scoped>\n",
       "    .dataframe tbody tr th:only-of-type {\n",
       "        vertical-align: middle;\n",
       "    }\n",
       "\n",
       "    .dataframe tbody tr th {\n",
       "        vertical-align: top;\n",
       "    }\n",
       "\n",
       "    .dataframe thead th {\n",
       "        text-align: right;\n",
       "    }\n",
       "</style>\n",
       "<table border=\"1\" class=\"dataframe\">\n",
       "  <thead>\n",
       "    <tr style=\"text-align: right;\">\n",
       "      <th></th>\n",
       "      <th>danceability</th>\n",
       "      <th>energy</th>\n",
       "      <th>key</th>\n",
       "      <th>loudness</th>\n",
       "      <th>mode</th>\n",
       "      <th>speechiness</th>\n",
       "      <th>acousticness</th>\n",
       "      <th>instrumentalness</th>\n",
       "      <th>liveness</th>\n",
       "      <th>valence</th>\n",
       "      <th>tempo</th>\n",
       "      <th>duration_ms</th>\n",
       "      <th>time_signature</th>\n",
       "      <th>chorus_hit</th>\n",
       "      <th>sections</th>\n",
       "      <th>target</th>\n",
       "    </tr>\n",
       "  </thead>\n",
       "  <tbody>\n",
       "    <tr>\n",
       "      <th>0</th>\n",
       "      <td>0.509</td>\n",
       "      <td>0.277</td>\n",
       "      <td>6</td>\n",
       "      <td>-14.323</td>\n",
       "      <td>1</td>\n",
       "      <td>0.0495</td>\n",
       "      <td>0.827</td>\n",
       "      <td>0.00206</td>\n",
       "      <td>0.0756</td>\n",
       "      <td>0.640</td>\n",
       "      <td>101.157</td>\n",
       "      <td>161893</td>\n",
       "      <td>4</td>\n",
       "      <td>68.46530</td>\n",
       "      <td>7</td>\n",
       "      <td>0</td>\n",
       "    </tr>\n",
       "    <tr>\n",
       "      <th>1</th>\n",
       "      <td>0.716</td>\n",
       "      <td>0.753</td>\n",
       "      <td>2</td>\n",
       "      <td>-5.682</td>\n",
       "      <td>1</td>\n",
       "      <td>0.0286</td>\n",
       "      <td>0.162</td>\n",
       "      <td>0.03060</td>\n",
       "      <td>0.0831</td>\n",
       "      <td>0.561</td>\n",
       "      <td>120.141</td>\n",
       "      <td>222000</td>\n",
       "      <td>4</td>\n",
       "      <td>57.71583</td>\n",
       "      <td>11</td>\n",
       "      <td>1</td>\n",
       "    </tr>\n",
       "    <tr>\n",
       "      <th>2</th>\n",
       "      <td>0.360</td>\n",
       "      <td>0.542</td>\n",
       "      <td>5</td>\n",
       "      <td>-13.885</td>\n",
       "      <td>1</td>\n",
       "      <td>0.0339</td>\n",
       "      <td>0.368</td>\n",
       "      <td>0.16500</td>\n",
       "      <td>0.1160</td>\n",
       "      <td>0.803</td>\n",
       "      <td>116.831</td>\n",
       "      <td>444907</td>\n",
       "      <td>4</td>\n",
       "      <td>30.34574</td>\n",
       "      <td>17</td>\n",
       "      <td>0</td>\n",
       "    </tr>\n",
       "    <tr>\n",
       "      <th>3</th>\n",
       "      <td>0.656</td>\n",
       "      <td>0.512</td>\n",
       "      <td>7</td>\n",
       "      <td>-11.872</td>\n",
       "      <td>1</td>\n",
       "      <td>0.0290</td>\n",
       "      <td>0.585</td>\n",
       "      <td>0.00000</td>\n",
       "      <td>0.0720</td>\n",
       "      <td>0.880</td>\n",
       "      <td>97.500</td>\n",
       "      <td>157893</td>\n",
       "      <td>3</td>\n",
       "      <td>50.97022</td>\n",
       "      <td>7</td>\n",
       "      <td>0</td>\n",
       "    </tr>\n",
       "    <tr>\n",
       "      <th>4</th>\n",
       "      <td>0.642</td>\n",
       "      <td>0.889</td>\n",
       "      <td>2</td>\n",
       "      <td>-5.620</td>\n",
       "      <td>0</td>\n",
       "      <td>0.0494</td>\n",
       "      <td>0.375</td>\n",
       "      <td>0.00000</td>\n",
       "      <td>0.1800</td>\n",
       "      <td>0.764</td>\n",
       "      <td>163.351</td>\n",
       "      <td>162293</td>\n",
       "      <td>4</td>\n",
       "      <td>33.62053</td>\n",
       "      <td>7</td>\n",
       "      <td>1</td>\n",
       "    </tr>\n",
       "  </tbody>\n",
       "</table>\n",
       "</div>"
      ],
      "text/plain": [
       "   danceability  energy  key  loudness  mode  speechiness  acousticness  \\\n",
       "0         0.509   0.277    6   -14.323     1       0.0495         0.827   \n",
       "1         0.716   0.753    2    -5.682     1       0.0286         0.162   \n",
       "2         0.360   0.542    5   -13.885     1       0.0339         0.368   \n",
       "3         0.656   0.512    7   -11.872     1       0.0290         0.585   \n",
       "4         0.642   0.889    2    -5.620     0       0.0494         0.375   \n",
       "\n",
       "   instrumentalness  liveness  valence    tempo  duration_ms  time_signature  \\\n",
       "0           0.00206    0.0756    0.640  101.157       161893               4   \n",
       "1           0.03060    0.0831    0.561  120.141       222000               4   \n",
       "2           0.16500    0.1160    0.803  116.831       444907               4   \n",
       "3           0.00000    0.0720    0.880   97.500       157893               3   \n",
       "4           0.00000    0.1800    0.764  163.351       162293               4   \n",
       "\n",
       "   chorus_hit  sections  target  \n",
       "0    68.46530         7       0  \n",
       "1    57.71583        11       1  \n",
       "2    30.34574        17       0  \n",
       "3    50.97022         7       0  \n",
       "4    33.62053         7       1  "
      ]
     },
     "execution_count": 35,
     "metadata": {},
     "output_type": "execute_result"
    }
   ],
   "source": [
    "data.head()"
   ]
  },
  {
   "cell_type": "code",
   "execution_count": 36,
   "metadata": {},
   "outputs": [
    {
     "data": {
      "text/plain": [
       "((6888, 15), (6888,))"
      ]
     },
     "execution_count": 36,
     "metadata": {},
     "output_type": "execute_result"
    }
   ],
   "source": [
    "x = data.iloc[:,:-1].values\n",
    "y = data.iloc[:,-1].values\n",
    "x.shape,y.shape"
   ]
  },
  {
   "cell_type": "code",
   "execution_count": 37,
   "metadata": {},
   "outputs": [],
   "source": [
    "from sklearn.feature_selection import f_classif\n",
    "f_stat,p_value = f_classif(x,y) "
   ]
  },
  {
   "cell_type": "code",
   "execution_count": 38,
   "metadata": {},
   "outputs": [],
   "source": [
    "feat_list = data.iloc[:,:-1].columns.tolist()"
   ]
  },
  {
   "cell_type": "code",
   "execution_count": 39,
   "metadata": {},
   "outputs": [
    {
     "data": {
      "text/html": [
       "<div>\n",
       "<style scoped>\n",
       "    .dataframe tbody tr th:only-of-type {\n",
       "        vertical-align: middle;\n",
       "    }\n",
       "\n",
       "    .dataframe tbody tr th {\n",
       "        vertical-align: top;\n",
       "    }\n",
       "\n",
       "    .dataframe thead th {\n",
       "        text-align: right;\n",
       "    }\n",
       "</style>\n",
       "<table border=\"1\" class=\"dataframe\">\n",
       "  <thead>\n",
       "    <tr style=\"text-align: right;\">\n",
       "      <th></th>\n",
       "      <th>Features</th>\n",
       "      <th>f_statistics</th>\n",
       "      <th>p_value</th>\n",
       "    </tr>\n",
       "  </thead>\n",
       "  <tbody>\n",
       "    <tr>\n",
       "      <th>7</th>\n",
       "      <td>instrumentalness</td>\n",
       "      <td>1208.963546</td>\n",
       "      <td>3.404364e-244</td>\n",
       "    </tr>\n",
       "    <tr>\n",
       "      <th>0</th>\n",
       "      <td>danceability</td>\n",
       "      <td>949.549776</td>\n",
       "      <td>1.905489e-195</td>\n",
       "    </tr>\n",
       "    <tr>\n",
       "      <th>6</th>\n",
       "      <td>acousticness</td>\n",
       "      <td>645.604961</td>\n",
       "      <td>3.253868e-136</td>\n",
       "    </tr>\n",
       "    <tr>\n",
       "      <th>9</th>\n",
       "      <td>valence</td>\n",
       "      <td>508.703683</td>\n",
       "      <td>9.761857e-109</td>\n",
       "    </tr>\n",
       "    <tr>\n",
       "      <th>3</th>\n",
       "      <td>loudness</td>\n",
       "      <td>459.261867</td>\n",
       "      <td>1.099870e-98</td>\n",
       "    </tr>\n",
       "    <tr>\n",
       "      <th>5</th>\n",
       "      <td>speechiness</td>\n",
       "      <td>274.449278</td>\n",
       "      <td>1.781137e-60</td>\n",
       "    </tr>\n",
       "    <tr>\n",
       "      <th>1</th>\n",
       "      <td>energy</td>\n",
       "      <td>247.969894</td>\n",
       "      <td>6.479587e-55</td>\n",
       "    </tr>\n",
       "    <tr>\n",
       "      <th>12</th>\n",
       "      <td>time_signature</td>\n",
       "      <td>114.180142</td>\n",
       "      <td>1.915976e-26</td>\n",
       "    </tr>\n",
       "    <tr>\n",
       "      <th>8</th>\n",
       "      <td>liveness</td>\n",
       "      <td>70.621513</td>\n",
       "      <td>5.206727e-17</td>\n",
       "    </tr>\n",
       "    <tr>\n",
       "      <th>10</th>\n",
       "      <td>tempo</td>\n",
       "      <td>14.560149</td>\n",
       "      <td>1.369443e-04</td>\n",
       "    </tr>\n",
       "    <tr>\n",
       "      <th>4</th>\n",
       "      <td>mode</td>\n",
       "      <td>13.973542</td>\n",
       "      <td>1.869036e-04</td>\n",
       "    </tr>\n",
       "    <tr>\n",
       "      <th>13</th>\n",
       "      <td>chorus_hit</td>\n",
       "      <td>4.028564</td>\n",
       "      <td>4.477501e-02</td>\n",
       "    </tr>\n",
       "    <tr>\n",
       "      <th>11</th>\n",
       "      <td>duration_ms</td>\n",
       "      <td>3.486851</td>\n",
       "      <td>6.190060e-02</td>\n",
       "    </tr>\n",
       "    <tr>\n",
       "      <th>2</th>\n",
       "      <td>key</td>\n",
       "      <td>1.861821</td>\n",
       "      <td>1.724594e-01</td>\n",
       "    </tr>\n",
       "    <tr>\n",
       "      <th>14</th>\n",
       "      <td>sections</td>\n",
       "      <td>1.265974</td>\n",
       "      <td>2.605626e-01</td>\n",
       "    </tr>\n",
       "  </tbody>\n",
       "</table>\n",
       "</div>"
      ],
      "text/plain": [
       "            Features  f_statistics        p_value\n",
       "7   instrumentalness   1208.963546  3.404364e-244\n",
       "0       danceability    949.549776  1.905489e-195\n",
       "6       acousticness    645.604961  3.253868e-136\n",
       "9            valence    508.703683  9.761857e-109\n",
       "3           loudness    459.261867   1.099870e-98\n",
       "5        speechiness    274.449278   1.781137e-60\n",
       "1             energy    247.969894   6.479587e-55\n",
       "12    time_signature    114.180142   1.915976e-26\n",
       "8           liveness     70.621513   5.206727e-17\n",
       "10             tempo     14.560149   1.369443e-04\n",
       "4               mode     13.973542   1.869036e-04\n",
       "13        chorus_hit      4.028564   4.477501e-02\n",
       "11       duration_ms      3.486851   6.190060e-02\n",
       "2                key      1.861821   1.724594e-01\n",
       "14          sections      1.265974   2.605626e-01"
      ]
     },
     "execution_count": 39,
     "metadata": {},
     "output_type": "execute_result"
    }
   ],
   "source": [
    "# making a dataframe\n",
    "dict = {'Features':feat_list,'f_statistics':f_stat,'p_value':p_value}\n",
    "relation = pd.DataFrame(dict)\n",
    "relation.sort_values(by='p_value')"
   ]
  },
  {
   "cell_type": "markdown",
   "metadata": {},
   "source": [
    "# Multivariate analysis"
   ]
  },
  {
   "cell_type": "code",
   "execution_count": 40,
   "metadata": {},
   "outputs": [],
   "source": [
    "correlation = data.corr()"
   ]
  },
  {
   "cell_type": "code",
   "execution_count": 41,
   "metadata": {},
   "outputs": [
    {
     "data": {
      "text/plain": [
       "<function matplotlib.pyplot.tight_layout(*, pad=1.08, h_pad=None, w_pad=None, rect=None)>"
      ]
     },
     "execution_count": 41,
     "metadata": {},
     "output_type": "execute_result"
    },
    {
     "data": {
      "image/png": "[encoded data removed]",
      "text/plain": [
       "<Figure size 1080x864 with 2 Axes>"
      ]
     },
     "metadata": {
      "needs_background": "light"
     },
     "output_type": "display_data"
    }
   ],
   "source": [
    "plt.figure(figsize=(15,12))\n",
    "sns.heatmap(correlation, annot=True)\n",
    "plt.tight_layout"
   ]
  },
  {
   "cell_type": "markdown",
   "metadata": {},
   "source": [
    "# strong features(accordance with f-test) --> \n",
    "danceability,  loudness,  acousticness,  instrumentalness,  valence\n",
    "\n",
    "# less imortant feature(accordance with f-test)-->\n",
    "duration,  section,  mode,  time_signature,  chorus hit\n",
    "\n",
    "# least imortant-->  \n",
    "energy,key,speecheness,liveliness,tempo"
   ]
  }
 ],
 "metadata": {
  "kernelspec": {
   "display_name": "Python 3",
   "language": "python",
   "name": "python3"
  },
  "language_info": {
   "codemirror_mode": {
    "name": "ipython",
    "version": 3
   },
   "file_extension": ".py",
   "mimetype": "text/x-python",
   "name": "python",
   "nbconvert_exporter": "python",
   "pygments_lexer": "ipython3",
   "version": "3.7.5"
  }
 },
 "nbformat": 4,
 "nbformat_minor": 4
}
